{
 "cells": [
  {
   "cell_type": "markdown",
   "id": "15121df6",
   "metadata": {},
   "source": [
    "# 1. Python Output / Print function"
   ]
  },
  {
   "cell_type": "code",
   "execution_count": 1,
   "id": "e7d52bce",
   "metadata": {},
   "outputs": [
    {
     "name": "stdout",
     "output_type": "stream",
     "text": [
      "Hello World!\n"
     ]
    }
   ],
   "source": [
    "#print() function is used to show any output on the screen\n",
    "print('Hello World!')"
   ]
  },
  {
   "cell_type": "code",
   "execution_count": 2,
   "id": "a8519563",
   "metadata": {},
   "outputs": [
    {
     "name": "stdout",
     "output_type": "stream",
     "text": [
      "Ayesha Noreen\n"
     ]
    }
   ],
   "source": [
    "#print a name Ayesha Noreen on the screen\n",
    "print('Ayesha Noreen')"
   ]
  },
  {
   "cell_type": "code",
   "execution_count": 3,
   "id": "559d4156",
   "metadata": {},
   "outputs": [
    {
     "ename": "SyntaxError",
     "evalue": "invalid syntax (68925092.py, line 2)",
     "output_type": "error",
     "traceback": [
      "\u001b[1;36m  Cell \u001b[1;32mIn[3], line 2\u001b[1;36m\u001b[0m\n\u001b[1;33m    print(Ayesha Noreen)\u001b[0m\n\u001b[1;37m                 ^\u001b[0m\n\u001b[1;31mSyntaxError\u001b[0m\u001b[1;31m:\u001b[0m invalid syntax\n"
     ]
    }
   ],
   "source": [
    "#text data / strings should always kept in inverted commas, otherwisw it will give syntax Error\n",
    "print(Ayesha Noreen)"
   ]
  },
  {
   "cell_type": "code",
   "execution_count": 6,
   "id": "1b4e51fb",
   "metadata": {},
   "outputs": [
    {
     "name": "stdout",
     "output_type": "stream",
     "text": [
      "45\n",
      "9\n"
     ]
    }
   ],
   "source": [
    "#we can also print 'numbers'\n",
    "print(45)\n",
    "#we will get the addition of 4 and 5\n",
    "print(4 + 5)"
   ]
  },
  {
   "cell_type": "code",
   "execution_count": 7,
   "id": "e2138c15",
   "metadata": {},
   "outputs": [
    {
     "name": "stdout",
     "output_type": "stream",
     "text": [
      "4.98\n",
      "8.4\n"
     ]
    }
   ],
   "source": [
    "#printing 'float'\n",
    "print(4.98)\n",
    "#we will get the addition of two decimal numbers\n",
    "print(4.98 + 3.42)"
   ]
  },
  {
   "cell_type": "code",
   "execution_count": 8,
   "id": "1830335b",
   "metadata": {},
   "outputs": [
    {
     "name": "stdout",
     "output_type": "stream",
     "text": [
      "True\n",
      "False\n"
     ]
    }
   ],
   "source": [
    "#and now we will print out boolean numbers\n",
    "print(True)\n",
    "print(False)"
   ]
  },
  {
   "cell_type": "code",
   "execution_count": 9,
   "id": "f2994977",
   "metadata": {},
   "outputs": [
    {
     "name": "stdout",
     "output_type": "stream",
     "text": [
      "Ayesha 7 7.44 True 5\n"
     ]
    }
   ],
   "source": [
    "#python print function is way more flexible, we can print multiple values togather.\n",
    "#We can do it by placing comma between multiple values, let me show you....\n",
    "print('Ayesha', 7, 7.44, True, 2+3)"
   ]
  },
  {
   "cell_type": "code",
   "execution_count": 10,
   "id": "3e02f736",
   "metadata": {},
   "outputs": [
    {
     "name": "stdout",
     "output_type": "stream",
     "text": [
      "Ayesha/7/7.44/True/5\n"
     ]
    }
   ],
   "source": [
    "#as we can see the above output of multiple values which are separated by a space' ', it's because default value separater is space\n",
    "#if we want to separate them with other any other separater like(/), we can also do that, let me show you how??\n",
    "\n",
    "print('Ayesha', 7, 7.44, True, 2+3 , sep = '/')"
   ]
  },
  {
   "cell_type": "code",
   "execution_count": null,
   "id": "7512c5ac",
   "metadata": {},
   "outputs": [],
   "source": [
    "#multiple print statements by default ends with new line\n",
    "print('Ayesha')\n",
    "print('Noreen')"
   ]
  },
  {
   "cell_type": "code",
   "execution_count": null,
   "id": "040c0fe3",
   "metadata": {},
   "outputs": [],
   "source": [
    "#we can move the output on a single \n",
    "print('Ayesha' , end = '-')\n",
    "print('Noreen')"
   ]
  },
  {
   "cell_type": "markdown",
   "id": "d41aee68",
   "metadata": {},
   "source": [
    "# 2. Data Types"
   ]
  },
  {
   "cell_type": "code",
   "execution_count": null,
   "id": "b84e591d",
   "metadata": {},
   "outputs": [],
   "source": [
    "#Integers/ Numbers\n",
    "print(2)\n",
    "#maximum limit of numbers is 1*10^308\n",
    "print(1e308)\n",
    "#1*10^309\n",
    "print(1e309)"
   ]
  },
  {
   "cell_type": "code",
   "execution_count": null,
   "id": "15dc8b02",
   "metadata": {},
   "outputs": [],
   "source": [
    "#Decimal/Float\n",
    "print(2.45)\n",
    "#maximum limit of decimal\n",
    "print(1.6e308)\n",
    "#infinity\n",
    "print(1.6e309)"
   ]
  },
  {
   "cell_type": "code",
   "execution_count": null,
   "id": "80281a1a",
   "metadata": {},
   "outputs": [],
   "source": [
    "#Boolean\n",
    "#True\n",
    "print(True)\n",
    "#False\n",
    "print(False)"
   ]
  },
  {
   "cell_type": "code",
   "execution_count": null,
   "id": "47610915",
   "metadata": {},
   "outputs": [],
   "source": [
    "#comple Numbers\n",
    "print(3+5j)"
   ]
  },
  {
   "cell_type": "code",
   "execution_count": null,
   "id": "cf6a9e77",
   "metadata": {},
   "outputs": [],
   "source": [
    "#Text or String\n",
    "print('Hello World!')\n",
    "#we can print text or string in single, double and triple quotes\n",
    "print(\"Hello World!\")\n",
    "print('''Hello! Beautiful People.''')"
   ]
  },
  {
   "cell_type": "code",
   "execution_count": null,
   "id": "b4236668",
   "metadata": {},
   "outputs": [],
   "source": [
    "#List, it's like an array in C++\n",
    "print([1, 2, 3, 'Italy', 'Turkye', 'Finland'])"
   ]
  },
  {
   "cell_type": "code",
   "execution_count": null,
   "id": "94cd2e0a",
   "metadata": {},
   "outputs": [],
   "source": [
    "#Tuples\n",
    "print((1, 2, 3, 4, 5, 'Belgium'))"
   ]
  },
  {
   "cell_type": "code",
   "execution_count": null,
   "id": "090cff9c",
   "metadata": {},
   "outputs": [],
   "source": [
    "#Sets\n",
    "print({1, 2, 4, 5, 3, 6})"
   ]
  },
  {
   "cell_type": "code",
   "execution_count": null,
   "id": "f0ba51c6",
   "metadata": {},
   "outputs": [],
   "source": [
    "#Dictionaries, they are always in (key, value) pairs\n",
    "print({'name': 'Ayesha', 'gender': 'female', 'age': 21})"
   ]
  },
  {
   "cell_type": "markdown",
   "id": "8d9f2f7b",
   "metadata": {},
   "source": [
    "# 3. Variables"
   ]
  },
  {
   "cell_type": "code",
   "execution_count": null,
   "id": "42984faf",
   "metadata": {},
   "outputs": [],
   "source": [
    "#we can consider variables as containers which holds values for future use\n",
    "#Static Vs Dynamic Typing\n",
    "#Static Vs Dynamic Binding\n",
    "#Multiple Cool ways of declaring variables"
   ]
  },
  {
   "cell_type": "code",
   "execution_count": null,
   "id": "b814cbb4",
   "metadata": {},
   "outputs": [],
   "source": [
    "#(name) is a variable which is holding the value (Ayesha)\n",
    "name = 'Ayesha'\n",
    "#when we will print the variable (name), we will get it's value on the screen\n",
    "print(name)"
   ]
  },
  {
   "cell_type": "code",
   "execution_count": null,
   "id": "b61e0082",
   "metadata": {},
   "outputs": [],
   "source": [
    "#a & b are variables which are golding the values 4 & 7 respectively\n",
    "a = 4\n",
    "b = 7\n",
    "print(a + b)"
   ]
  },
  {
   "cell_type": "code",
   "execution_count": null,
   "id": "18509a41",
   "metadata": {},
   "outputs": [],
   "source": [
    "#Dynamic Typing\n",
    "#In Dynamic Typing we create variable without intializing it's data type\n",
    "#beacuse pyhton is enough intelligent that it will pick up the type of variable, without specifying type of variable\n",
    "a = 5\n",
    "print(a)\n",
    "\n",
    "#Static Typing \n",
    "#In Static Typing we declare the variable by specifyig it's type, that what soet of data a variable is going to hold.\n",
    "#we use Static Typing in C, C++ or java, pyhton does not support it\n",
    "int a = 5 #this is static typing"
   ]
  },
  {
   "cell_type": "code",
   "execution_count": null,
   "id": "ce5411e7",
   "metadata": {},
   "outputs": [],
   "source": [
    "#Dynamic Binding\n",
    "#dynamic binding means we can reuse a variable with different data types in a single program, and pyhton support dynamic binding\n",
    "#here is the example\n",
    "\n",
    "a = 4    #variable (a) holding integer value\n",
    "print(a)\n",
    "a = 'Ayesha'\n",
    "print(a)  #variable (a) holding string data type\n",
    "\n",
    "#Static Binding\n",
    "#in static binding we can't reuse a variable with different data types in a single program, C, C++ or java does not support this\n"
   ]
  },
  {
   "cell_type": "code",
   "execution_count": null,
   "id": "1fa9e728",
   "metadata": {},
   "outputs": [],
   "source": [
    "#Different variable declaration techniques\n",
    "# a = 1\n",
    "# b = 2\n",
    "# c = 3\n",
    "\n",
    "# print(a)\n",
    "# print(b)\n",
    "# print(c)\n",
    "#here we can do above code in sindle line, assign 1 to a, 2 to b and value 3 to variable c\n",
    "a, b, c = 1, 2, 3\n",
    "print(a, b, c)\n",
    "print(a+b+c)"
   ]
  },
  {
   "cell_type": "code",
   "execution_count": null,
   "id": "fcda8aaa",
   "metadata": {},
   "outputs": [],
   "source": [
    "#assigning single value to multiple variables\n",
    "# a = 5\n",
    "# b = 5\n",
    "# c = 5\n",
    "#we can do the same on single line\n",
    "a = b = c = 5\n",
    "print(a)\n",
    "print(b)\n",
    "print(c)"
   ]
  },
  {
   "cell_type": "markdown",
   "id": "6ee2a571",
   "metadata": {},
   "source": [
    "# 4.keywords & Identifiers"
   ]
  },
  {
   "cell_type": "code",
   "execution_count": null,
   "id": "47c3d332",
   "metadata": {},
   "outputs": [],
   "source": [
    "#keywords are the certain words which are reserved by compiler or intrepreter for their own purpose, in order to understand the program.\n",
    "#For example: -> by print() keyword compiler understands that something is going to print out on the screen.\n",
    "#             ->and some other keywords are for, if, else ect. that we commonly use. There are 32 keywords list in python."
   ]
  },
  {
   "cell_type": "code",
   "execution_count": null,
   "id": "4a71cae8",
   "metadata": {},
   "outputs": [],
   "source": [
    "#Identifiers are the name that we(programmers) gave to something\n",
    "#For example name of a variable, a class name, function name or an object name that we gave them by our own,in order to identify them\n",
    "#Rules/ Conventions to write an identifier name:\n",
    "#Identifier name can't be started with number\n",
    "\n",
    "# 1name = 'Ayesha' #invalid identifier name\n",
    "# print(1name)\n",
    "\n",
    "name1 = 'Ayesha'  #valid name syntax\n",
    "print(name1)\n",
    "\n",
    "#we can't add spaces between identifiers\n",
    "# name 1 = 'Ayesha'\n",
    "# print(name 1)\n",
    "\n",
    "#we can't use special characters except underscore(_)\n",
    "f_name = 'Ayesha'\n",
    "print(f_name)\n",
    "\n",
    "_ = 'underscore' #we can alsouse only (_) to name a variable \n",
    "print(_)"
   ]
  },
  {
   "cell_type": "markdown",
   "id": "ca0aff06",
   "metadata": {},
   "source": [
    "# 5.User Input"
   ]
  },
  {
   "cell_type": "code",
   "execution_count": null,
   "id": "8379730e",
   "metadata": {},
   "outputs": [],
   "source": [
    "#we take input from the user trough input() function\n",
    "input('Enter first name: ')\n",
    "input('Enter a number: ')"
   ]
  },
  {
   "cell_type": "code",
   "execution_count": null,
   "id": "7ea2bb91",
   "metadata": {},
   "outputs": [],
   "source": [
    "#As we have learned how to take input from the user, \n",
    "#So we are going to take two numbers from user and than we are going to add them\n",
    "#Steps to follow:\n",
    "# 1. Take two numbers input from the user and then store them into variables\n",
    "f_num = input('Enter first number: ')\n",
    "s_num = input('Enter second number: ')\n",
    "# 2. Add those two numbers and store that result\n",
    "result = f_num + s_num\n",
    "# 3. Finally display the result\n",
    "print(result)\n",
    "# .\n",
    "# .\n",
    "# .\n",
    "# .\n",
    "# .\n",
    "# .\n",
    "# OPPs.... we got the wrong output, we wanted to add these numbers mathematically, but we get them as a string\n",
    "# why??\n",
    "# Beacuse pyhton take all the input as a string as it is universal data format\n",
    "# so in order to get correct output we will convert these numbers from string data type to integer data type\n",
    "# we will first learn type conversion, then w'll get back to this program\n",
    "#If you are done with type conversion let's do the above program again.\n",
    "#Steps to follow:\n",
    "# 1. we are taking input from user, then converting it to \"int\" data type and then storing it into variables.\n",
    "f_num = int(input('Enter first number: '))\n",
    "s_num = int(input('Enter second number: '))\n",
    "# 2. Add those two numbers and store that result\n",
    "result = f_num + s_num\n",
    "# 3. Finally display the result\n",
    "print(result)"
   ]
  },
  {
   "cell_type": "markdown",
   "id": "1dd0e13a",
   "metadata": {},
   "source": [
    "# 6. Type Conversion"
   ]
  },
  {
   "cell_type": "code",
   "execution_count": null,
   "id": "42a13a0d",
   "metadata": {},
   "outputs": [],
   "source": [
    "#Type conversion means converting values of one data type to another data type\n",
    "# There are two types of conversions:\n",
    "#     Implicit Conversion\n",
    "#     Explicit Conversion\n",
    "\n",
    "# Implicit Conversion is the one in which python automatically convert one data type to another\n",
    "# Here is how\n",
    "a, b = 3, 4.7\n",
    "print(type(3), type(4.7))\n",
    "print(a + b) #in output we get answer in decimal, beacuse pyhton automatically converted (3) int into (3.0) decimal\n",
    "print(type(a+b))\n",
    "\n",
    "#but sometimes python don't do that beacuse it's not possible in some cases, lrt's see how\n",
    "\n",
    "print(4 + '4')# first 4 is of integer type, and 2nd 4 is of string type, so it's not possible to add string and integer\n",
    "\n"
   ]
  },
  {
   "cell_type": "code",
   "execution_count": null,
   "id": "b063a46b",
   "metadata": {},
   "outputs": [],
   "source": [
    "# we do Explicit conversion by our ownself\n",
    "# here is how\n",
    "# str to int\n",
    "a = 4\n",
    "b = '4'\n",
    "print(a + int(b))\n",
    "#in type conversion original value of the variable does not chnage, instead of that a new value is created\n",
    "# let me show you\n",
    "print(type(b))"
   ]
  },
  {
   "cell_type": "markdown",
   "id": "9a8fdad5",
   "metadata": {},
   "source": [
    "# 7. Literals"
   ]
  },
  {
   "cell_type": "code",
   "execution_count": 32,
   "id": "f641be10",
   "metadata": {},
   "outputs": [
    {
     "name": "stdout",
     "output_type": "stream",
     "text": [
      "14\n",
      "305\n",
      "131\n",
      "1117\n",
      "1.56\n",
      "1560000000.0\n",
      "0.0001566\n",
      "Hello World!\n",
      "Hello World!\n",
      "This is multiline string, and in order to represent it, we placed text inti triple quotes\n",
      "C\n",
      "😊😉😜🤪\n"
     ]
    }
   ],
   "source": [
    "#'literals' are actually the 'values' that we store in the variables.\n",
    "#In the below piece of code 'a' is variable, '=' is operator and '5' is literal/value\n",
    "#a = 5\n",
    "\n",
    "#there are several ways to represent literals\n",
    "#Binary Literals\n",
    "binary = 0b1110\n",
    "#Decimal Literals\n",
    "dec = 305\n",
    "#Octal literals\n",
    "octal = 0o203\n",
    "#Hexadecimal literals\n",
    "hexd = 0x45d\n",
    "\n",
    "print(binary)\n",
    "print(dec)\n",
    "print(octal)\n",
    "print(hexd)\n",
    "\n",
    "\n",
    "#Float Literals\n",
    "f = 1.56\n",
    "#1.56*10^308  //maximum limit\n",
    "#1.56*10^9\n",
    "fl = 1.56e9  #to represent large flot\n",
    "#1.566*10-4\n",
    "fs = 1.566e-4 #to represent too small float literals\n",
    "\n",
    "print(f)\n",
    "print(fl)\n",
    "print(fs)\n",
    "\n",
    "\n",
    "#String literals\n",
    "string = 'Hello World!'\n",
    "dstring = \"Hello World!\"\n",
    "#way to represent multiline string\n",
    "multiline_Str = \"\"\"This is multiline string, and in order to represent it, we placed text inti triple quotes\"\"\"\n",
    "#character\n",
    "character = \"C\"\n",
    "unicode_str = u\"\\U0001F60A\\U0001F609\\U0001F61C\\U0001F92A\"\n",
    "\n",
    "print(string)\n",
    "print(dstring)\n",
    "print(multiline_Str)\n",
    "print(character)\n",
    "print(unicode_str)"
   ]
  },
  {
   "cell_type": "code",
   "execution_count": 35,
   "id": "4da1be26",
   "metadata": {},
   "outputs": [
    {
     "name": "stdout",
     "output_type": "stream",
     "text": [
      "(3+4j)\n",
      "4.0 3.0\n"
     ]
    }
   ],
   "source": [
    "#Complex Literals\n",
    "comp = 3+4j\n",
    "print(comp)\n",
    "#printing imaginary and real part separately\n",
    "print(comp.imag, comp.real)"
   ]
  },
  {
   "cell_type": "code",
   "execution_count": 37,
   "id": "80b89d2c",
   "metadata": {},
   "outputs": [
    {
     "name": "stdout",
     "output_type": "stream",
     "text": [
      "10 9\n"
     ]
    }
   ],
   "source": [
    "#python treats boolen literals as numbers wwhile performing calculations\n",
    "#it treats 'True' as 1 and 'False' as 0\n",
    "a = True + 9 # 1+9\n",
    "b = False + 9 # 0+9\n",
    "print(a, b)"
   ]
  },
  {
   "cell_type": "code",
   "execution_count": null,
   "id": "6c288f9f",
   "metadata": {},
   "outputs": [],
   "source": []
  }
 ],
 "metadata": {
  "kernelspec": {
   "display_name": "Python 3 (ipykernel)",
   "language": "python",
   "name": "python3"
  },
  "language_info": {
   "codemirror_mode": {
    "name": "ipython",
    "version": 3
   },
   "file_extension": ".py",
   "mimetype": "text/x-python",
   "name": "python",
   "nbconvert_exporter": "python",
   "pygments_lexer": "ipython3",
   "version": "3.9.16"
  }
 },
 "nbformat": 4,
 "nbformat_minor": 5
}
