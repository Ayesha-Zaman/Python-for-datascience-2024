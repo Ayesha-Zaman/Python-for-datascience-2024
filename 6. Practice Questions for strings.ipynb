{
 "cells": [
  {
   "cell_type": "code",
   "execution_count": 2,
   "id": "43a696d1",
   "metadata": {},
   "outputs": [
    {
     "name": "stdout",
     "output_type": "stream",
     "text": [
      "Enter any string: data science\n",
      "length of the string is: 12\n"
     ]
    }
   ],
   "source": [
    "# Example 1: Find the length of a given string without using the len() function\n",
    "\n",
    "\n",
    "s = input(\"Enter any string: \")\n",
    "\n",
    "counter = 0\n",
    "\n",
    "for i in s:\n",
    "    counter = counter + 1\n",
    "    \n",
    "print('length of the string is: {}'.format(counter))"
   ]
  },
  {
   "cell_type": "code",
   "execution_count": null,
   "id": "a1d1b0ff",
   "metadata": {},
   "outputs": [],
   "source": []
  }
 ],
 "metadata": {
  "kernelspec": {
   "display_name": "Python 3 (ipykernel)",
   "language": "python",
   "name": "python3"
  },
  "language_info": {
   "codemirror_mode": {
    "name": "ipython",
    "version": 3
   },
   "file_extension": ".py",
   "mimetype": "text/x-python",
   "name": "python",
   "nbconvert_exporter": "python",
   "pygments_lexer": "ipython3",
   "version": "3.9.16"
  }
 },
 "nbformat": 4,
 "nbformat_minor": 5
}
