{
 "cells": [
  {
   "cell_type": "code",
   "execution_count": 3,
   "id": "180a342f",
   "metadata": {},
   "outputs": [
    {
     "name": "stdout",
     "output_type": "stream",
     "text": [
      "Data-Science-Mentorship-Program-By-CampusX\n"
     ]
    }
   ],
   "source": [
    "print(\"Data\", \"Science\", \"Mentorship\", \"Program\", sep = '-', end = '-')\n",
    "print(\"By\", \"CampusX\", sep = '-')"
   ]
  },
  {
   "cell_type": "code",
   "execution_count": 9,
   "id": "d0a92def",
   "metadata": {},
   "outputs": [
    {
     "name": "stdout",
     "output_type": "stream",
     "text": [
      "Take value from user in celsius scale: 34\n",
      "Value in farheneit after conversion is: 93.2\n"
     ]
    }
   ],
   "source": [
    "#program to convert the celsius to fahrenheit\n",
    "# steps to solve this problem:\n",
    "# step 1\n",
    "# take input from user in celsius\n",
    "C = int(input(\"Take value from user in celsius scale: \"))\n",
    "# step 2\n",
    "# use the formula to convert it F = (9/5)C+ 32\n",
    "F = (9/5)*C+32\n",
    "# step 3\n",
    "# display the converted value which is in fahrenheit\n",
    "print(f'Value in farheneit after conversion is: {F}')"
   ]
  },
  {
   "cell_type": "code",
   "execution_count": 10,
   "id": "cb8ae45e",
   "metadata": {},
   "outputs": [
    {
     "name": "stdout",
     "output_type": "stream",
     "text": [
      "Enter num1 value: 3\n",
      "Enter num2 value: 5\n",
      "num1 value after swapping is: 5\n",
      "num2 value after swapping is: 3\n"
     ]
    }
   ],
   "source": [
    "#swapping the numbers\n",
    "#take two numbers from user and swap their places\n",
    "#steps to solve this problem:\n",
    "# step 1\n",
    "#take two numbers from user and store them in variables\n",
    "num1 = int(input(\"Enter num1 value: \"))\n",
    "num2 = int(input(\"Enter num2 value: \"))\n",
    "# in order to swap num1 value into num2, and num2 value in num1 we need third variable\n",
    "num = None\n",
    "#now store num1 value into num\n",
    "num = num1\n",
    "#and store num2 value into num1\n",
    "num1 = num2\n",
    "# and now store num vale into num2, inorder to get num1 value into num2\n",
    "num2 = num\n",
    "# and now print the swapped values\n",
    "print(f'num1 value after swapping is: {num1}')\n",
    "print(f'num2 value after swapping is: {num2}')\n"
   ]
  },
  {
   "cell_type": "code",
   "execution_count": 11,
   "id": "2be8d231",
   "metadata": {},
   "outputs": [
    {
     "name": "stdout",
     "output_type": "stream",
     "text": [
      "Enter 1st point of coordinate 1: 8\n",
      "Enter 2nd point of coordinate 1: 1\n",
      "Enter 1st point of coordinate 2: 6\n",
      "Enter 2nd point of coordinate 2: 9\n"
     ]
    },
    {
     "ename": "TypeError",
     "evalue": "unsupported operand type(s) for ** or pow(): 'list' and 'float'",
     "output_type": "error",
     "traceback": [
      "\u001b[1;31m---------------------------------------------------------------------------\u001b[0m",
      "\u001b[1;31mTypeError\u001b[0m                                 Traceback (most recent call last)",
      "Cell \u001b[1;32mIn[11], line 12\u001b[0m\n\u001b[0;32m      9\u001b[0m y2 \u001b[38;5;241m=\u001b[39m \u001b[38;5;28mint\u001b[39m(\u001b[38;5;28minput\u001b[39m(\u001b[38;5;124m\"\u001b[39m\u001b[38;5;124mEnter 2nd point of coordinate 2: \u001b[39m\u001b[38;5;124m\"\u001b[39m))\n\u001b[0;32m     10\u001b[0m \u001b[38;5;66;03m# calculate distance by applying formula:\u001b[39;00m\n\u001b[0;32m     11\u001b[0m \u001b[38;5;66;03m# d = √[ (x2 – x1)2 + (y2 – y1)2]\u001b[39;00m\n\u001b[1;32m---> 12\u001b[0m d \u001b[38;5;241m=\u001b[39m \u001b[43m[\u001b[49m\u001b[43m \u001b[49m\u001b[43m(\u001b[49m\u001b[43mx2\u001b[49m\u001b[43m \u001b[49m\u001b[38;5;241;43m-\u001b[39;49m\u001b[43m \u001b[49m\u001b[43mx1\u001b[49m\u001b[43m)\u001b[49m\u001b[38;5;241;43m*\u001b[39;49m\u001b[38;5;241;43m*\u001b[39;49m\u001b[38;5;241;43m2\u001b[39;49m\u001b[43m \u001b[49m\u001b[38;5;241;43m+\u001b[39;49m\u001b[43m \u001b[49m\u001b[43m(\u001b[49m\u001b[43my2\u001b[49m\u001b[43m \u001b[49m\u001b[38;5;241;43m-\u001b[39;49m\u001b[43m \u001b[49m\u001b[43my1\u001b[49m\u001b[43m)\u001b[49m\u001b[38;5;241;43m*\u001b[39;49m\u001b[38;5;241;43m*\u001b[39;49m\u001b[38;5;241;43m2\u001b[39;49m\u001b[43m]\u001b[49m\u001b[38;5;241;43m*\u001b[39;49m\u001b[38;5;241;43m*\u001b[39;49m\u001b[43m(\u001b[49m\u001b[38;5;241;43m1\u001b[39;49m\u001b[38;5;241;43m/\u001b[39;49m\u001b[38;5;241;43m2\u001b[39;49m\u001b[43m)\u001b[49m\n\u001b[0;32m     13\u001b[0m \u001b[38;5;66;03m# # calculate difference\u001b[39;00m\n\u001b[0;32m     14\u001b[0m \u001b[38;5;66;03m# dx = x2 - x1\u001b[39;00m\n\u001b[0;32m     15\u001b[0m \u001b[38;5;66;03m# dy = y2 - y1\u001b[39;00m\n\u001b[1;32m   (...)\u001b[0m\n\u001b[0;32m     23\u001b[0m \u001b[38;5;66;03m# distance = sqroot\u001b[39;00m\n\u001b[0;32m     24\u001b[0m \u001b[38;5;66;03m# display the distance output\u001b[39;00m\n\u001b[0;32m     25\u001b[0m \u001b[38;5;28mprint\u001b[39m(\u001b[38;5;124mf\u001b[39m\u001b[38;5;124m'\u001b[39m\u001b[38;5;124mThe euclidean distance between two coordinates is: \u001b[39m\u001b[38;5;132;01m{\u001b[39;00mdistance\u001b[38;5;132;01m}\u001b[39;00m\u001b[38;5;124m'\u001b[39m)\n",
      "\u001b[1;31mTypeError\u001b[0m: unsupported operand type(s) for ** or pow(): 'list' and 'float'"
     ]
    }
   ],
   "source": [
    "# calculate euclidean distance between two coordinates\n",
    "# steps to calculate euclidean distance:\n",
    "# take two coordinates from user as input\n",
    "# 1st coordinate's ponit 1 and point 2\n",
    "x1 = int(input(\"Enter 1st point of coordinate 1: \"))\n",
    "y1 = int(input(\"Enter 2nd point of coordinate 1: \"))\n",
    "# 2nd coordinate's ponit 1 and point 2\n",
    "x2 = int(input(\"Enter 1st point of coordinate 2: \"))\n",
    "y2 = int(input(\"Enter 2nd point of coordinate 2: \"))\n",
    "# calculate distance by applying formula:\n",
    "# d = √[ (x2 – x1)2 + (y2 – y1)2]\n",
    "# # calculate difference\n",
    "# dx = x2 - x1\n",
    "# dy = y2 - y1\n",
    "# # calculate square of differences\n",
    "# dx2 = dx*dx\n",
    "# dy2 = dy*dy\n",
    "# # calculate sum of square\n",
    "# sum = dx2 + dy2\n",
    "# # calculate square root of the sum\n",
    "# sqroot = sum ** (1/2)\n",
    "# distance = sqroot\n",
    "# display the distance output\n",
    "print(f'The euclidean distance between two coordinates is: {distance}')"
   ]
  },
  {
   "cell_type": "code",
   "execution_count": null,
   "id": "d7ac972e",
   "metadata": {},
   "outputs": [],
   "source": []
  }
 ],
 "metadata": {
  "kernelspec": {
   "display_name": "Python 3 (ipykernel)",
   "language": "python",
   "name": "python3"
  },
  "language_info": {
   "codemirror_mode": {
    "name": "ipython",
    "version": 3
   },
   "file_extension": ".py",
   "mimetype": "text/x-python",
   "name": "python",
   "nbconvert_exporter": "python",
   "pygments_lexer": "ipython3",
   "version": "3.9.16"
  }
 },
 "nbformat": 4,
 "nbformat_minor": 5
}
