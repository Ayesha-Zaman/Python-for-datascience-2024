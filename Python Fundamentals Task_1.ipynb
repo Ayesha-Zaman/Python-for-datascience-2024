{
 "cells": [
  {
   "cell_type": "code",
   "execution_count": 1,
   "id": "180a342f",
   "metadata": {},
   "outputs": [
    {
     "name": "stdout",
     "output_type": "stream",
     "text": [
      "Data-Science-Mentorship-Program-By-CampusX\n"
     ]
    }
   ],
   "source": [
    "print(\"Data\", \"Science\", \"Mentorship\", \"Program\", sep = '-', end = '-')\n",
    "print(\"By\", \"CampusX\", sep = '-')"
   ]
  },
  {
   "cell_type": "code",
   "execution_count": 2,
   "id": "d0a92def",
   "metadata": {},
   "outputs": [
    {
     "name": "stdout",
     "output_type": "stream",
     "text": [
      "Take value from user in celsius scale: 56\n",
      "Value in farheneit after conversion is: 132.8\n"
     ]
    }
   ],
   "source": [
    "#program to convert the celsius to fahrenheit\n",
    "# steps to solve this problem:\n",
    "# step 1\n",
    "# take input from user in celsius\n",
    "C = int(input(\"Take value from user in celsius scale: \"))\n",
    "# step 2\n",
    "# use the formula to convert it F = (9/5)C+ 32\n",
    "F = (9/5)*C+32\n",
    "# step 3\n",
    "# display the converted value which is in fahrenheit\n",
    "print(f'Value in farheneit after conversion is: {F}')"
   ]
  },
  {
   "cell_type": "code",
   "execution_count": 3,
   "id": "cb8ae45e",
   "metadata": {},
   "outputs": [
    {
     "name": "stdout",
     "output_type": "stream",
     "text": [
      "Enter num1 value: 6\n",
      "Enter num2 value: 4\n",
      "num1 value after swapping is: 4\n",
      "num2 value after swapping is: 6\n"
     ]
    }
   ],
   "source": [
    "#swapping the numbers\n",
    "#take two numbers from user and swap their places\n",
    "#steps to solve this problem:\n",
    "# step 1\n",
    "#take two numbers from user and store them in variables\n",
    "num1 = int(input(\"Enter num1 value: \"))\n",
    "num2 = int(input(\"Enter num2 value: \"))\n",
    "# in order to swap num1 value into num2, and num2 value in num1 we need third variable\n",
    "num = None\n",
    "#now store num1 value into num\n",
    "num = num1\n",
    "#and store num2 value into num1\n",
    "num1 = num2\n",
    "# and now store num vale into num2, inorder to get num1 value into num2\n",
    "num2 = num\n",
    "# and now print the swapped values\n",
    "print(f'num1 value after swapping is: {num1}')\n",
    "print(f'num2 value after swapping is: {num2}')\n"
   ]
  },
  {
   "cell_type": "code",
   "execution_count": 4,
   "id": "2be8d231",
   "metadata": {},
   "outputs": [
    {
     "name": "stdout",
     "output_type": "stream",
     "text": [
      "Enter 1st point of coordinate 1: 4\n",
      "Enter 2nd point of coordinate 1: 1\n",
      "Enter 1st point of coordinate 2: 8\n",
      "Enter 2nd point of coordinate 2: 1\n",
      "The euclidean distance between two coordinates is: 4.0\n"
     ]
    }
   ],
   "source": [
    "# calculate euclidean distance between two coordinates\n",
    "# steps to calculate euclidean distance:\n",
    "# take two coordinates from user as input\n",
    "# 1st coordinate's ponit 1 and point 2\n",
    "x1 = int(input(\"Enter 1st point of coordinate 1: \"))\n",
    "y1 = int(input(\"Enter 2nd point of coordinate 1: \"))\n",
    "# 2nd coordinate's ponit 1 and point 2\n",
    "x2 = int(input(\"Enter 1st point of coordinate 2: \"))\n",
    "y2 = int(input(\"Enter 2nd point of coordinate 2: \"))\n",
    "# calculate distance by applying formula:\n",
    "# d = √[ (x2 – x1)2 + (y2 – y1)2]\n",
    "# calculate difference\n",
    "dx = x2 - x1\n",
    "dy = y2 - y1\n",
    "# calculate square of differences\n",
    "dx2 = dx*dx\n",
    "dy2 = dy*dy\n",
    "# calculate sum of square\n",
    "sum = dx2 + dy2\n",
    "# calculate square root of the sum\n",
    "sqroot = sum ** (1/2)\n",
    "distance = sqroot\n",
    "# display the distance output\n",
    "print(f'The euclidean distance between two coordinates is: {distance}')"
   ]
  },
  {
   "cell_type": "code",
   "execution_count": 5,
   "id": "d7ac972e",
   "metadata": {},
   "outputs": [
    {
     "name": "stdout",
     "output_type": "stream",
     "text": [
      "Enter value of Principal Amount: 655557\n",
      "Enter Rate of Interest: 5\n",
      "Enter Time duration: 5\n",
      "The value of Simple Interest is: 163889.25\n"
     ]
    }
   ],
   "source": [
    "# calculate simple interest by taking input from user\n",
    "# steps 1:\n",
    "# take input from user of principal amount(p), rate of interest(R) and time duration(T)\n",
    "P = int(input(\"Enter value of Principal Amount: \"))\n",
    "R = int(input(\"Enter Rate of Interest: \"))\n",
    "T = int(input(\"Enter Time duration: \"))\n",
    "# step 2:\n",
    "# apply simple interest formula to calculate its value\n",
    "SI = (P*R*T)/100\n",
    "# step 3:\n",
    "# display the output of simple interest\n",
    "print(f'The value of Simple Interest is: {SI}')"
   ]
  },
  {
   "cell_type": "code",
   "execution_count": 23,
   "id": "6c5cafd7",
   "metadata": {},
   "outputs": [
    {
     "name": "stdout",
     "output_type": "stream",
     "text": [
      "Enter total number of heads: 5\n",
      "Enter total number of legs: 18\n",
      "Number of chickens are: 1.0\n",
      "Number of Dogs are: 4.0\n"
     ]
    }
   ],
   "source": [
    "# calculating the number of dogs and chickens when the number of total heads and legs are provided\n",
    "# steps\n",
    "# taking input of legs and heads from user\n",
    "H = int(input(\"Enter total number of heads: \"))\n",
    "L = int(input(\"Enter total number of legs: \"))\n",
    "# calculating number of chickens\n",
    "Cat = (4*H-L) / 2\n",
    "# calculating number of dogs\n",
    "Dog = H - Cat\n",
    "# displaying total number of chickens\n",
    "print(f'Number of chickens are: {Cat}')\n",
    "# displaying total number of dogs\n",
    "print(f'Number of Dogs are: {Dog}')"
   ]
  },
  {
   "cell_type": "code",
   "execution_count": 13,
   "id": "6612e823",
   "metadata": {},
   "outputs": [
    {
     "name": "stdout",
     "output_type": "stream",
     "text": [
      "Enter a number: 4\n",
      "Sum of square of number 4 is: 30.0\n"
     ]
    }
   ],
   "source": [
    "# find the sum of squares of first n natural numbers\n",
    "# steps:\n",
    "# take numbers from user\n",
    "n = int(input(\"Enter a number: \"))\n",
    "# apply formula to calculate the sum of squares of given n numbers\n",
    "# Sum = (n(n+1)(2n+1))/6\n",
    "Sum_of_Square = (n*(n+1)*((2*n)+1))/6\n",
    "# display the sum or output\n",
    "print(f'Sum of square of number {n} is: {Sum_of_Square}')"
   ]
  },
  {
   "cell_type": "code",
   "execution_count": 14,
   "id": "0ed688d8",
   "metadata": {},
   "outputs": [
    {
     "name": "stdout",
     "output_type": "stream",
     "text": [
      "Enter 1st term: 5\n",
      "Enter 2nd term: 8\n",
      "Enter the nth term: 4\n",
      "4th term of the series is: 14\n"
     ]
    }
   ],
   "source": [
    "# Given the first 2 terms of an Arithmetic Series.Find the Nth term of the series, take inputs are provided by the user.\n",
    "# steps\n",
    "# take 1st two terms from user as input\n",
    "# term 1\n",
    "a1 = int(input(\"Enter 1st term: \"))\n",
    "a2 = int(input(\"Enter 2nd term: \"))\n",
    "# take input of the term tat we want to find. for example, 7th, 11th etc.\n",
    "n = int(input(\"Enter the nth term: \"))\n",
    "# apply formula to find the nth term of series\n",
    "# formula is: an=a1+(n−1)d\n",
    "# calculate distance(d) between two terms\n",
    "d = a2-a1\n",
    "an = a1 + (n-1)*d\n",
    "# display the output\n",
    "print(f'{n}th term of the series is: {an}')"
   ]
  },
  {
   "cell_type": "code",
   "execution_count": 15,
   "id": "44c7eaf2",
   "metadata": {},
   "outputs": [
    {
     "name": "stdout",
     "output_type": "stream",
     "text": [
      "Enter numerator of 1st fraction value: 4\n",
      "Enter denominator of 1st fraction value: 6\n",
      "Enter numerator of 2nd fraction value: 1\n",
      "Enter denominator of 2nd fraction value: 9\n",
      "Sum of two fractions is: 0.7777777777777777\n"
     ]
    }
   ],
   "source": [
    "# find the sum of two fractions\n",
    "# steps:\n",
    "# take input from user\n",
    "# numerator of 1st fraction value\n",
    "numr1 = int(input(\"Enter numerator of 1st fraction value: \"))\n",
    "# denominator of 1st fraction value\n",
    "denom1 = int(input(\"Enter denominator of 1st fraction value: \"))\n",
    "# numerator of 2nd fraction value\n",
    "numr2 = int(input(\"Enter numerator of 2nd fraction value: \"))\n",
    "# denominator of 2nd fraction value\n",
    "denom2 = int(input(\"Enter denominator of 2nd fraction value: \"))\n",
    "# calculate the sum of fraction values\n",
    "sum = (numr1/denom1) + (numr2/denom2)\n",
    "# display the sum or output\n",
    "print(f'Sum of two fractions is: {sum}')"
   ]
  },
  {
   "cell_type": "code",
   "execution_count": 20,
   "id": "fca725c1",
   "metadata": {},
   "outputs": [
    {
     "name": "stdout",
     "output_type": "stream",
     "text": [
      "Enter height of tank: 6\n",
      "Enter length of tank: 7\n",
      "Enter the breadth of tank: 14\n",
      "Total volume of a tank is: 588\n",
      "Enter the radius of glass: 5\n",
      "Enter the height of glass: 6\n",
      "Total volume of a glass is: 471.0\n",
      "No. of glasses of milk obtained from milk tank are: 1.2484076433121019\n"
     ]
    }
   ],
   "source": [
    "# taking dimensions of tank and glass from user, finds out how many glasses of milk can be obtained from a milk tank\n",
    "# steps\n",
    "# taking dimensions of milk tank\n",
    "# height of tank\n",
    "H = int(input(\"Enter height of tank: \"))\n",
    "# length of tank\n",
    "L = int(input(\"Enter length of tank: \"))\n",
    "# breadth of tank\n",
    "B = int(input(\"Enter the breadth of tank: \"))\n",
    "# calculating volume of milk tank\n",
    "VOT = H * L *B\n",
    "print(f'Total volume of a tank is: {VOT}')\n",
    "# taking dimensions of glass\n",
    "# radius of glass\n",
    "r = int(input(\"Enter the radius of glass: \"))\n",
    "# height of glass\n",
    "h = int(input(\"Enter the height of glass: \"))\n",
    "# applying formula to calculate the volume of glass\n",
    "# volume = pi*(r^2)*h\n",
    "VOG = 3.14*(r**2)*h\n",
    "print(f'Total volume of a glass is: {VOG}')\n",
    "# number of milk glass we can obtain from milk tank\n",
    "No_of_glass = VOT / VOG\n",
    "# displaying the output\n",
    "print(f'No. of glasses of milk obtained from milk tank are: {No_of_glass}')"
   ]
  },
  {
   "cell_type": "code",
   "execution_count": null,
   "id": "4098cab3",
   "metadata": {},
   "outputs": [],
   "source": []
  }
 ],
 "metadata": {
  "kernelspec": {
   "display_name": "Python 3 (ipykernel)",
   "language": "python",
   "name": "python3"
  },
  "language_info": {
   "codemirror_mode": {
    "name": "ipython",
    "version": 3
   },
   "file_extension": ".py",
   "mimetype": "text/x-python",
   "name": "python",
   "nbconvert_exporter": "python",
   "pygments_lexer": "ipython3",
   "version": "3.9.16"
  }
 },
 "nbformat": 4,
 "nbformat_minor": 5
}
