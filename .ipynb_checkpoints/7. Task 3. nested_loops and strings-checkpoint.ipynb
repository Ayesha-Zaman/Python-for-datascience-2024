{
 "cells": [
  {
   "cell_type": "raw",
   "id": "4dbed23c",
   "metadata": {},
   "source": [
    "Problem 1: Print the following pattern. Write a program to use for loop to print the following reverse number pattern.\n",
    "    \n",
    "5 4 3 2 1 \n",
    "4 3 2 1 \n",
    "3 2 1 \n",
    "2 1 \n",
    "1"
   ]
  },
  {
   "cell_type": "code",
   "execution_count": 6,
   "id": "8a897356",
   "metadata": {},
   "outputs": [
    {
     "name": "stdout",
     "output_type": "stream",
     "text": [
      "Enter number of column: 6\n",
      "6 5 4 3 2 1 \n",
      "5 4 3 2 1 \n",
      "4 3 2 1 \n",
      "3 2 1 \n",
      "2 1 \n",
      "1 \n"
     ]
    }
   ],
   "source": [
    "# steps:\n",
    "# take user input for number of columns\n",
    "# apply reverse for loop for number of column\n",
    "# decrease the number by -1 in every iteration\n",
    "# apply nested for loop for printing number of rows\n",
    "# decrease the loop by -1 in order to print in reverse order\n",
    "# print the statement on the same line\n",
    "# and at last print() in order to just move the next line\n",
    "\n",
    "num = int(input(\"Enter number of column: \"))\n",
    "\n",
    "for i in range(num, 0, -1):\n",
    "    \n",
    "    for j in range(i, 0, -1):\n",
    "        print(j, end = ' ')\n",
    "        \n",
    "    print()\n",
    "\n"
   ]
  },
  {
   "cell_type": "code",
   "execution_count": null,
   "id": "9187ff31",
   "metadata": {},
   "outputs": [],
   "source": []
  },
  {
   "cell_type": "raw",
   "id": "b6e92934",
   "metadata": {},
   "source": [
    "Problem 2: Print the following pattern.\n",
    "    \n",
    "* \n",
    "* * \n",
    "* * * \n",
    "* * * * \n",
    "* * * * * \n",
    "* * * * \n",
    "* * * \n",
    "* * \n",
    "*"
   ]
  },
  {
   "cell_type": "code",
   "execution_count": 9,
   "id": "76b995f9",
   "metadata": {},
   "outputs": [
    {
     "name": "stdout",
     "output_type": "stream",
     "text": [
      "Enter the max numer of stars: 5\n",
      "* \n",
      "* * \n",
      "* * * \n",
      "* * * * \n",
      "* * * * * \n",
      "* * * * \n",
      "* * * \n",
      "* * \n",
      "* \n"
     ]
    }
   ],
   "source": [
    "# steps:\n",
    "# take input for user the max number of star wanted to print \n",
    "# apply for loop in ascending oredr\n",
    "# incriment the number for every iteration\n",
    "# apply nested for loop for printing number of columns\n",
    "# incriment the loop by 1 \n",
    "# print the statement on the same line\n",
    "# and at last print() in order to just move the next line\n",
    "# apply another for loop in reverse order\n",
    "# decrease the number by -1 in every iteration\n",
    "# apply nested for loop for printing number of rows\n",
    "# decrease the loop by -1 in order to print in reverse order\n",
    "# print the statement on the same line\n",
    "# and at last print() in order to just move the next line\n",
    "\n",
    "num = int(input(\"Enter the max numer of stars: \"))\n",
    "\n",
    "for i in range(1, num+1, 1):\n",
    "    for j in range(1, i+1, 1 ):\n",
    "        print('*', end = ' ')\n",
    "    print()\n",
    "    \n",
    "for k in range(num-1, 0, -1):\n",
    "    for l in range(k, 0, -1):\n",
    "        print('*', end = ' ')\n",
    "        \n",
    "    print()"
   ]
  },
  {
   "cell_type": "code",
   "execution_count": null,
   "id": "9c2b62bf",
   "metadata": {},
   "outputs": [],
   "source": []
  },
  {
   "cell_type": "raw",
   "id": "fee62c19",
   "metadata": {},
   "source": [
    "Problem 3: Write a program to pring the following pattern\n",
    "    \n",
    "    *\n",
    "  * * *\n",
    "* * * * *"
   ]
  },
  {
   "cell_type": "code",
   "execution_count": 18,
   "id": "4e0f9698",
   "metadata": {},
   "outputs": [
    {
     "name": "stdout",
     "output_type": "stream",
     "text": [
      "Enter the max numer of stars: 7\n",
      "      * \n",
      "    * * * \n",
      "  * * * * * \n",
      "* * * * * * * \n"
     ]
    }
   ],
   "source": [
    "num = int(input(\"Enter the max numer of stars: \"))\n",
    "\n",
    "for i in range(1, num+1, 2):\n",
    "    for k in range(num, i, -1):\n",
    "        print(\" \", end = \"\")\n",
    "    for j in range(1, i+1, 1 ):\n",
    "        print('*', end = ' ')\n",
    "    print( )"
   ]
  },
  {
   "cell_type": "code",
   "execution_count": null,
   "id": "95a2fa8b",
   "metadata": {},
   "outputs": [],
   "source": []
  },
  {
   "cell_type": "raw",
   "id": "47c63930",
   "metadata": {},
   "source": [
    "Problem 4: Write a program to print the diamond pattern."
   ]
  },
  {
   "cell_type": "code",
   "execution_count": 43,
   "id": "cd7a070b",
   "metadata": {},
   "outputs": [
    {
     "name": "stdout",
     "output_type": "stream",
     "text": [
      "Enter the max numer of stars: 7\n",
      "      * \n",
      "     * * \n",
      "    * * * \n",
      "   * * * * \n",
      "  * * * * * \n",
      " * * * * * * \n",
      "* * * * * * * \n",
      " * * * * * * \n",
      "  * * * * * \n",
      "   * * * * \n",
      "    * * * \n",
      "     * * \n",
      "      * \n"
     ]
    }
   ],
   "source": [
    "num = int(input(\"Enter the max numer of stars: \"))\n",
    "\n",
    "for i in range(1, num+1, 1):\n",
    "    for m in range(num, i, -1):\n",
    "        print(' ', end = '')\n",
    "    for j in range(1, i+1, 1):\n",
    "        print('*' , end = ' ')\n",
    "        \n",
    "    print()\n",
    "    \n",
    "for k in range(num-1, 0, -1):\n",
    "    for n in range(k, num , 1):\n",
    "        print(' ', end = '')\n",
    "    for l in range(k, 0, -1):\n",
    "        print('*' , end = ' ')\n",
    "        \n",
    "    print()"
   ]
  },
  {
   "cell_type": "code",
   "execution_count": null,
   "id": "9ac76963",
   "metadata": {},
   "outputs": [],
   "source": []
  },
  {
   "cell_type": "raw",
   "id": "4b8c9f9a",
   "metadata": {},
   "source": [
    "Problem 5:Write a program to print the following pattern\n",
    "1\n",
    "\n",
    "2 1\n",
    "\n",
    "3 2 1\n",
    "\n",
    "4 3 2 1\n",
    "\n",
    "5 4 3 2 1"
   ]
  },
  {
   "cell_type": "code",
   "execution_count": 46,
   "id": "ba9437d5",
   "metadata": {},
   "outputs": [
    {
     "name": "stdout",
     "output_type": "stream",
     "text": [
      "Enter a number for max rows: 6\n",
      "1 \n",
      "2 1 \n",
      "3 2 1 \n",
      "4 3 2 1 \n",
      "5 4 3 2 1 \n",
      "6 5 4 3 2 1 \n"
     ]
    }
   ],
   "source": [
    "num = int(input(\"Enter a number for max rows: \"))\n",
    "\n",
    "for i in range(1, num+1, 1):\n",
    "    for j in range(i, 0, -1):\n",
    "        print(j, end= ' ')\n",
    "        \n",
    "    print()"
   ]
  },
  {
   "cell_type": "code",
   "execution_count": null,
   "id": "5e55c8c8",
   "metadata": {},
   "outputs": [],
   "source": []
  },
  {
   "cell_type": "raw",
   "id": "7d7a11e8",
   "metadata": {},
   "source": [
    "Problem 6: Write a Python Program to Find the Sum of the Series till the nth term:\n",
    "1 + x^2/2 + x^3/3 + … x^n/n\n",
    "n will be provided by the user"
   ]
  },
  {
   "cell_type": "code",
   "execution_count": 51,
   "id": "ef00d37b",
   "metadata": {},
   "outputs": [
    {
     "name": "stdout",
     "output_type": "stream",
     "text": [
      "Enter the number: 3\n",
      "Enter the term no: 2\n",
      "Sum of the series of number 3 till 2th term is: 7.5\n"
     ]
    }
   ],
   "source": [
    "x = int(input(\"Enter the number: \"))\n",
    "n = int(input(\"Enter the term no: \"))\n",
    "\n",
    "Sum = 0\n",
    "\n",
    "divide = 0\n",
    "\n",
    "power = 0\n",
    "\n",
    "for i in range(1, n+1, 1):\n",
    "    power = x**i\n",
    "    divide = power/i\n",
    "    Sum = Sum + divide\n",
    "\n",
    "print('Sum of the series of number {} till {}th term is: {}'.format(x, n, Sum))\n",
    "    "
   ]
  },
  {
   "cell_type": "code",
   "execution_count": null,
   "id": "e49ab9be",
   "metadata": {},
   "outputs": [],
   "source": []
  },
  {
   "cell_type": "raw",
   "id": "61c91123",
   "metadata": {},
   "source": [
    "Problem 7: The natural logarithm can be approximated by the following series.\n",
    "\n",
    "x-1/x + 1/2 (x-1/x)^2  + 1/2 (x-1/x)^3 + 1/2 (x-1/x)^4 +......\n",
    "\n",
    "If x is input through the keyboard, write a program to calculate the sum of the first seven terms of this series."
   ]
  },
  {
   "cell_type": "code",
   "execution_count": 3,
   "id": "08b06fa0",
   "metadata": {},
   "outputs": [
    {
     "name": "stdout",
     "output_type": "stream",
     "text": [
      "Enter the number: 4\n",
      "Enter the term no: 7\n",
      "Sum of the first 7 terms of this series is: 1.674774169921875\n"
     ]
    }
   ],
   "source": [
    "x = int(input(\"Enter the number: \"))\n",
    "n = int(input(\"Enter the term no: \"))\n",
    "\n",
    "\n",
    "temp = 0\n",
    "\n",
    "power = 0\n",
    "\n",
    "Sum = (x-1)/x\n",
    "for i in range(2, n+1, 1):\n",
    "    power = ((x-1)/x)**i\n",
    "    temp = (1/2)*(power)\n",
    "    Sum = Sum + temp\n",
    "    \n",
    "print('Sum of the first {} terms of this series is: {}'.format(n, Sum))\n"
   ]
  },
  {
   "cell_type": "raw",
   "id": "f23fb77f",
   "metadata": {},
   "source": [
    "Problem 8: Find the sum of the series upto n terms.\n",
    "Write a program to calculate the sum of series up to n term. For example, if n =5 the series will become 2 + 22 + 222 + 2222 + 22222 = 24690. Take the user input and then calculate. And the output style should match which is given in the example.\n",
    "\n",
    "Example 1:\n",
    "\n",
    "Input:\n",
    "\n",
    "5\n",
    "Output:\n",
    "\n",
    "2+22+222+2222+22222\n",
    "Sum of above series is: 24690"
   ]
  },
  {
   "cell_type": "code",
   "execution_count": 23,
   "id": "705e7025",
   "metadata": {},
   "outputs": [
    {
     "name": "stdout",
     "output_type": "stream",
     "text": [
      "Enter the term: 5\n",
      "Enter the number: 2\n",
      "2+22+222+2222+22222+Sum of the above series is: 0\n"
     ]
    }
   ],
   "source": [
    "n = int(input(\"Enter the term: \"))\n",
    "\n",
    "x = int(input(\"Enter the number: \"))\n",
    "\n",
    "temp = 0\n",
    "\n",
    "Sum = 0\n",
    "\n",
    "for i in range(1, n+1, 1):\n",
    "    for j in range(1, i+1, 1):\n",
    "        print(x, end = '')\n",
    "    for k in range(1,2 ):\n",
    "        print('+', end = '')\n",
    "    \n",
    "print('Sum of the above series is: {}'.format(Sum))"
   ]
  },
  {
   "cell_type": "code",
   "execution_count": 33,
   "id": "934cde87",
   "metadata": {},
   "outputs": [
    {
     "name": "stdout",
     "output_type": "stream",
     "text": [
      "Enter a decimal number: 160\n"
     ]
    },
    {
     "ename": "TypeError",
     "evalue": "sequence item 0: expected str instance, int found",
     "output_type": "error",
     "traceback": [
      "\u001b[1;31m---------------------------------------------------------------------------\u001b[0m",
      "\u001b[1;31mTypeError\u001b[0m                                 Traceback (most recent call last)",
      "Cell \u001b[1;32mIn[33], line 12\u001b[0m\n\u001b[0;32m      7\u001b[0m     num \u001b[38;5;241m=\u001b[39m num \u001b[38;5;241m/\u001b[39m\u001b[38;5;241m/\u001b[39m \u001b[38;5;241m2\u001b[39m\n\u001b[0;32m      9\u001b[0m \u001b[38;5;66;03m# l_to_f = ''.join(map(str, L))\u001b[39;00m\n\u001b[0;32m     10\u001b[0m     \n\u001b[0;32m     11\u001b[0m \u001b[38;5;66;03m# print('Binary conversion of {} is: {}'.format(num, l_to_f))\u001b[39;00m\n\u001b[1;32m---> 12\u001b[0m \u001b[38;5;28mprint\u001b[39m(\u001b[38;5;124;43m'\u001b[39;49m\u001b[38;5;124;43m'\u001b[39;49m\u001b[38;5;241;43m.\u001b[39;49m\u001b[43mjoin\u001b[49m\u001b[43m(\u001b[49m\u001b[43mL\u001b[49m\u001b[43m)\u001b[49m)\n",
      "\u001b[1;31mTypeError\u001b[0m: sequence item 0: expected str instance, int found"
     ]
    }
   ],
   "source": [
    "num = int(input(\"Enter a decimal number: \"))\n",
    "\n",
    "L = []\n",
    "while num != 0:\n",
    "    temp = num % 2\n",
    "    L.append(temp)\n",
    "    num = num // 2\n",
    "    \n",
    "l_to_f = ''.join(map(str, L))\n",
    "    \n",
    "print('Binary conversion of {} is: {}'.format(num, l_to_f))"
   ]
  },
  {
   "cell_type": "code",
   "execution_count": null,
   "id": "1f0e7eb6",
   "metadata": {},
   "outputs": [],
   "source": []
  }
 ],
 "metadata": {
  "kernelspec": {
   "display_name": "Python 3 (ipykernel)",
   "language": "python",
   "name": "python3"
  },
  "language_info": {
   "codemirror_mode": {
    "name": "ipython",
    "version": 3
   },
   "file_extension": ".py",
   "mimetype": "text/x-python",
   "name": "python",
   "nbconvert_exporter": "python",
   "pygments_lexer": "ipython3",
   "version": "3.9.16"
  }
 },
 "nbformat": 4,
 "nbformat_minor": 5
}
