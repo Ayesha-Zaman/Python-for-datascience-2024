{
 "cells": [
  {
   "cell_type": "markdown",
   "id": "c8f16307",
   "metadata": {},
   "source": [
    "# Lists\n",
    "    What are Lists?\n",
    "    Lists Vs Arrays\n",
    "    Characterstics of a List\n",
    "    How to create a list\n",
    "    Access items from a List\n",
    "    Editing items in a List\n",
    "    Deleting items from a List\n",
    "    Operations on Lists\n",
    "    Functions on Lists"
   ]
  },
  {
   "cell_type": "markdown",
   "id": "ad5aa447",
   "metadata": {},
   "source": [
    "Lists:\n",
    "    List is a data type where you can store multiple items under 1 name. More technically, lists act like dynamic arrays which means you can add more items on the fly.\n",
    "\n",
    "\n",
    "Why Lists are required in programming?\n",
    "    lists are very useful while dealing with similar sort of data, so that's why they are required in programming"
   ]
  },
  {
   "cell_type": "markdown",
   "id": "803e9ad8",
   "metadata": {},
   "source": [
    "# Array Vs Lists\n",
    "\n",
    "    Fixed Vs Dynamic Size\n",
    "    Arrays have fixed size, when we create array we have to tell that how many number of items will be in array.\n",
    "    For Example:\n",
    "        int array[50]   # means this array will contain 50 items, fixed size\n",
    "    On the other hand list is of dynamic size, we don't tell its size when we are creating it. we can insert as many items     as required in a particular program\n",
    "    For Example: \n",
    "        list = []     # limit is not specified we can store many items, dynamic size\n",
    "    \n",
    "    Convenience -> Hetrogeneous\n",
    "    In arrays, a single array can deal with only one type of data, means we can store only either int data type or string       or any other.\n",
    "    For Example:\n",
    "        array = [1, 2, 3, 4]\n",
    "    In Lists, a single list can deal with multiple data types, like we can store numbers, boolen, string, list etc.\n",
    "    For Example:\n",
    "        array = [1, 2, 'data science', True, 33.38]\n",
    "    \n",
    "    Speed of Execution\n",
    "    Array's execution speed is much faster in other programming languages\n",
    "    List's execution speed is slower than arrays.\n",
    "    \n",
    "    Memory\n",
    "    Arrays: array's items are stored in a continues memory cells.\n",
    "    Lists: in list item's address is stored in continues memory cells. rather than actuall list items"
   ]
  },
  {
   "cell_type": "code",
   "execution_count": 3,
   "id": "73711a81",
   "metadata": {},
   "outputs": [
    {
     "name": "stdout",
     "output_type": "stream",
     "text": [
      "2059803471552\n",
      "2059714980144\n",
      "2059714980176\n",
      "2059714980208\n",
      "2059714980272\n",
      "2059714980144\n",
      "2059714980176\n",
      "2059714980208\n",
      "2059714980272\n"
     ]
    }
   ],
   "source": [
    "L = [1, 2, 3, 5]\n",
    "\n",
    "# id keyword is used to print memory location of something\n",
    "\n",
    "print(id(L))\n",
    "\n",
    "\n",
    "# printing the memory location of index 0, 1, 2 and so on\n",
    "print(id(L[0]))\n",
    "print(id(L[1]))\n",
    "print(id(L[2]))\n",
    "print(id(L[3]))\n",
    "\n",
    "# printing memory location of values in the list\n",
    "\n",
    "print(id(1))\n",
    "print(id(2))\n",
    "print(id(3))\n",
    "print(id(5))"
   ]
  },
  {
   "cell_type": "markdown",
   "id": "abf4a0c7",
   "metadata": {},
   "source": [
    "# Characterstics of a List\n",
    "    Ordered\n",
    "    Changeble/Mutable\n",
    "    Hetrogeneous\n",
    "    Can have duplicates\n",
    "    are dynamic\n",
    "    can be nested\n",
    "    items can be accessed\n",
    "    can contain any kind of objects in python"
   ]
  },
  {
   "cell_type": "code",
   "execution_count": 6,
   "id": "64e2af0f",
   "metadata": {},
   "outputs": [
    {
     "name": "stdout",
     "output_type": "stream",
     "text": [
      "False\n"
     ]
    }
   ],
   "source": [
    "# ordered\n",
    "\n",
    "L1 = [1, 2, 3]\n",
    "# L2 = [1, 2, 3]\n",
    "# print(L1 == L2) # output: True\n",
    "\n",
    "\n",
    "# if i only change the order of L2 both of the list will not be equal\n",
    "L2 = [3, 2, 1]\n",
    "print(L1 == L2)"
   ]
  },
  {
   "cell_type": "code",
   "execution_count": 7,
   "id": "5092d75f",
   "metadata": {},
   "outputs": [
    {
     "name": "stdout",
     "output_type": "stream",
     "text": [
      "[1, 2, 3, 2, 3]\n"
     ]
    }
   ],
   "source": [
    "# Can have duplicates\n",
    "L = [1, 2, 3, 2, 3]\n",
    "print(L)"
   ]
  },
  {
   "cell_type": "markdown",
   "id": "30606e25",
   "metadata": {},
   "source": [
    "# Creating a List"
   ]
  },
  {
   "cell_type": "code",
   "execution_count": 15,
   "id": "8ea6edbb",
   "metadata": {},
   "outputs": [
    {
     "name": "stdout",
     "output_type": "stream",
     "text": [
      "[]\n",
      "[]\n",
      "[1, 2, 3, 4]\n",
      "[1, 2, 3, 4, [5, 6]]\n",
      "[[1, 2, [5, 6]], [3, 4, [7, 8]]]\n",
      "[1, 2, 3, 'Data Science', True, 33.33, (3+4j)]\n",
      "['d', 'a', 't', 'a', 's', 'c', 'i', 'e', 'n', 'c', 'e']\n"
     ]
    }
   ],
   "source": [
    "# empty list\n",
    "\n",
    "print([])\n",
    "\n",
    "L= []\n",
    "print(L)\n",
    "\n",
    "# 1D & homogenous\n",
    "L = [1, 2, 3, 4]\n",
    "print(L)\n",
    "\n",
    "# 2D list or nested list\n",
    "# below list is hetrogenous beacuse it contains integer and list data type\n",
    "L = [1, 2, 3, 4, [5, 6]]\n",
    "print(L)\n",
    "\n",
    "# 3D list\n",
    "L = [[1,2, [5, 6]], [3, 4, [7, 8]]]\n",
    "print(L)\n",
    "\n",
    "# hetrogenous list\n",
    "L = [1, 2, 3, 'Data Science', True, 33.33, 3+4j]\n",
    "print(L)\n",
    "\n",
    "# creating list through type conversion\n",
    "l = 'datascience'\n",
    "print(list(l))   # 'list' keyword is converting a string into list"
   ]
  },
  {
   "cell_type": "markdown",
   "id": "bb93ddb7",
   "metadata": {},
   "source": [
    "# Accessing Items from a List"
   ]
  },
  {
   "cell_type": "code",
   "execution_count": 10,
   "id": "5e6bcd6d",
   "metadata": {},
   "outputs": [
    {
     "name": "stdout",
     "output_type": "stream",
     "text": [
      "4\n",
      "1\n",
      "6\n",
      "2\n",
      "4\n",
      "2\n",
      "6\n",
      "[1, 2, 3]\n",
      "[4, 5, 6]\n",
      "[6, 5, 4]\n",
      "[1, 2, 3]\n",
      "[6, 5, 4, 3, 2, 1]\n"
     ]
    }
   ],
   "source": [
    "# indexing\n",
    "\n",
    "\n",
    "# positive indexing\n",
    "L = [1, 2, 3, 4, 5, 6]\n",
    "print(L[3])\n",
    "print(L[0])\n",
    "print(L[5])\n",
    "\n",
    "# accessing 2 from nested list\n",
    "L = [[[1,2],[3,4]],[[5,6],[7,8]]]\n",
    "print(L[0][0][1])\n",
    "\n",
    "\n",
    "# negative ndexing\n",
    "L = [1, 2, 3, 4, 5, 6]\n",
    "print(L[-3])\n",
    "print(L[-5])\n",
    "print(L[-1])\n",
    "\n",
    "\n",
    "\n",
    "# sliicing\n",
    "\n",
    "\n",
    "# positive slicing\n",
    "L = [1, 2, 3, 4, 5, 6]\n",
    "print(L[0: 3])\n",
    "print(L[3: ])\n",
    "\n",
    "\n",
    "# negative slicing\n",
    "L = [1, 2, 3, 4, 5, 6]\n",
    "print(L[-1: -4: -1])\n",
    "print(L[-6: -3])\n",
    "print(L[ : : -1])\n"
   ]
  },
  {
   "cell_type": "markdown",
   "id": "6a513bcb",
   "metadata": {},
   "source": [
    "# Adding Items to a List"
   ]
  },
  {
   "cell_type": "code",
   "execution_count": 24,
   "id": "97b3f42e",
   "metadata": {},
   "outputs": [
    {
     "name": "stdout",
     "output_type": "stream",
     "text": [
      "['Pakistan', 'India', 'Italy', 'Russia']\n",
      "['Pakistan', 'India', 'Italy', 'Russia', [4, 5, 6]]\n"
     ]
    }
   ],
   "source": [
    "# 1) append\n",
    "# this method adds 1 item in the list at the last position\n",
    "\n",
    "countries = ['Pakistan', 'India', 'Italy']\n",
    "\n",
    "\n",
    "countries.append('Russia')\n",
    "# countries.append('Russia', 'Turkye')     it deals with only one item, if we add two items it will give an error\n",
    "print(countries)\n",
    "\n",
    "\n",
    "countries.append([4, 5, 6])    # appending a list\n",
    "print(countries)\n",
    "\n"
   ]
  },
  {
   "cell_type": "code",
   "execution_count": 25,
   "id": "8328a6cf",
   "metadata": {},
   "outputs": [
    {
     "name": "stdout",
     "output_type": "stream",
     "text": [
      "['Pakistan', 'Indonesia', 'Iraq']\n",
      "['Pakistan', 'Indonesia', 'Iraq', 'Bhutan', 'yemen']\n",
      "['Pakistan', 'Indonesia', 'Iraq', 'Bhutan', 'yemen', 1, 2, 3, 4, 5]\n",
      "['Pakistan', 'Indonesia', 'Iraq', 'P', 'a', 'l', 'e', 's', 't', 'i', 'n', 'e']\n"
     ]
    }
   ],
   "source": [
    "# 2) extend\n",
    "# this method append multiple items in the list\n",
    "\n",
    "countries = ['Pakistan', 'Indonesia', 'Iraq']\n",
    "print(countries)\n",
    "\n",
    "countries.extend(['Bhutan', 'yemen'])\n",
    "print(countries)\n",
    "\n",
    "countries.extend([1,2,3,4,5])    # as extend deals with multiple items, so separate numbers will be added instead of list\n",
    "print(countries)\n",
    "\n",
    "countries = ['Pakistan', 'Indonesia', 'Iraq']\n",
    "countries.extend('Palestine')    # as it deals with multiple items, each character of 'palestine' will be added separately\n",
    "print(countries)\n",
    "\n"
   ]
  },
  {
   "cell_type": "code",
   "execution_count": 31,
   "id": "0b491270",
   "metadata": {},
   "outputs": [
    {
     "name": "stdout",
     "output_type": "stream",
     "text": [
      "[1, 2, 60, 3, 4, 5]\n",
      "[[6, 7, 8], 1, 2, 60, 3, 4, 5]\n",
      "['Belgium', 'Pakistan', 'India', 'Italy']\n"
     ]
    }
   ],
   "source": [
    "# 3) insert\n",
    "# insert method add the item at any location we want\n",
    "# and it will only take two arguments, 1st one will be index postion and 2nd will be value\n",
    "\n",
    "\n",
    "list = [1, 2, 3, 4, 5]\n",
    "list.insert(2, 60)\n",
    "print(list)\n",
    "\n",
    "list.insert(0, [6, 7, 8])\n",
    "print(list)\n",
    "\n",
    "countries = ['Pakistan', 'India', 'Italy']\n",
    "countries.insert(0, 'Belgium')\n",
    "print(countries)"
   ]
  },
  {
   "cell_type": "markdown",
   "id": "8bf14d57",
   "metadata": {},
   "source": [
    "# Editing items in a List"
   ]
  },
  {
   "cell_type": "code",
   "execution_count": 36,
   "id": "38f74798",
   "metadata": {},
   "outputs": [
    {
     "name": "stdout",
     "output_type": "stream",
     "text": [
      "[1, 2, 3, 4, 5]\n",
      "[1, 2, 300, 4, 5]\n",
      "[1, 2, 300, 400, 500, 600, 700]\n"
     ]
    }
   ],
   "source": [
    "list = [1, 2, 3, 4, 5]\n",
    "print(list)\n",
    "\n",
    "# editing with indexing\n",
    "list[2] = 300\n",
    "print(list)\n",
    "\n",
    "# editing with slicing\n",
    "list[3: ] = [400, 500, 600, 700]\n",
    "print(list)"
   ]
  },
  {
   "cell_type": "markdown",
   "id": "779f74f8",
   "metadata": {},
   "source": [
    "# Deleting items from a List"
   ]
  },
  {
   "cell_type": "code",
   "execution_count": 53,
   "id": "9420b24f",
   "metadata": {},
   "outputs": [
    {
     "name": "stdout",
     "output_type": "stream",
     "text": [
      "[1, 2, 3, 4, 5]\n",
      "[1, 2, 4, 5]\n",
      "[4, 5]\n"
     ]
    }
   ],
   "source": [
    "# deleting items by 'del' keyword\n",
    "\n",
    "list = [1, 2, 3, 4, 5]\n",
    "print(list)\n",
    "\n",
    "\n",
    "# indexing\n",
    "del list[-3]\n",
    "print(list)\n",
    "\n",
    "\n",
    "# slicing\n",
    "del list[0: 2]\n",
    "print(list)\n"
   ]
  },
  {
   "cell_type": "code",
   "execution_count": 43,
   "id": "e0d08aec",
   "metadata": {},
   "outputs": [
    {
     "name": "stdout",
     "output_type": "stream",
     "text": [
      "[1, 2, 3, 4, 5]\n",
      "[1, 2, 4, 5]\n"
     ]
    }
   ],
   "source": [
    "# remove: deletes the item using values instead of indexing\n",
    "\n",
    "list = [1, 2, 3, 4, 5]\n",
    "print(list)\n",
    "\n",
    "list.remove(3)\n",
    "print(list)\n",
    "\n",
    "# list.remove(1, 2)\n",
    "# print(list)\n",
    "# the above code will through an error, beacuse it accept only one item"
   ]
  },
  {
   "cell_type": "code",
   "execution_count": 50,
   "id": "198c354c",
   "metadata": {},
   "outputs": [
    {
     "name": "stdout",
     "output_type": "stream",
     "text": [
      "[1, 2, 3, 4, 5]\n",
      "[1, 2, 3, 4]\n",
      "[1, 2, 4]\n"
     ]
    }
   ],
   "source": [
    "# pop: it removes last item from the list\n",
    "\n",
    "list = [1, 2, 3, 4, 5]\n",
    "print(list)\n",
    "\n",
    "list.pop()      # by default removes last item\n",
    "print(list)\n",
    "\n",
    "list.pop(2)     # otherwise it removes the item of given index\n",
    "print(list)"
   ]
  },
  {
   "cell_type": "code",
   "execution_count": 54,
   "id": "95b317ec",
   "metadata": {},
   "outputs": [
    {
     "name": "stdout",
     "output_type": "stream",
     "text": [
      "[1, 2, 3, 4, 5]\n",
      "[]\n"
     ]
    }
   ],
   "source": [
    "# clear: it removes all the items from the list and returns empty list\n",
    "\n",
    "list = [1, 2, 3, 4, 5]\n",
    "print(list)\n",
    "\n",
    "list.clear()\n",
    "print(list)"
   ]
  },
  {
   "cell_type": "markdown",
   "id": "17d09613",
   "metadata": {},
   "source": [
    "# Operations on Lists\n",
    "    Arithmetic\n",
    "    Membership\n",
    "    Loop"
   ]
  },
  {
   "cell_type": "code",
   "execution_count": 56,
   "id": "094969c9",
   "metadata": {},
   "outputs": [
    {
     "name": "stdout",
     "output_type": "stream",
     "text": [
      "[1, 2, 3, 4, 5, 6, 7, 8]\n",
      "[1, 2, 3, 4, 1, 2, 3, 4, 1, 2, 3, 4]\n"
     ]
    }
   ],
   "source": [
    "# Arithmatic(+, *)\n",
    "\n",
    "\n",
    "# addition (+) operator merges / concatinate two lists\n",
    "l1 = [1, 2, 3, 4]\n",
    "l2 = [5, 6, 7, 8]\n",
    "\n",
    "print(l1 + l2)\n",
    "\n",
    "# multiplication (*) operator print a list multiple times\n",
    "\n",
    "l = [1, 2, 3, 4]\n",
    "print(l * 3)"
   ]
  },
  {
   "cell_type": "code",
   "execution_count": 64,
   "id": "a1c576fa",
   "metadata": {},
   "outputs": [
    {
     "name": "stdout",
     "output_type": "stream",
     "text": [
      "True\n",
      "False\n",
      "False\n",
      "True\n",
      "False\n"
     ]
    }
   ],
   "source": [
    "# Membership opeators\n",
    "\n",
    "# in operator\n",
    "countries = ['Pakistan', 'India', 'Italy']\n",
    "print('Pakistan' in countries)\n",
    "\n",
    "print('P' in countries)\n",
    "\n",
    "print('Belgium' in countries)\n",
    "\n",
    "\n",
    "# not in \n",
    "countries = ['Pakistan', 'India', 'Italy']\n",
    "print('Belgium' not in countries)\n",
    "\n",
    "print('Italy' not in countries)"
   ]
  },
  {
   "cell_type": "code",
   "execution_count": 67,
   "id": "ed43e484",
   "metadata": {},
   "outputs": [
    {
     "name": "stdout",
     "output_type": "stream",
     "text": [
      "1\n",
      "2\n",
      "3\n",
      "4\n",
      "5\n",
      "DataScience\n",
      "DataScience\n",
      "DataScience\n",
      "DataScience\n",
      "DataScience\n"
     ]
    }
   ],
   "source": [
    "# Loop\n",
    "\n",
    "list = [1, 2, 3, 4, 5]\n",
    "\n",
    "for i in list:\n",
    "    print(i)\n",
    "    \n",
    "    \n",
    "for i in list:\n",
    "    print('DataScience')"
   ]
  },
  {
   "cell_type": "code",
   "execution_count": 69,
   "id": "9a49ce80",
   "metadata": {},
   "outputs": [
    {
     "name": "stdout",
     "output_type": "stream",
     "text": [
      "1\n",
      "2\n",
      "3\n",
      "4\n",
      "[5, 6]\n",
      "[1, 2, [5, 6]]\n",
      "[3, 4, [7, 8]]\n"
     ]
    }
   ],
   "source": [
    "# traversing through nested loop\n",
    "\n",
    "l1 = [1, 2, 3, 4, [5, 6]]\n",
    "\n",
    "for i in l1:\n",
    "    print(i)\n",
    "    \n",
    "l2 = [[1,2, [5, 6]], [3, 4, [7, 8]]]\n",
    "\n",
    "for i in l2:\n",
    "    print(i)"
   ]
  },
  {
   "cell_type": "markdown",
   "id": "0f7b3871",
   "metadata": {},
   "source": [
    "# List Functions"
   ]
  },
  {
   "cell_type": "code",
   "execution_count": 77,
   "id": "a6750393",
   "metadata": {},
   "outputs": [
    {
     "name": "stdout",
     "output_type": "stream",
     "text": [
      "[3, 5, 4, 1, 2]\n",
      "5\n",
      "1\n",
      "5\n",
      "[1, 2, 3, 4, 5]\n",
      "[5, 4, 3, 2, 1]\n"
     ]
    }
   ],
   "source": [
    "# len/min/max/sorted\n",
    "\n",
    "list = [3, 5, 4, 1, 2]\n",
    "\n",
    "print(list)\n",
    "\n",
    "print(len(list))\n",
    "\n",
    "print(min(list))\n",
    "\n",
    "print(max(list))\n",
    "\n",
    "print(sorted(list))\n",
    "\n",
    "print(sorted(list, reverse = True))"
   ]
  },
  {
   "cell_type": "code",
   "execution_count": 82,
   "id": "f7f32074",
   "metadata": {},
   "outputs": [
    {
     "name": "stdout",
     "output_type": "stream",
     "text": [
      "1\n",
      "2\n"
     ]
    }
   ],
   "source": [
    "# count/index\n",
    "\n",
    "L = [3, 5, 4, 1, 3, 1, 3, 2]\n",
    "\n",
    "print(L.count(4))\n",
    "\n",
    "print(L.index(4))"
   ]
  },
  {
   "cell_type": "code",
   "execution_count": 83,
   "id": "c0b25b7f",
   "metadata": {},
   "outputs": [
    {
     "name": "stdout",
     "output_type": "stream",
     "text": [
      "[5, 4, 3, 2, 1]\n"
     ]
    }
   ],
   "source": [
    "# reverse\n",
    "# it reverse the list permanently\n",
    "\n",
    "L = [1, 2, 3, 4, 5]\n",
    "\n",
    "L.reverse()\n",
    "print(L)"
   ]
  },
  {
   "cell_type": "code",
   "execution_count": 89,
   "id": "503eb4b2",
   "metadata": {},
   "outputs": [
    {
     "name": "stdout",
     "output_type": "stream",
     "text": [
      "[1, 3, 5, 2, 4]\n",
      "[1, 2, 3, 4, 5]\n",
      "[1, 3, 5, 2, 4]\n",
      "[1, 2, 3, 4, 5]\n"
     ]
    }
   ],
   "source": [
    "# sort (vs sorted)\n",
    "\n",
    "L = [1, 3, 5, 2, 4]\n",
    "\n",
    "print(L)\n",
    "\n",
    "print(sorted(L))\n",
    "\n",
    "print(L)\n",
    "\n",
    "L.sort()\n",
    "print(L)"
   ]
  },
  {
   "cell_type": "code",
   "execution_count": 99,
   "id": "2751f929",
   "metadata": {},
   "outputs": [
    {
     "name": "stdout",
     "output_type": "stream",
     "text": [
      "[1, 3, 5, 2, 4]\n",
      "2224367338752\n",
      "[1, 3, 5, 2, 4]\n",
      "2224367054208\n",
      "[1, 3, 5, 2, 4, 5]\n",
      "2224367338752\n",
      "[1, 3, 5, 2, 4]\n"
     ]
    }
   ],
   "source": [
    "# copy: copies the items of the list\n",
    "\n",
    "\n",
    "L = [1, 3, 5, 2, 4]\n",
    "L2 = L.copy()\n",
    "\n",
    "print(L)\n",
    "print(id(L))\n",
    "\n",
    "print(L2)\n",
    "print(id(L2))\n",
    "\n",
    "\n",
    "# it creates shallow copy, beacuse changes in L does not appear in L2\n",
    "L.append(5)\n",
    "print(L)\n",
    "print(id(L))\n",
    "print(L2)"
   ]
  },
  {
   "cell_type": "markdown",
   "id": "57ae43a9",
   "metadata": {},
   "source": [
    "# List Comprehension\n",
    "\n",
    "List Comprehension provides a concise way of creating lists.\n",
    "\n",
    "newlist = [expression for item in iterable if condition == True]\n",
    "\n",
    "Advantages of List Comprehension\n",
    "\n",
    "    More time-efficient and space-efficient than loops.\n",
    "    Require fewer lines of code.\n",
    "    Transforms iterative statement into a formula."
   ]
  },
  {
   "cell_type": "code",
   "execution_count": 13,
   "id": "cfc2f923",
   "metadata": {},
   "outputs": [
    {
     "name": "stdout",
     "output_type": "stream",
     "text": [
      "[1, 2, 3, 4, 5, 6, 7, 8, 9, 10]\n"
     ]
    }
   ],
   "source": [
    "# Add 1 to 10 numbers to a list using list comprehension list\n",
    "\n",
    "\n",
    "L = [num for num in range(1, 10+1)]\n",
    "print(L)"
   ]
  },
  {
   "cell_type": "code",
   "execution_count": 4,
   "id": "de517d9d",
   "metadata": {},
   "outputs": [
    {
     "name": "stdout",
     "output_type": "stream",
     "text": [
      "[-3, -21, -12]\n"
     ]
    }
   ],
   "source": [
    "# scalar multiplication on a vector\n",
    "\n",
    "v = [1,7,4]\n",
    "s = -3\n",
    "# output should be [-3,-21,-12]\n",
    "\n",
    "mul = [i*s for i in v]\n",
    "print(mul)"
   ]
  },
  {
   "cell_type": "code",
   "execution_count": 5,
   "id": "e53dc63f",
   "metadata": {},
   "outputs": [
    {
     "name": "stdout",
     "output_type": "stream",
     "text": [
      "[1, 4, 9, 16, 25]\n"
     ]
    }
   ],
   "source": [
    "# Add squares of the element of given list\n",
    "\n",
    "L = [1,2,3,4,5]\n",
    "\n",
    "square = [i*i for i in L]\n",
    "print(square)"
   ]
  },
  {
   "cell_type": "code",
   "execution_count": 6,
   "id": "f5a880bf",
   "metadata": {},
   "outputs": [
    {
     "name": "stdout",
     "output_type": "stream",
     "text": [
      "[5, 10, 15, 20, 25, 30, 35, 40, 45, 50]\n"
     ]
    }
   ],
   "source": [
    "# Print all numbers divisible by 5 in the range of 1 to 50\n",
    "\n",
    "L = [i for i in range(1, 50+1) if i % 5 ==0]\n",
    "print(L)"
   ]
  },
  {
   "cell_type": "code",
   "execution_count": 14,
   "id": "c142a8b8",
   "metadata": {},
   "outputs": [
    {
     "name": "stdout",
     "output_type": "stream",
     "text": [
      "['python', 'php']\n"
     ]
    }
   ],
   "source": [
    "# find languages which start with letter p\n",
    "\n",
    "languages = ['java','python','php','c','javascript']\n",
    "\n",
    "lang = [language for language in languages if language.startswith('p')]\n",
    "print(lang)"
   ]
  },
  {
   "cell_type": "code",
   "execution_count": 10,
   "id": "26e1ed56",
   "metadata": {},
   "outputs": [
    {
     "name": "stdout",
     "output_type": "stream",
     "text": [
      "['apple']\n"
     ]
    }
   ],
   "source": [
    "# List Comprehension\n",
    "# print fruits name whic are common in both lists and their name starts with letter a\n",
    "\n",
    "basket = ['apple','guava','cherry','banana']\n",
    "my_fruits = ['apple','kiwi','grapes','banana']\n",
    "\n",
    "f = [fruit for fruit in my_fruits if fruit in basket and fruit.startswith('a')]\n",
    "print(f)"
   ]
  },
  {
   "cell_type": "code",
   "execution_count": 17,
   "id": "ee47e48a",
   "metadata": {},
   "outputs": [
    {
     "name": "stdout",
     "output_type": "stream",
     "text": [
      "[[1, 2, 3], [2, 4, 6], [3, 6, 9]]\n"
     ]
    }
   ],
   "source": [
    "# Print a (3,3) matrix using list comprehension -> Nested List comprehension\n",
    "\n",
    "matrix = [[i*j for i in range(1,4)] for j in range(1,4)]\n",
    "print(matrix)"
   ]
  },
  {
   "cell_type": "code",
   "execution_count": 22,
   "id": "a92dab16",
   "metadata": {},
   "outputs": [
    {
     "name": "stdout",
     "output_type": "stream",
     "text": [
      "[5, 6, 7, 8, 10, 12, 14, 16, 15, 18, 21, 24, 20, 24, 28, 32]\n"
     ]
    }
   ],
   "source": [
    "# cartesian products -> List comprehension on 2 lists together\n",
    "\n",
    "L1 = [1,2,3,4]\n",
    "L2 = [5,6,7,8]\n",
    "\n",
    "CP = [i*j for i in L1 for j in L2]\n",
    "print(CP)"
   ]
  },
  {
   "cell_type": "markdown",
   "id": "e683de32",
   "metadata": {},
   "source": [
    "# 2 ways to traverse a list\n",
    "    itemwise\n",
    "    indexwise"
   ]
  },
  {
   "cell_type": "code",
   "execution_count": 26,
   "id": "a6a47c3f",
   "metadata": {},
   "outputs": [
    {
     "name": "stdout",
     "output_type": "stream",
     "text": [
      "1\n",
      "2\n",
      "3\n",
      "4\n",
      "5\n",
      "6\n"
     ]
    }
   ],
   "source": [
    "# itemwise\n",
    "\n",
    "L = [1, 2, 3, 4, 5, 6]\n",
    "\n",
    "for i in L:\n",
    "    print(i)\n",
    "    "
   ]
  },
  {
   "cell_type": "code",
   "execution_count": 28,
   "id": "88c64301",
   "metadata": {},
   "outputs": [
    {
     "name": "stdout",
     "output_type": "stream",
     "text": [
      "1\n",
      "2\n",
      "3\n",
      "4\n",
      "5\n",
      "6\n"
     ]
    }
   ],
   "source": [
    "# indexwise\n",
    "\n",
    "for j in range(0, len(L)):\n",
    "    print(L[j])"
   ]
  },
  {
   "cell_type": "markdown",
   "id": "6ae39818",
   "metadata": {},
   "source": [
    "# Zip\n",
    "The zip() function returns a zip object, which is an iterator of tuples where the first item in each passed iterator is paired together, and then the second item in each passed iterator are paired together.\n",
    "\n",
    "If the passed iterators have different lengths, the iterator with the least items decides the length of the new iterator."
   ]
  },
  {
   "cell_type": "code",
   "execution_count": 34,
   "id": "8c840db7",
   "metadata": {},
   "outputs": [
    {
     "name": "stdout",
     "output_type": "stream",
     "text": [
      "[(1, -4), (2, -2), (3, -1), (4, -3)]\n",
      "[-3, 0, 2, 1]\n"
     ]
    }
   ],
   "source": [
    "# Write a program to add items of 2 lists indexwise\n",
    "\n",
    "L1 = [1,2,3,4]\n",
    "L2 = [-4,-2,-1,-3]\n",
    "\n",
    "zip_list = list(zip(L1, L2))\n",
    "print(zip_list)\n",
    "\n",
    "l= [i+j for i,j in zip_list]\n",
    "print(l)"
   ]
  },
  {
   "cell_type": "markdown",
   "id": "2e006a2c",
   "metadata": {},
   "source": [
    "# Disadvantages of Python Lists\n",
    "    Slow\n",
    "    Risky usage\n",
    "    eats up more memory"
   ]
  },
  {
   "cell_type": "code",
   "execution_count": 35,
   "id": "f3505247",
   "metadata": {},
   "outputs": [
    {
     "name": "stdout",
     "output_type": "stream",
     "text": [
      "[1, 2, 3]\n",
      "[1, 2, 3]\n",
      "[1, 2, 3, 4]\n",
      "[1, 2, 3]\n"
     ]
    }
   ],
   "source": [
    "a = [1,2,3]\n",
    "# b = a\n",
    "b = a.copy()\n",
    "print(a)\n",
    "print(b)\n",
    "\n",
    "a.append(4)\n",
    "print(a)\n",
    "print(b)\n",
    "\n",
    "# lists are mutable"
   ]
  },
  {
   "cell_type": "markdown",
   "id": "486f1283",
   "metadata": {},
   "source": [
    "# List Examples"
   ]
  },
  {
   "cell_type": "code",
   "execution_count": 37,
   "id": "5502d402",
   "metadata": {},
   "outputs": [
    {
     "name": "stdout",
     "output_type": "stream",
     "text": [
      "[2, 4, 6, 8, 10]\n",
      "[1, 3, 5, 7, 9]\n"
     ]
    }
   ],
   "source": [
    "# Create 2 lists from a given list where \n",
    "# 1st list will contain all the odd numbers from the original list and\n",
    "# the 2nd one will contain all the even numbers \n",
    "\n",
    "L = [1,2,3,4,5,6,7,8,9,10]\n",
    "\n",
    "even_list = [i for i in L if i % 2 == 0]\n",
    "print(even_list)\n",
    "\n",
    "odd_list = [i for i in L if i % 2 != 0]\n",
    "print(odd_list)"
   ]
  },
  {
   "cell_type": "code",
   "execution_count": 2,
   "id": "3c26c0dd",
   "metadata": {},
   "outputs": [
    {
     "name": "stdout",
     "output_type": "stream",
     "text": [
      "[1, 2, 3, 4, 5, 6, 7, 8]\n"
     ]
    }
   ],
   "source": [
    "# Write a program to merge 2 list without using the + operator\n",
    "L1 = [1,2,3,4]\n",
    "L2 = [5,6,7,8]\n",
    "\n",
    "\n",
    "L = []\n",
    "for i in L1:\n",
    "    L.append(i)\n",
    "for j in L2:\n",
    "    L.append(j)\n",
    "\n",
    "print(L)"
   ]
  },
  {
   "cell_type": "code",
   "execution_count": 30,
   "id": "4bcc924e",
   "metadata": {},
   "outputs": [
    {
     "name": "stdout",
     "output_type": "stream",
     "text": [
      "[1, 2, 300, 4, 5, 300]\n"
     ]
    }
   ],
   "source": [
    "# Write a program to replace an item with a different item if found in the list \n",
    "L = [1,2,3,4,5,3]\n",
    "# replace 3 with 300\n",
    "\n",
    "modified_L= [300 if item == 3 else item for item in L]\n",
    "\n",
    "print(modified_L)\n",
    "    "
   ]
  },
  {
   "cell_type": "code",
   "execution_count": 34,
   "id": "8fe678d9",
   "metadata": {},
   "outputs": [
    {
     "name": "stdout",
     "output_type": "stream",
     "text": [
      "[1, 2, 5, 6, 7, 8, 9, 10, 3, 4]\n"
     ]
    }
   ],
   "source": [
    "# Write a program that can convert a 2D list to 1D list\n",
    "\n",
    "L = [1,2,[5,6,7],[8,9,10],3,4]\n",
    "modified_list = []\n",
    "\n",
    "for i in L:\n",
    "    if type(i) != int:\n",
    "        for j in i:\n",
    "            modified_list.append(j)\n",
    "    else:\n",
    "        modified_list.append(i)\n",
    "print(modified_list)\n",
    "        "
   ]
  },
  {
   "cell_type": "code",
   "execution_count": 36,
   "id": "31e7b3bb",
   "metadata": {},
   "outputs": [
    {
     "name": "stdout",
     "output_type": "stream",
     "text": [
      "[1, 2, 5, 3, 9, 4]\n"
     ]
    }
   ],
   "source": [
    "# Write a program to remove duplicate items from a list\n",
    "\n",
    "L = [1,2,1,2,3,4,5,3,4,9,9,4]\n",
    "\n",
    "for i in L:\n",
    "    if L.count(i) > 1:\n",
    "        L.remove(i)\n",
    "        \n",
    "print(L)"
   ]
  },
  {
   "cell_type": "code",
   "execution_count": 49,
   "id": "4771a5cf",
   "metadata": {},
   "outputs": [
    {
     "name": "stdout",
     "output_type": "stream",
     "text": [
      "Given list is in ascending order.\n"
     ]
    }
   ],
   "source": [
    "# Write a program to check if a list is in ascending order or not\n",
    "L = [1,2,3,4,5]\n",
    "\n",
    "for i in range(0, len(L)-1):\n",
    "    if L[i] > L[i+1]:\n",
    "        print(\"Given list is not in ascending order.\")\n",
    "        break\n",
    "        \n",
    "else:\n",
    "    print(\"Given list is in ascending order.\") "
   ]
  },
  {
   "cell_type": "code",
   "execution_count": null,
   "id": "9bb37d52",
   "metadata": {},
   "outputs": [],
   "source": []
  }
 ],
 "metadata": {
  "kernelspec": {
   "display_name": "Python 3 (ipykernel)",
   "language": "python",
   "name": "python3"
  },
  "language_info": {
   "codemirror_mode": {
    "name": "ipython",
    "version": 3
   },
   "file_extension": ".py",
   "mimetype": "text/x-python",
   "name": "python",
   "nbconvert_exporter": "python",
   "pygments_lexer": "ipython3",
   "version": "3.9.16"
  }
 },
 "nbformat": 4,
 "nbformat_minor": 5
}
