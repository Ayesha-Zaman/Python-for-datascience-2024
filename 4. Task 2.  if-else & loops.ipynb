{
 "cells": [
  {
   "cell_type": "code",
   "execution_count": 1,
   "id": "2c234e34",
   "metadata": {},
   "outputs": [
    {
     "name": "stdout",
     "output_type": "stream",
     "text": [
      "Enter 1st angle: 6\n",
      "Enter 2nd angle: 7\n",
      "Enter 3rd angle: 3\n",
      "Valid input.\n",
      "Yes! it can form a triangle.\n"
     ]
    }
   ],
   "source": [
    "# Problem 1: Write a program that take a user input of three angles and will find out whether it can form a triangle or not.\n",
    "# steps:\n",
    "\n",
    "# taking input from user of three angles\n",
    "a = int(input(\"Enter 1st angle: \"))\n",
    "b = int(input(\"Enter 2nd angle: \"))\n",
    "c = int(input(\"Enter 3rd angle: \"))\n",
    "\n",
    "# validating input: a <= 0 or b <= 0 or c <=0 0r a + b + c <= 180\n",
    "if a <= 0 or b <= 0 or c <= 0 or a + b + c >= 180:\n",
    "    print(\"Invalid input.\")\n",
    "else: \n",
    "    print(\"Valid input.\")\n",
    "# applying equation\n",
    "# triangle = a + b > c and a + c > b and b + c > a \n",
    "\n",
    "# checking if the conditions are true for a triangle, and displaying result.\n",
    "if a + b > c and a + c > b and b + c > a:\n",
    "    print(\"Yes! it can form a triangle.\")\n",
    "else:\n",
    "    print(\"Nope! it cannot form a triangle.\")"
   ]
  },
  {
   "cell_type": "code",
   "execution_count": 2,
   "id": "9a1ded26",
   "metadata": {},
   "outputs": [
    {
     "name": "stdout",
     "output_type": "stream",
     "text": [
      "Enter cost price: 67\n",
      "Enter selling price: 87\n",
      "Its a profit\n"
     ]
    }
   ],
   "source": [
    "# program 2: Program that will take user input of cost price and selling price and determines whether its a loss or a profit.\n",
    "\n",
    "# take input from user\n",
    "# cost price\n",
    "CP = int(input(\"Enter cost price: \"))\n",
    "SP = int(input(\"Enter selling price: \"))\n",
    "\n",
    "# apply condition to check wether its loss or profit\n",
    "if SP - CP > 0:\n",
    "    print(\"Its a profit\")\n",
    "else:\n",
    "    print(\"Its a loss\")"
   ]
  },
  {
   "cell_type": "code",
   "execution_count": 3,
   "id": "67eec067",
   "metadata": {},
   "outputs": [
    {
     "name": "stdout",
     "output_type": "stream",
     "text": [
      "Enter value for conversion: 3\n",
      "Press 1 to convert cm to ft\n",
      "Press 2 to convert km to miles\n",
      "Press 3 to convert USD to PKR\n",
      "Press 4 to Exit\n",
      "Select option from menue: 3\n",
      "\n",
      "Value after conversion from USD to PKR is: 834\n"
     ]
    }
   ],
   "source": [
    "# program 3: Write a menu-driven program -\n",
    "# 1 cm to ft\n",
    "# 2 km to miles\n",
    "# 3 USD to PKR\n",
    "# 4 exit\n",
    "\n",
    "# taking user inputfor conversion\n",
    "num = int(input(\"Enter value for conversion: \"))\n",
    "\n",
    "print(\"Press 1 to convert cm to ft\")\n",
    "print(\"Press 2 to convert km to miles\")\n",
    "print(\"Press 3 to convert USD to PKR\")\n",
    "print(\"Press 4 to Exit\")\n",
    "\n",
    "# taking options for conversion\n",
    "op = int(input(\"Select option from menue: \"))\n",
    "print()\n",
    "if op == 1:\n",
    "    feet = num * 0.0328\n",
    "    print(f'Value after conversion from cm to ft is: {feet}')\n",
    "elif op == 2:\n",
    "    mile = num / 1.609344\n",
    "    print(f'Value after conversion from Km to miles is: {mile}')\n",
    "elif op == 3:\n",
    "    PKR = num * 278\n",
    "    print(f'Value after conversion from USD to PKR is: {PKR}')\n",
    "elif op == 4:\n",
    "    4 == -1\n",
    "else:\n",
    "    print(\"Please enter the correct option.\")"
   ]
  },
  {
   "cell_type": "code",
   "execution_count": 4,
   "id": "9a788650",
   "metadata": {},
   "outputs": [
    {
     "name": "stdout",
     "output_type": "stream",
     "text": [
      "Enter 1st number: 2\n",
      "Enter 2nd number: 1\n",
      "2\n",
      "1\n",
      "3\n",
      "4\n",
      "7\n",
      "11\n",
      "18\n",
      "29\n",
      "47\n",
      "76\n",
      "123\n"
     ]
    }
   ],
   "source": [
    "# Program 4: Display Fibonacci series up to 10 terms.\n",
    "# enter two numbers\n",
    "num1 = int(input(\"Enter 1st number: \"))\n",
    "num2 = int(input(\"Enter 2nd number: \"))\n",
    "print(num1)\n",
    "print(num2)\n",
    "i = 2\n",
    "while i <= 10:\n",
    "    # take sum and print t\n",
    "    sum = num1 + num2\n",
    "    print(sum)\n",
    "    \n",
    "    \n",
    "    num1 = num2\n",
    "    num2 = sum\n",
    "    # incriment in the condition\n",
    "    i += 1\n"
   ]
  },
  {
   "cell_type": "code",
   "execution_count": 5,
   "id": "0e45639e",
   "metadata": {},
   "outputs": [
    {
     "name": "stdout",
     "output_type": "stream",
     "text": [
      "Enter 1st number: 0\n",
      "Enter 2nd number: 1\n",
      "Fibonacci sercies upto 10 term: [0, 1, 1, 2, 3, 5, 8, 13, 21, 34]\n"
     ]
    }
   ],
   "source": [
    "# enter two numbers\n",
    "first_num = int(input(\"Enter 1st number: \"))\n",
    "second_num = int(input(\"Enter 2nd number: \"))\n",
    "fib_series = [first_num, second_num]\n",
    "while len(fib_series) < 10:\n",
    "    # take sum of 1st two terms\n",
    "    next_term = first_num + second_num\n",
    "    fib_series.append(next_term)\n",
    "    \n",
    "    first_num = second_num\n",
    "    second_num = next_term\n",
    "#display the output\n",
    "print(f'Fibonacci sercies upto 10 term: {fib_series}')"
   ]
  },
  {
   "cell_type": "code",
   "execution_count": 6,
   "id": "a955d1d2",
   "metadata": {},
   "outputs": [
    {
     "name": "stdout",
     "output_type": "stream",
     "text": [
      "Enter a number to find factorial: 6\n",
      "Factorial of 6 is: 720\n"
     ]
    }
   ],
   "source": [
    "# program 5: Find the factorial of a given number.\n",
    "# take input from user\n",
    "num = int(input(\"Enter a number to find factorial: \"))\n",
    "\n",
    "# intialize the end limit and apply loop\n",
    "i = 1\n",
    "fact = 1\n",
    "while i <= num:\n",
    "    \n",
    "    # calculate factorial\n",
    "    fact = fact * i\n",
    "    \n",
    "    # increment value of i\n",
    "    i += 1\n",
    "\n",
    "# print the result\n",
    "print(f'Factorial of {num} is: {fact}')"
   ]
  },
  {
   "cell_type": "code",
   "execution_count": null,
   "id": "d37ec9b1",
   "metadata": {},
   "outputs": [],
   "source": [
    "# Program 6: Reverse a given integer number.\n",
    "num = int(input(\"Enter an integer number: \"))\n",
    "\n",
    "# intializing empty list to store reverse string\n",
    "reverse = []\n",
    "\n",
    "while num != 0:\n",
    "    temp = num % 10\n",
    "    reverse.append(temp)\n",
    "    num = num // 10\n",
    "    \n",
    "    # converting list into string\n",
    "    l_to_s = ''.join(map(str, reverse))\n",
    "print(f'The reverse string is {l_to_s}')\n",
    "    "
   ]
  },
  {
   "cell_type": "code",
   "execution_count": 3,
   "id": "c68eb898",
   "metadata": {},
   "outputs": [
    {
     "name": "stdout",
     "output_type": "stream",
     "text": [
      "Enter an integer: 30\n",
      "The sum of integers is: 276\n"
     ]
    }
   ],
   "source": [
    "# Problem 8: Take a user input as integer N. Find out the sum from 1 to N. \n",
    "# If any number if divisible by 5, then skip that number. \n",
    "# And if the sum is greater than 300, don't need to calculate the sum further more. Print the final result. And don't use for loop to solve this problem.\n",
    "\n",
    "num = int(input(\"Enter an integer: \"))\n",
    "\n",
    "sum = 0\n",
    "i = 1\n",
    "while i <= num:\n",
    "    if i % 5 == 0:\n",
    "        sum += 0\n",
    "    else:\n",
    "        sum += i\n",
    "        if sum > 300:\n",
    "            sum -= i\n",
    "            break\n",
    "    i += 1\n",
    "         \n",
    "print(f'The sum of integers is: {sum}')\n",
    "    "
   ]
  },
  {
   "cell_type": "code",
   "execution_count": null,
   "id": "e33fc6d0",
   "metadata": {},
   "outputs": [],
   "source": []
  }
 ],
 "metadata": {
  "kernelspec": {
   "display_name": "Python 3 (ipykernel)",
   "language": "python",
   "name": "python3"
  },
  "language_info": {
   "codemirror_mode": {
    "name": "ipython",
    "version": 3
   },
   "file_extension": ".py",
   "mimetype": "text/x-python",
   "name": "python",
   "nbconvert_exporter": "python",
   "pygments_lexer": "ipython3",
   "version": "3.9.16"
  }
 },
 "nbformat": 4,
 "nbformat_minor": 5
}
