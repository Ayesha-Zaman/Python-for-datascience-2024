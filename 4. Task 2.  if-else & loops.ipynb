{
 "cells": [
  {
   "cell_type": "code",
   "execution_count": 20,
   "id": "2c234e34",
   "metadata": {},
   "outputs": [
    {
     "name": "stdout",
     "output_type": "stream",
     "text": [
      "Enter 1st angle: 34\n",
      "Enter 2nd angle: 45\n",
      "Enter 3rd angle: 23\n",
      "Valid input.\n",
      "Yes! it can form a triangle.\n"
     ]
    }
   ],
   "source": [
    "# Problem 1: Write a program that take a user input of three angles and will find out whether it can form a triangle or not.\n",
    "# steps:\n",
    "\n",
    "# taking input from user of three angles\n",
    "a = int(input(\"Enter 1st angle: \"))\n",
    "b = int(input(\"Enter 2nd angle: \"))\n",
    "c = int(input(\"Enter 3rd angle: \"))\n",
    "\n",
    "# validating input: a <= 0 or b <= 0 or c <=0 0r a + b + c <= 180\n",
    "if a <= 0 or b <= 0 or c <= 0 or a + b + c >= 180:\n",
    "    print(\"Invalid input.\")\n",
    "else: \n",
    "    print(\"Valid input.\")\n",
    "# applying equation\n",
    "# triangle = a + b > c and a + c > b and b + c > a \n",
    "\n",
    "# checking if the conditions are true for a triangle, and displaying result.\n",
    "if a + b > c and a + c > b and b + c > a:\n",
    "    print(\"Yes! it can form a triangle.\")\n",
    "else:\n",
    "    print(\"Nope! it cannot form a triangle.\")"
   ]
  },
  {
   "cell_type": "code",
   "execution_count": null,
   "id": "9a1ded26",
   "metadata": {},
   "outputs": [],
   "source": []
  }
 ],
 "metadata": {
  "kernelspec": {
   "display_name": "Python 3 (ipykernel)",
   "language": "python",
   "name": "python3"
  },
  "language_info": {
   "codemirror_mode": {
    "name": "ipython",
    "version": 3
   },
   "file_extension": ".py",
   "mimetype": "text/x-python",
   "name": "python",
   "nbconvert_exporter": "python",
   "pygments_lexer": "ipython3",
   "version": "3.9.16"
  }
 },
 "nbformat": 4,
 "nbformat_minor": 5
}
