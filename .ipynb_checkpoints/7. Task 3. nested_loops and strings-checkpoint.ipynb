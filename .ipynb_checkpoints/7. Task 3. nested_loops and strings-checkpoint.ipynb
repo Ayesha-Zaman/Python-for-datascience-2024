{
 "cells": [
  {
   "cell_type": "raw",
   "id": "9f8cb2a5",
   "metadata": {},
   "source": [
    "Problem 1: Print the following pattern. Write a program to use for loop to print the following reverse number pattern.\n",
    "    \n",
    "5 4 3 2 1 \n",
    "4 3 2 1 \n",
    "3 2 1 \n",
    "2 1 \n",
    "1"
   ]
  },
  {
   "cell_type": "code",
   "execution_count": 6,
   "id": "b36696c7",
   "metadata": {},
   "outputs": [
    {
     "name": "stdout",
     "output_type": "stream",
     "text": [
      "Enter number of column: 6\n",
      "6 5 4 3 2 1 \n",
      "5 4 3 2 1 \n",
      "4 3 2 1 \n",
      "3 2 1 \n",
      "2 1 \n",
      "1 \n"
     ]
    }
   ],
   "source": [
    "# steps:\n",
    "# take user input for number of columns\n",
    "# apply reverse for loop for number of column\n",
    "# decrease the number by -1 in every iteration\n",
    "# apply nested for loop for printing number of rows\n",
    "# decrease the loop by -1 in order to print in reverse order\n",
    "# print the statement on the same line\n",
    "# and at last print() in order to just move the next line\n",
    "\n",
    "num = int(input(\"Enter number of column: \"))\n",
    "\n",
    "for i in range(num, 0, -1):\n",
    "    \n",
    "    for j in range(i, 0, -1):\n",
    "        print(j, end = ' ')\n",
    "        \n",
    "    print()\n",
    "\n"
   ]
  },
  {
   "cell_type": "raw",
   "id": "4f7d4513",
   "metadata": {},
   "source": [
    "Problem 2: Print the following pattern.\n",
    "    \n",
    "* \n",
    "* * \n",
    "* * * \n",
    "* * * * \n",
    "* * * * * \n",
    "* * * * \n",
    "* * * \n",
    "* * \n",
    "*"
   ]
  },
  {
   "cell_type": "code",
   "execution_count": 9,
   "id": "c54d2720",
   "metadata": {},
   "outputs": [
    {
     "name": "stdout",
     "output_type": "stream",
     "text": [
      "Enter the max numer of stars: 5\n",
      "* \n",
      "* * \n",
      "* * * \n",
      "* * * * \n",
      "* * * * * \n",
      "* * * * \n",
      "* * * \n",
      "* * \n",
      "* \n"
     ]
    }
   ],
   "source": [
    "# steps:\n",
    "# take input for user the max number of star wanted to print \n",
    "# apply for loop in ascending oredr\n",
    "# incriment the number for every iteration\n",
    "# apply nested for loop for printing number of columns\n",
    "# incriment the loop by 1 \n",
    "# print the statement on the same line\n",
    "# and at last print() in order to just move the next line\n",
    "# apply another for loop in reverse order\n",
    "# decrease the number by -1 in every iteration\n",
    "# apply nested for loop for printing number of rows\n",
    "# decrease the loop by -1 in order to print in reverse order\n",
    "# print the statement on the same line\n",
    "# and at last print() in order to just move the next line\n",
    "\n",
    "num = int(input(\"Enter the max numer of stars: \"))\n",
    "\n",
    "for i in range(1, num+1, 1):\n",
    "    for j in range(1, i+1, 1 ):\n",
    "        print('*', end = ' ')\n",
    "    print()\n",
    "    \n",
    "for k in range(num-1, 0, -1):\n",
    "    for l in range(k, 0, -1):\n",
    "        print('*', end = ' ')\n",
    "        \n",
    "    print()"
   ]
  },
  {
   "cell_type": "raw",
   "id": "8dcb677c",
   "metadata": {},
   "source": [
    "Problem 3: Write a program to pring the following pattern\n",
    "    \n",
    "    *\n",
    "  * * *\n",
    "* * * * *"
   ]
  },
  {
   "cell_type": "code",
   "execution_count": 18,
   "id": "d4691646",
   "metadata": {},
   "outputs": [
    {
     "name": "stdout",
     "output_type": "stream",
     "text": [
      "Enter the max numer of stars: 7\n",
      "      * \n",
      "    * * * \n",
      "  * * * * * \n",
      "* * * * * * * \n"
     ]
    }
   ],
   "source": [
    "num = int(input(\"Enter the max numer of stars: \"))\n",
    "\n",
    "for i in range(1, num+1, 2):\n",
    "    for k in range(num, i, -1):\n",
    "        print(\" \", end = \"\")\n",
    "    for j in range(1, i+1, 1 ):\n",
    "        print('*', end = ' ')\n",
    "    print( )"
   ]
  },
  {
   "cell_type": "raw",
   "id": "e1ff8a57",
   "metadata": {},
   "source": [
    "Problem 4: Write a program to print the diamond pattern."
   ]
  },
  {
   "cell_type": "code",
   "execution_count": 43,
   "id": "ca532c26",
   "metadata": {},
   "outputs": [
    {
     "name": "stdout",
     "output_type": "stream",
     "text": [
      "Enter the max numer of stars: 7\n",
      "      * \n",
      "     * * \n",
      "    * * * \n",
      "   * * * * \n",
      "  * * * * * \n",
      " * * * * * * \n",
      "* * * * * * * \n",
      " * * * * * * \n",
      "  * * * * * \n",
      "   * * * * \n",
      "    * * * \n",
      "     * * \n",
      "      * \n"
     ]
    }
   ],
   "source": [
    "num = int(input(\"Enter the max numer of stars: \"))\n",
    "\n",
    "for i in range(1, num+1, 1):\n",
    "    for m in range(num, i, -1):\n",
    "        print(' ', end = '')\n",
    "    for j in range(1, i+1, 1):\n",
    "        print('*' , end = ' ')\n",
    "        \n",
    "    print()\n",
    "    \n",
    "for k in range(num-1, 0, -1):\n",
    "    for n in range(k, num , 1):\n",
    "        print(' ', end = '')\n",
    "    for l in range(k, 0, -1):\n",
    "        print('*' , end = ' ')\n",
    "        \n",
    "    print()"
   ]
  },
  {
   "cell_type": "raw",
   "id": "492483ad",
   "metadata": {},
   "source": [
    "Problem 5:Write a program to print the following pattern\n",
    "1\n",
    "\n",
    "2 1\n",
    "\n",
    "3 2 1\n",
    "\n",
    "4 3 2 1\n",
    "\n",
    "5 4 3 2 1"
   ]
  },
  {
   "cell_type": "code",
   "execution_count": 46,
   "id": "4e39a53d",
   "metadata": {},
   "outputs": [
    {
     "name": "stdout",
     "output_type": "stream",
     "text": [
      "Enter a number for max rows: 6\n",
      "1 \n",
      "2 1 \n",
      "3 2 1 \n",
      "4 3 2 1 \n",
      "5 4 3 2 1 \n",
      "6 5 4 3 2 1 \n"
     ]
    }
   ],
   "source": [
    "num = int(input(\"Enter a number for max rows: \"))\n",
    "\n",
    "for i in range(1, num+1, 1):\n",
    "    for j in range(i, 0, -1):\n",
    "        print(j, end= ' ')\n",
    "        \n",
    "    print()"
   ]
  },
  {
   "cell_type": "code",
   "execution_count": null,
   "id": "01ade89d",
   "metadata": {},
   "outputs": [],
   "source": []
  }
 ],
 "metadata": {
  "kernelspec": {
   "display_name": "Python 3 (ipykernel)",
   "language": "python",
   "name": "python3"
  },
  "language_info": {
   "codemirror_mode": {
    "name": "ipython",
    "version": 3
   },
   "file_extension": ".py",
   "mimetype": "text/x-python",
   "name": "python",
   "nbconvert_exporter": "python",
   "pygments_lexer": "ipython3",
   "version": "3.9.16"
  }
 },
 "nbformat": 4,
 "nbformat_minor": 5
}
