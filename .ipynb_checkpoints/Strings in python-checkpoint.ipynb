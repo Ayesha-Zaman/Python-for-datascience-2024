{
 "cells": [
  {
   "cell_type": "raw",
   "id": "429a1bdd",
   "metadata": {},
   "source": [
    "Strings are basically sequence of characters\n",
    "\n",
    "In specifically python, strings are the sequence of unicode characters"
   ]
  },
  {
   "cell_type": "code",
   "execution_count": 1,
   "id": "0bb4ccf7",
   "metadata": {},
   "outputs": [
    {
     "name": "stdout",
     "output_type": "stream",
     "text": [
      "Data Science\n"
     ]
    }
   ],
   "source": [
    "# creating a string\n",
    "\n",
    "# there are multiple ways to create string\n",
    "\n",
    "# using single quote\n",
    "field = 'Data Science'\n",
    "print(field)\n",
    "\n"
   ]
  },
  {
   "cell_type": "code",
   "execution_count": null,
   "id": "6c7d4647",
   "metadata": {},
   "outputs": [],
   "source": []
  }
 ],
 "metadata": {
  "kernelspec": {
   "display_name": "Python 3 (ipykernel)",
   "language": "python",
   "name": "python3"
  },
  "language_info": {
   "codemirror_mode": {
    "name": "ipython",
    "version": 3
   },
   "file_extension": ".py",
   "mimetype": "text/x-python",
   "name": "python",
   "nbconvert_exporter": "python",
   "pygments_lexer": "ipython3",
   "version": "3.9.16"
  }
 },
 "nbformat": 4,
 "nbformat_minor": 5
}
