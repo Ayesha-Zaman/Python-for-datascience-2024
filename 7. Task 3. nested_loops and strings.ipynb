{
 "cells": [
  {
   "cell_type": "raw",
   "id": "4dbed23c",
   "metadata": {},
   "source": [
    "Problem 1: Print the following pattern. Write a program to use for loop to print the following reverse number pattern.\n",
    "    \n",
    "5 4 3 2 1 \n",
    "4 3 2 1 \n",
    "3 2 1 \n",
    "2 1 \n",
    "1"
   ]
  },
  {
   "cell_type": "code",
   "execution_count": 6,
   "id": "8a897356",
   "metadata": {},
   "outputs": [
    {
     "name": "stdout",
     "output_type": "stream",
     "text": [
      "Enter number of column: 6\n",
      "6 5 4 3 2 1 \n",
      "5 4 3 2 1 \n",
      "4 3 2 1 \n",
      "3 2 1 \n",
      "2 1 \n",
      "1 \n"
     ]
    }
   ],
   "source": [
    "# steps:\n",
    "# take user input for number of columns\n",
    "# apply reverse for loop for number of column\n",
    "# decrease the number by -1 in every iteration\n",
    "# apply nested for loop for printing number of rows\n",
    "# decrease the loop by -1 in order to print in reverse order\n",
    "# print the statement on the same line\n",
    "# and at last print() in order to just move the next line\n",
    "\n",
    "num = int(input(\"Enter number of column: \"))\n",
    "\n",
    "for i in range(num, 0, -1):\n",
    "    \n",
    "    for j in range(i, 0, -1):\n",
    "        print(j, end = ' ')\n",
    "        \n",
    "    print()\n",
    "\n"
   ]
  },
  {
   "cell_type": "code",
   "execution_count": null,
   "id": "02d8c530",
   "metadata": {},
   "outputs": [],
   "source": []
  },
  {
   "cell_type": "raw",
   "id": "b6e92934",
   "metadata": {},
   "source": [
    "Problem 2: Print the following pattern.\n",
    "    \n",
    "* \n",
    "* * \n",
    "* * * \n",
    "* * * * \n",
    "* * * * * \n",
    "* * * * \n",
    "* * * \n",
    "* * \n",
    "*"
   ]
  },
  {
   "cell_type": "code",
   "execution_count": 9,
   "id": "76b995f9",
   "metadata": {},
   "outputs": [
    {
     "name": "stdout",
     "output_type": "stream",
     "text": [
      "Enter the max numer of stars: 5\n",
      "* \n",
      "* * \n",
      "* * * \n",
      "* * * * \n",
      "* * * * * \n",
      "* * * * \n",
      "* * * \n",
      "* * \n",
      "* \n"
     ]
    }
   ],
   "source": [
    "# steps:\n",
    "# take input for user the max number of star wanted to print \n",
    "# apply for loop in ascending oredr\n",
    "# incriment the number for every iteration\n",
    "# apply nested for loop for printing number of columns\n",
    "# incriment the loop by 1 \n",
    "# print the statement on the same line\n",
    "# and at last print() in order to just move the next line\n",
    "# apply another for loop in reverse order\n",
    "# decrease the number by -1 in every iteration\n",
    "# apply nested for loop for printing number of rows\n",
    "# decrease the loop by -1 in order to print in reverse order\n",
    "# print the statement on the same line\n",
    "# and at last print() in order to just move the next line\n",
    "\n",
    "num = int(input(\"Enter the max numer of stars: \"))\n",
    "\n",
    "for i in range(1, num+1, 1):\n",
    "    for j in range(1, i+1, 1 ):\n",
    "        print('*', end = ' ')\n",
    "    print()\n",
    "    \n",
    "for k in range(num-1, 0, -1):\n",
    "    for l in range(k, 0, -1):\n",
    "        print('*', end = ' ')\n",
    "        \n",
    "    print()"
   ]
  },
  {
   "cell_type": "code",
   "execution_count": null,
   "id": "0a96149b",
   "metadata": {},
   "outputs": [],
   "source": []
  },
  {
   "cell_type": "raw",
   "id": "fee62c19",
   "metadata": {},
   "source": [
    "Problem 3: Write a program to pring the following pattern\n",
    "    \n",
    "    *\n",
    "  * * *\n",
    "* * * * *"
   ]
  },
  {
   "cell_type": "code",
   "execution_count": 18,
   "id": "4e0f9698",
   "metadata": {},
   "outputs": [
    {
     "name": "stdout",
     "output_type": "stream",
     "text": [
      "Enter the max numer of stars: 7\n",
      "      * \n",
      "    * * * \n",
      "  * * * * * \n",
      "* * * * * * * \n"
     ]
    }
   ],
   "source": [
    "num = int(input(\"Enter the max numer of stars: \"))\n",
    "\n",
    "for i in range(1, num+1, 2):\n",
    "    for k in range(num, i, -1):\n",
    "        print(\" \", end = \"\")\n",
    "    for j in range(1, i+1, 1 ):\n",
    "        print('*', end = ' ')\n",
    "    print( )"
   ]
  },
  {
   "cell_type": "code",
   "execution_count": null,
   "id": "9841cbfe",
   "metadata": {},
   "outputs": [],
   "source": []
  },
  {
   "cell_type": "raw",
   "id": "47c63930",
   "metadata": {},
   "source": [
    "Problem 4: Write a program to print the diamond pattern."
   ]
  },
  {
   "cell_type": "code",
   "execution_count": 43,
   "id": "cd7a070b",
   "metadata": {},
   "outputs": [
    {
     "name": "stdout",
     "output_type": "stream",
     "text": [
      "Enter the max numer of stars: 7\n",
      "      * \n",
      "     * * \n",
      "    * * * \n",
      "   * * * * \n",
      "  * * * * * \n",
      " * * * * * * \n",
      "* * * * * * * \n",
      " * * * * * * \n",
      "  * * * * * \n",
      "   * * * * \n",
      "    * * * \n",
      "     * * \n",
      "      * \n"
     ]
    }
   ],
   "source": [
    "num = int(input(\"Enter the max numer of stars: \"))\n",
    "\n",
    "for i in range(1, num+1, 1):\n",
    "    for m in range(num, i, -1):\n",
    "        print(' ', end = '')\n",
    "    for j in range(1, i+1, 1):\n",
    "        print('*' , end = ' ')\n",
    "        \n",
    "    print()\n",
    "    \n",
    "for k in range(num-1, 0, -1):\n",
    "    for n in range(k, num , 1):\n",
    "        print(' ', end = '')\n",
    "    for l in range(k, 0, -1):\n",
    "        print('*' , end = ' ')\n",
    "        \n",
    "    print()"
   ]
  },
  {
   "cell_type": "code",
   "execution_count": null,
   "id": "09a650bb",
   "metadata": {},
   "outputs": [],
   "source": []
  },
  {
   "cell_type": "raw",
   "id": "4b8c9f9a",
   "metadata": {},
   "source": [
    "Problem 5:Write a program to print the following pattern\n",
    "1\n",
    "\n",
    "2 1\n",
    "\n",
    "3 2 1\n",
    "\n",
    "4 3 2 1\n",
    "\n",
    "5 4 3 2 1"
   ]
  },
  {
   "cell_type": "code",
   "execution_count": 46,
   "id": "ba9437d5",
   "metadata": {},
   "outputs": [
    {
     "name": "stdout",
     "output_type": "stream",
     "text": [
      "Enter a number for max rows: 6\n",
      "1 \n",
      "2 1 \n",
      "3 2 1 \n",
      "4 3 2 1 \n",
      "5 4 3 2 1 \n",
      "6 5 4 3 2 1 \n"
     ]
    }
   ],
   "source": [
    "num = int(input(\"Enter a number for max rows: \"))\n",
    "\n",
    "for i in range(1, num+1, 1):\n",
    "    for j in range(i, 0, -1):\n",
    "        print(j, end= ' ')\n",
    "        \n",
    "    print()"
   ]
  },
  {
   "cell_type": "code",
   "execution_count": null,
   "id": "f1100f07",
   "metadata": {},
   "outputs": [],
   "source": []
  },
  {
   "cell_type": "raw",
   "id": "780445b4",
   "metadata": {},
   "source": [
    "Problem 6: Write a Python Program to Find the Sum of the Series till the nth term:\n",
    "1 + x^2/2 + x^3/3 + … x^n/n\n",
    "n will be provided by the user"
   ]
  },
  {
   "cell_type": "code",
   "execution_count": 51,
   "id": "ef00d37b",
   "metadata": {},
   "outputs": [
    {
     "name": "stdout",
     "output_type": "stream",
     "text": [
      "Enter the number: 3\n",
      "Enter the term no: 2\n",
      "Sum of the series of number 3 till 2th term is: 7.5\n"
     ]
    }
   ],
   "source": [
    "x = int(input(\"Enter the number: \"))\n",
    "n = int(input(\"Enter the term no: \"))\n",
    "\n",
    "Sum = 0\n",
    "\n",
    "divide = 0\n",
    "\n",
    "power = 0\n",
    "\n",
    "for i in range(1, n+1, 1):\n",
    "    power = x**i\n",
    "    divide = power/i\n",
    "    Sum = Sum + divide\n",
    "\n",
    "print('Sum of the series of number {} till {}th term is: {}'.format(x, n, Sum))\n",
    "    "
   ]
  },
  {
   "cell_type": "code",
   "execution_count": null,
   "id": "e49ab9be",
   "metadata": {},
   "outputs": [],
   "source": []
  },
  {
   "cell_type": "raw",
   "id": "e2c9b558",
   "metadata": {},
   "source": [
    "Problem 7: The natural logarithm can be approximated by the following series.\n",
    "\n",
    "x-1/x + 1/2 (x-1/x)^2  + 1/2 (x-1/x)^3 + 1/2 (x-1/x)^4 +......\n",
    "\n",
    "If x is input through the keyboard, write a program to calculate the sum of the first seven terms of this series."
   ]
  },
  {
   "cell_type": "code",
   "execution_count": 3,
   "id": "64ac160a",
   "metadata": {},
   "outputs": [
    {
     "name": "stdout",
     "output_type": "stream",
     "text": [
      "Enter the number: 4\n",
      "Enter the term no: 7\n",
      "Sum of the first 7 terms of this series is: 1.674774169921875\n"
     ]
    }
   ],
   "source": [
    "x = int(input(\"Enter the number: \"))\n",
    "n = int(input(\"Enter the term no: \"))\n",
    "\n",
    "\n",
    "temp = 0\n",
    "\n",
    "power = 0\n",
    "\n",
    "Sum = (x-1)/x\n",
    "for i in range(2, n+1, 1):\n",
    "    power = ((x-1)/x)**i\n",
    "    temp = (1/2)*(power)\n",
    "    Sum = Sum + temp\n",
    "    \n",
    "print('Sum of the first {} terms of this series is: {}'.format(n, Sum))\n"
   ]
  },
  {
   "cell_type": "raw",
   "id": "136ae707",
   "metadata": {},
   "source": [
    "Problem 9: Write a program that will take a decimal number as input and prints out the binary equivalent of the number"
   ]
  },
  {
   "cell_type": "code",
   "execution_count": 37,
   "id": "34a06b14",
   "metadata": {},
   "outputs": [
    {
     "name": "stdout",
     "output_type": "stream",
     "text": [
      "Enter a decimal number: 160\n",
      "Binary conversion of above number is: 00000101\n"
     ]
    }
   ],
   "source": [
    "num = int(input(\"Enter a decimal number: \"))\n",
    "\n",
    "L = []\n",
    "while num != 0:\n",
    "    temp = num % 2\n",
    "    L.append(temp)\n",
    "    num = num // 2\n",
    "    \n",
    "l_to_f = ''.join(map(str, L))\n",
    "    \n",
    "print('Binary conversion of above number is: {}'.format(l_to_f))"
   ]
  },
  {
   "cell_type": "code",
   "execution_count": null,
   "id": "dd00aa40",
   "metadata": {},
   "outputs": [],
   "source": []
  }
 ],
 "metadata": {
  "kernelspec": {
   "display_name": "Python 3 (ipykernel)",
   "language": "python",
   "name": "python3"
  },
  "language_info": {
   "codemirror_mode": {
    "name": "ipython",
    "version": 3
   },
   "file_extension": ".py",
   "mimetype": "text/x-python",
   "name": "python",
   "nbconvert_exporter": "python",
   "pygments_lexer": "ipython3",
   "version": "3.9.16"
  }
 },
 "nbformat": 4,
 "nbformat_minor": 5
}
