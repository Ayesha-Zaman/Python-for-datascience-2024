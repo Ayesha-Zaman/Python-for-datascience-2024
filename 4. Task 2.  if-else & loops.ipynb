{
 "cells": [
  {
   "cell_type": "code",
   "execution_count": 1,
   "id": "2c234e34",
   "metadata": {},
   "outputs": [
    {
     "name": "stdout",
     "output_type": "stream",
     "text": [
      "Enter 1st angle: 6\n",
      "Enter 2nd angle: 7\n",
      "Enter 3rd angle: 3\n",
      "Valid input.\n",
      "Yes! it can form a triangle.\n"
     ]
    }
   ],
   "source": [
    "# Problem 1: Write a program that take a user input of three angles and will find out whether it can form a triangle or not.\n",
    "# steps:\n",
    "\n",
    "# taking input from user of three angles\n",
    "a = int(input(\"Enter 1st angle: \"))\n",
    "b = int(input(\"Enter 2nd angle: \"))\n",
    "c = int(input(\"Enter 3rd angle: \"))\n",
    "\n",
    "# validating input: a <= 0 or b <= 0 or c <=0 0r a + b + c <= 180\n",
    "if a <= 0 or b <= 0 or c <= 0 or a + b + c >= 180:\n",
    "    print(\"Invalid input.\")\n",
    "else: \n",
    "    print(\"Valid input.\")\n",
    "# applying equation\n",
    "# triangle = a + b > c and a + c > b and b + c > a \n",
    "\n",
    "# checking if the conditions are true for a triangle, and displaying result.\n",
    "if a + b > c and a + c > b and b + c > a:\n",
    "    print(\"Yes! it can form a triangle.\")\n",
    "else:\n",
    "    print(\"Nope! it cannot form a triangle.\")"
   ]
  },
  {
   "cell_type": "code",
   "execution_count": 2,
   "id": "9a1ded26",
   "metadata": {},
   "outputs": [
    {
     "name": "stdout",
     "output_type": "stream",
     "text": [
      "Enter cost price: 67\n",
      "Enter selling price: 87\n",
      "Its a profit\n"
     ]
    }
   ],
   "source": [
    "# program 2: Program that will take user input of cost price and selling price and determines whether its a loss or a profit.\n",
    "\n",
    "# take input from user\n",
    "# cost price\n",
    "CP = int(input(\"Enter cost price: \"))\n",
    "SP = int(input(\"Enter selling price: \"))\n",
    "\n",
    "# apply condition to check wether its loss or profit\n",
    "if SP - CP > 0:\n",
    "    print(\"Its a profit\")\n",
    "else:\n",
    "    print(\"Its a loss\")"
   ]
  },
  {
   "cell_type": "code",
   "execution_count": 3,
   "id": "67eec067",
   "metadata": {},
   "outputs": [
    {
     "name": "stdout",
     "output_type": "stream",
     "text": [
      "Enter value for conversion: 3\n",
      "Press 1 to convert cm to ft\n",
      "Press 2 to convert km to miles\n",
      "Press 3 to convert USD to PKR\n",
      "Press 4 to Exit\n",
      "Select option from menue: 3\n",
      "\n",
      "Value after conversion from USD to PKR is: 834\n"
     ]
    }
   ],
   "source": [
    "# program 3: Write a menu-driven program -\n",
    "# 1 cm to ft\n",
    "# 2 km to miles\n",
    "# 3 USD to PKR\n",
    "# 4 exit\n",
    "\n",
    "# taking user inputfor conversion\n",
    "num = int(input(\"Enter value for conversion: \"))\n",
    "\n",
    "print(\"Press 1 to convert cm to ft\")\n",
    "print(\"Press 2 to convert km to miles\")\n",
    "print(\"Press 3 to convert USD to PKR\")\n",
    "print(\"Press 4 to Exit\")\n",
    "\n",
    "# taking options for conversion\n",
    "op = int(input(\"Select option from menue: \"))\n",
    "print()\n",
    "if op == 1:\n",
    "    feet = num * 0.0328\n",
    "    print(f'Value after conversion from cm to ft is: {feet}')\n",
    "elif op == 2:\n",
    "    mile = num / 1.609344\n",
    "    print(f'Value after conversion from Km to miles is: {mile}')\n",
    "elif op == 3:\n",
    "    PKR = num * 278\n",
    "    print(f'Value after conversion from USD to PKR is: {PKR}')\n",
    "elif op == 4:\n",
    "    4 == -1\n",
    "else:\n",
    "    print(\"Please enter the correct option.\")"
   ]
  },
  {
   "cell_type": "code",
   "execution_count": 4,
   "id": "9a788650",
   "metadata": {},
   "outputs": [
    {
     "name": "stdout",
     "output_type": "stream",
     "text": [
      "Enter 1st number: 2\n",
      "Enter 2nd number: 1\n",
      "2\n",
      "1\n",
      "3\n",
      "4\n",
      "7\n",
      "11\n",
      "18\n",
      "29\n",
      "47\n",
      "76\n",
      "123\n"
     ]
    }
   ],
   "source": [
    "# Program 4: Display Fibonacci series up to 10 terms.\n",
    "# enter two numbers\n",
    "num1 = int(input(\"Enter 1st number: \"))\n",
    "num2 = int(input(\"Enter 2nd number: \"))\n",
    "print(num1)\n",
    "print(num2)\n",
    "i = 2\n",
    "while i <= 10:\n",
    "    # take sum and print t\n",
    "    sum = num1 + num2\n",
    "    print(sum)\n",
    "    \n",
    "    \n",
    "    num1 = num2\n",
    "    num2 = sum\n",
    "    # incriment in the condition\n",
    "    i += 1\n"
   ]
  },
  {
   "cell_type": "code",
   "execution_count": 5,
   "id": "0e45639e",
   "metadata": {},
   "outputs": [
    {
     "name": "stdout",
     "output_type": "stream",
     "text": [
      "Enter 1st number: 0\n",
      "Enter 2nd number: 1\n",
      "Fibonacci sercies upto 10 term: [0, 1, 1, 2, 3, 5, 8, 13, 21, 34]\n"
     ]
    }
   ],
   "source": [
    "# enter two numbers\n",
    "first_num = int(input(\"Enter 1st number: \"))\n",
    "second_num = int(input(\"Enter 2nd number: \"))\n",
    "fib_series = [first_num, second_num]\n",
    "while len(fib_series) < 10:\n",
    "    # take sum of 1st two terms\n",
    "    next_term = first_num + second_num\n",
    "    fib_series.append(next_term)\n",
    "    \n",
    "    first_num = second_num\n",
    "    second_num = next_term\n",
    "#display the output\n",
    "print(f'Fibonacci sercies upto 10 term: {fib_series}')"
   ]
  },
  {
   "cell_type": "code",
   "execution_count": 6,
   "id": "a955d1d2",
   "metadata": {},
   "outputs": [
    {
     "name": "stdout",
     "output_type": "stream",
     "text": [
      "Enter a number to find factorial: 6\n",
      "Factorial of 6 is: 720\n"
     ]
    }
   ],
   "source": [
    "# program 5: Find the factorial of a given number.\n",
    "# take input from user\n",
    "num = int(input(\"Enter a number to find factorial: \"))\n",
    "\n",
    "# intialize the end limit and apply loop\n",
    "i = 1\n",
    "fact = 1\n",
    "while i <= num:\n",
    "    \n",
    "    # calculate factorial\n",
    "    fact = fact * i\n",
    "    \n",
    "    # increment value of i\n",
    "    i += 1\n",
    "\n",
    "# print the result\n",
    "print(f'Factorial of {num} is: {fact}')"
   ]
  },
  {
   "cell_type": "code",
   "execution_count": null,
   "id": "d37ec9b1",
   "metadata": {},
   "outputs": [],
   "source": [
    "# Program 6: Reverse a given integer number.\n",
    "num = int(input(\"Enter an integer number: \"))\n",
    "\n",
    "# intializing empty list to store reverse string\n",
    "reverse = []\n",
    "\n",
    "while num != 0:\n",
    "    temp = num % 10\n",
    "    reverse.append(temp)\n",
    "    num = num // 10\n",
    "    \n",
    "    # converting list into string\n",
    "    l_to_s = ''.join(map(str, reverse))\n",
    "print(f'The reverse string is {l_to_s}')\n",
    "    "
   ]
  },
  {
   "cell_type": "code",
   "execution_count": 3,
   "id": "c68eb898",
   "metadata": {},
   "outputs": [
    {
     "name": "stdout",
     "output_type": "stream",
     "text": [
      "Enter an integer: 30\n",
      "The sum of integers is: 276\n"
     ]
    }
   ],
   "source": [
    "# Problem 8: Take a user input as integer N. Find out the sum from 1 to N. \n",
    "# If any number if divisible by 5, then skip that number. \n",
    "# And if the sum is greater than 300, don't need to calculate the sum further more. Print the final result. And don't use for loop to solve this problem.\n",
    "\n",
    "num = int(input(\"Enter an integer: \"))\n",
    "\n",
    "sum = 0\n",
    "i = 1\n",
    "while i <= num:\n",
    "    if i % 5 == 0:\n",
    "        sum += 0\n",
    "    else:\n",
    "        sum += i\n",
    "        if sum > 300:\n",
    "            sum -= i\n",
    "            break\n",
    "    i += 1\n",
    "         \n",
    "print(f'The sum of integers is: {sum}')\n",
    "    "
   ]
  },
  {
   "cell_type": "code",
   "execution_count": 1,
   "id": "e33fc6d0",
   "metadata": {},
   "outputs": [
    {
     "name": "stdout",
     "output_type": "stream",
     "text": [
      "Enter a number: 5\n",
      "Enter a number: 6\n",
      "Enter a number: 8\n",
      "Enter a number: 0\n",
      "The sum of all numbers is: 14\n",
      "The average of all the numbers is: 4.666666666666667\n"
     ]
    }
   ],
   "source": [
    "# Problem 9: Write a program that keeps on accepting a number from the user until the user enters Zero. \n",
    "# Display the sum and average of all the numbers.\n",
    "\n",
    "num = int(input(\"Enter a number: \"))\n",
    "sum = 0\n",
    "Average = 0\n",
    "counter = 1\n",
    "\n",
    "while num != 0:\n",
    "    num = int(input(\"Enter a number: \"))\n",
    "    \n",
    "    # calculating sum of all numbers\n",
    "    sum += num\n",
    "    \n",
    "    # calculating average\n",
    "    \n",
    "    Average = sum / counter\n",
    "    \n",
    "    counter += 1\n",
    "    \n",
    "print(f'The sum of all numbers is: {sum}')\n",
    "print(f'The average of all the numbers is: {Average}')"
   ]
  },
  {
   "cell_type": "code",
   "execution_count": 4,
   "id": "9a511732",
   "metadata": {},
   "outputs": [
    {
     "name": "stdout",
     "output_type": "stream",
     "text": [
      "The numbers which are divisible by 7 and are not multiple of 5 are: [2002, 2009, 2016, 2023, 2030, 2037, 2044, 2051, 2058, 2065, 2072, 2079, 2086, 2093, 2100, 2107, 2114, 2121, 2128, 2135, 2142, 2149, 2156, 2163, 2170, 2177, 2184, 2191, 2198, 2205, 2212, 2219, 2226, 2233, 2240, 2247, 2254, 2261, 2268, 2275, 2282, 2289, 2296, 2303, 2310, 2317, 2324, 2331, 2338, 2345, 2352, 2359, 2366, 2373, 2380, 2387, 2394, 2401, 2408, 2415, 2422, 2429, 2436, 2443, 2450, 2457, 2464, 2471, 2478, 2485, 2492, 2499, 2506, 2513, 2520, 2527, 2534, 2541, 2548, 2555, 2562, 2569, 2576, 2583, 2590, 2597, 2604, 2611, 2618, 2625, 2632, 2639, 2646, 2653, 2660, 2667, 2674, 2681, 2688, 2695, 2702, 2709, 2716, 2723, 2730, 2737, 2744, 2751, 2758, 2765, 2772, 2779, 2786, 2793, 2800, 2807, 2814, 2821, 2828, 2835, 2842, 2849, 2856, 2863, 2870, 2877, 2884, 2891, 2898, 2905, 2912, 2919, 2926, 2933, 2940, 2947, 2954, 2961, 2968, 2975, 2982, 2989, 2996, 3003, 3010, 3017, 3024, 3031, 3038, 3045, 3052, 3059, 3066, 3073, 3080, 3087, 3094, 3101, 3108, 3115, 3122, 3129, 3136, 3143, 3150, 3157, 3164, 3171, 3178, 3185, 3192, 3199]\n"
     ]
    }
   ],
   "source": [
    "# Problem 10: Write a program which will find all such numbers which are divisible by 7 but are not a multiple of 5, between 2000 and 3200 (both included). \n",
    "# The numbers obtained should be printed in a comma-separated sequence on a single line.\n",
    "\n",
    "seq = []\n",
    "\n",
    "for num in range(2000, 3201, 1):\n",
    "    if (num % 7 == 0) and (num // 5 != 0):\n",
    "        seq.append(num)\n",
    "print(f'The numbers which are divisible by 7 and are not multiple of 5 are: {seq}')"
   ]
  },
  {
   "cell_type": "code",
   "execution_count": 41,
   "id": "5fd7aa19",
   "metadata": {},
   "outputs": [
    {
     "name": "stdout",
     "output_type": "stream",
     "text": [
      "even numbers are: 2000 2002 2004 2006 2008 2020 2022 2024 2026 2028 2040 2042 2044 2046 2048 2060 2062 2064 2066 2068 2080 2082 2084 2086 2088 2200 2202 2204 2206 2208 2220 2222 2224 2226 2228 2240 2242 2244 2246 2248 2260 2262 2264 2266 2268 2280 2282 2284 2286 2288 2400 2402 2404 2406 2408 2420 2422 2424 2426 2428 2440 2442 2444 2446 2448 2460 2462 2464 2466 2468 2480 2482 2484 2486 2488 2600 2602 2604 2606 2608 2620 2622 2624 2626 2628 2640 2642 2644 2646 2648 2660 2662 2664 2666 2668 2680 2682 2684 2686 2688 2800 2802 2804 2806 2808 2820 2822 2824 2826 2828 2840 2842 2844 2846 2848 2860 2862 2864 2866 2868 2880 2882 2884 2886 2888\n"
     ]
    }
   ],
   "source": [
    "# Problem 11: Write a program, which will find all such numbers between 1000 and 3000 (both included),\n",
    "# such that each digit of the number is an even number. \n",
    "# The numbers obtained should be printed in a space-separated sequence on a single line.\n",
    "\n",
    "even_digit = []\n",
    "\n",
    "for num in range(1000, 3001, 1):\n",
    "    num_str = str(num)\n",
    "    all_even = True\n",
    "    for i in num_str:\n",
    "        digit = int(i)\n",
    "        if digit % 2 != 0:\n",
    "            all_even = False\n",
    "            break\n",
    "    if all_even:\n",
    "        even_digit.append(num)\n",
    "        l_to_s = ' '.join(map(str, even_digit))\n",
    "    \n",
    "print(f'even numbers are: {l_to_s}')\n"
   ]
  },
  {
   "cell_type": "code",
   "execution_count": 20,
   "id": "5def1b8a",
   "metadata": {},
   "outputs": [
    {
     "name": "stdout",
     "output_type": "stream",
     "text": [
      "Enter a number: 8\n",
      "8 is not a prime number.\n"
     ]
    }
   ],
   "source": [
    "# Problem 12:Write a program to print whether a given number is a prime number or not\n",
    "\n",
    "num = int(input(\"Enter a number: \"))\n",
    "\n",
    "for i in range(1, 10):\n",
    "    if (num % i == 0) and (num != i) and (i != 1 ):\n",
    "        print(f'{num} is not a prime number.')\n",
    "        break\n",
    "else:\n",
    "    print(f'{num} is a prime number.')"
   ]
  },
  {
   "cell_type": "code",
   "execution_count": 38,
   "id": "50200698",
   "metadata": {},
   "outputs": [
    {
     "name": "stdout",
     "output_type": "stream",
     "text": [
      "Enter 1st number of the range: 0\n",
      "Enter last number of the range: 400\n",
      "[0, 1, 153, 370, 370, 371]\n"
     ]
    }
   ],
   "source": [
    "# Problem 13:Print all the Armstrong numbers in a given range.\n",
    "\n",
    "F_range = int(input(\"Enter 1st number of the range: \"))\n",
    "S_range = int(input(\"Enter last number of the range: \"))\n",
    "\n",
    "armstrong_number = []\n",
    "\n",
    "for num in range(F_range, S_range, 1):\n",
    "    str_num = str(num)\n",
    "    Sum = 0\n",
    "    for i in str_num:\n",
    "        digit = int(i)\n",
    "        Pow = digit**3\n",
    "        Sum = Sum + Pow\n",
    "        if Sum == num:\n",
    "            armstrong_number.append(Sum)\n",
    "print(armstrong_number)"
   ]
  },
  {
   "cell_type": "code",
   "execution_count": null,
   "id": "7bf00e6a",
   "metadata": {},
   "outputs": [],
   "source": []
  }
 ],
 "metadata": {
  "kernelspec": {
   "display_name": "Python 3 (ipykernel)",
   "language": "python",
   "name": "python3"
  },
  "language_info": {
   "codemirror_mode": {
    "name": "ipython",
    "version": 3
   },
   "file_extension": ".py",
   "mimetype": "text/x-python",
   "name": "python",
   "nbconvert_exporter": "python",
   "pygments_lexer": "ipython3",
   "version": "3.9.16"
  }
 },
 "nbformat": 4,
 "nbformat_minor": 5
}
