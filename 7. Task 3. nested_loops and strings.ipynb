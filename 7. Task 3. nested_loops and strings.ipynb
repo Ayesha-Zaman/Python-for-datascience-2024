{
 "cells": [
  {
   "cell_type": "raw",
   "id": "4dbed23c",
   "metadata": {},
   "source": [
    "Problem 1: Print the following pattern. Write a program to use for loop to print the following reverse number pattern.\n",
    "    \n",
    "5 4 3 2 1 \n",
    "4 3 2 1 \n",
    "3 2 1 \n",
    "2 1 \n",
    "1"
   ]
  },
  {
   "cell_type": "code",
   "execution_count": 6,
   "id": "8a897356",
   "metadata": {},
   "outputs": [
    {
     "name": "stdout",
     "output_type": "stream",
     "text": [
      "Enter number of column: 6\n",
      "6 5 4 3 2 1 \n",
      "5 4 3 2 1 \n",
      "4 3 2 1 \n",
      "3 2 1 \n",
      "2 1 \n",
      "1 \n"
     ]
    }
   ],
   "source": [
    "# steps:\n",
    "# take user input for number of columns\n",
    "# apply reverse for loop for number of column\n",
    "# decrease the number by -1 in every iteration\n",
    "# apply nested for loop for printing number of rows\n",
    "# decrease the loop by -1 in order to print in reverse order\n",
    "# print the statement on the same line\n",
    "# and at last print() in order to just move the next line\n",
    "\n",
    "num = int(input(\"Enter number of column: \"))\n",
    "\n",
    "for i in range(num, 0, -1):\n",
    "    \n",
    "    for j in range(i, 0, -1):\n",
    "        print(j, end = ' ')\n",
    "        \n",
    "    print()\n",
    "\n"
   ]
  },
  {
   "cell_type": "code",
   "execution_count": null,
   "id": "02d8c530",
   "metadata": {},
   "outputs": [],
   "source": []
  },
  {
   "cell_type": "raw",
   "id": "b6e92934",
   "metadata": {},
   "source": [
    "Problem 2: Print the following pattern.\n",
    "    \n",
    "* \n",
    "* * \n",
    "* * * \n",
    "* * * * \n",
    "* * * * * \n",
    "* * * * \n",
    "* * * \n",
    "* * \n",
    "*"
   ]
  },
  {
   "cell_type": "code",
   "execution_count": 9,
   "id": "76b995f9",
   "metadata": {},
   "outputs": [
    {
     "name": "stdout",
     "output_type": "stream",
     "text": [
      "Enter the max numer of stars: 5\n",
      "* \n",
      "* * \n",
      "* * * \n",
      "* * * * \n",
      "* * * * * \n",
      "* * * * \n",
      "* * * \n",
      "* * \n",
      "* \n"
     ]
    }
   ],
   "source": [
    "# steps:\n",
    "# take input for user the max number of star wanted to print \n",
    "# apply for loop in ascending oredr\n",
    "# incriment the number for every iteration\n",
    "# apply nested for loop for printing number of columns\n",
    "# incriment the loop by 1 \n",
    "# print the statement on the same line\n",
    "# and at last print() in order to just move the next line\n",
    "# apply another for loop in reverse order\n",
    "# decrease the number by -1 in every iteration\n",
    "# apply nested for loop for printing number of rows\n",
    "# decrease the loop by -1 in order to print in reverse order\n",
    "# print the statement on the same line\n",
    "# and at last print() in order to just move the next line\n",
    "\n",
    "num = int(input(\"Enter the max numer of stars: \"))\n",
    "\n",
    "for i in range(1, num+1, 1):\n",
    "    for j in range(1, i+1, 1 ):\n",
    "        print('*', end = ' ')\n",
    "    print()\n",
    "    \n",
    "for k in range(num-1, 0, -1):\n",
    "    for l in range(k, 0, -1):\n",
    "        print('*', end = ' ')\n",
    "        \n",
    "    print()"
   ]
  },
  {
   "cell_type": "code",
   "execution_count": null,
   "id": "0a96149b",
   "metadata": {},
   "outputs": [],
   "source": []
  },
  {
   "cell_type": "raw",
   "id": "fee62c19",
   "metadata": {},
   "source": [
    "Problem 3: Write a program to pring the following pattern\n",
    "    \n",
    "    *\n",
    "  * * *\n",
    "* * * * *"
   ]
  },
  {
   "cell_type": "code",
   "execution_count": 18,
   "id": "4e0f9698",
   "metadata": {},
   "outputs": [
    {
     "name": "stdout",
     "output_type": "stream",
     "text": [
      "Enter the max numer of stars: 7\n",
      "      * \n",
      "    * * * \n",
      "  * * * * * \n",
      "* * * * * * * \n"
     ]
    }
   ],
   "source": [
    "num = int(input(\"Enter the max numer of stars: \"))\n",
    "\n",
    "for i in range(1, num+1, 2):\n",
    "    for k in range(num, i, -1):\n",
    "        print(\" \", end = \"\")\n",
    "    for j in range(1, i+1, 1 ):\n",
    "        print('*', end = ' ')\n",
    "    print( )"
   ]
  },
  {
   "cell_type": "code",
   "execution_count": null,
   "id": "9841cbfe",
   "metadata": {},
   "outputs": [],
   "source": []
  },
  {
   "cell_type": "raw",
   "id": "47c63930",
   "metadata": {},
   "source": [
    "Problem 4: Write a program to print the diamond pattern."
   ]
  },
  {
   "cell_type": "code",
   "execution_count": 43,
   "id": "cd7a070b",
   "metadata": {},
   "outputs": [
    {
     "name": "stdout",
     "output_type": "stream",
     "text": [
      "Enter the max numer of stars: 7\n",
      "      * \n",
      "     * * \n",
      "    * * * \n",
      "   * * * * \n",
      "  * * * * * \n",
      " * * * * * * \n",
      "* * * * * * * \n",
      " * * * * * * \n",
      "  * * * * * \n",
      "   * * * * \n",
      "    * * * \n",
      "     * * \n",
      "      * \n"
     ]
    }
   ],
   "source": [
    "num = int(input(\"Enter the max numer of stars: \"))\n",
    "\n",
    "for i in range(1, num+1, 1):\n",
    "    for m in range(num, i, -1):\n",
    "        print(' ', end = '')\n",
    "    for j in range(1, i+1, 1):\n",
    "        print('*' , end = ' ')\n",
    "        \n",
    "    print()\n",
    "    \n",
    "for k in range(num-1, 0, -1):\n",
    "    for n in range(k, num , 1):\n",
    "        print(' ', end = '')\n",
    "    for l in range(k, 0, -1):\n",
    "        print('*' , end = ' ')\n",
    "        \n",
    "    print()"
   ]
  },
  {
   "cell_type": "code",
   "execution_count": null,
   "id": "09a650bb",
   "metadata": {},
   "outputs": [],
   "source": []
  },
  {
   "cell_type": "raw",
   "id": "4b8c9f9a",
   "metadata": {},
   "source": [
    "Problem 5:Write a program to print the following pattern\n",
    "1\n",
    "\n",
    "2 1\n",
    "\n",
    "3 2 1\n",
    "\n",
    "4 3 2 1\n",
    "\n",
    "5 4 3 2 1"
   ]
  },
  {
   "cell_type": "code",
   "execution_count": 46,
   "id": "ba9437d5",
   "metadata": {},
   "outputs": [
    {
     "name": "stdout",
     "output_type": "stream",
     "text": [
      "Enter a number for max rows: 6\n",
      "1 \n",
      "2 1 \n",
      "3 2 1 \n",
      "4 3 2 1 \n",
      "5 4 3 2 1 \n",
      "6 5 4 3 2 1 \n"
     ]
    }
   ],
   "source": [
    "num = int(input(\"Enter a number for max rows: \"))\n",
    "\n",
    "for i in range(1, num+1, 1):\n",
    "    for j in range(i, 0, -1):\n",
    "        print(j, end= ' ')\n",
    "        \n",
    "    print()"
   ]
  },
  {
   "cell_type": "code",
   "execution_count": null,
   "id": "f1100f07",
   "metadata": {},
   "outputs": [],
   "source": []
  },
  {
   "cell_type": "raw",
   "id": "780445b4",
   "metadata": {},
   "source": [
    "Problem 6: Write a Python Program to Find the Sum of the Series till the nth term:\n",
    "1 + x^2/2 + x^3/3 + … x^n/n\n",
    "n will be provided by the user"
   ]
  },
  {
   "cell_type": "code",
   "execution_count": 51,
   "id": "ef00d37b",
   "metadata": {},
   "outputs": [
    {
     "name": "stdout",
     "output_type": "stream",
     "text": [
      "Enter the number: 3\n",
      "Enter the term no: 2\n",
      "Sum of the series of number 3 till 2th term is: 7.5\n"
     ]
    }
   ],
   "source": [
    "x = int(input(\"Enter the number: \"))\n",
    "n = int(input(\"Enter the term no: \"))\n",
    "\n",
    "Sum = 0\n",
    "\n",
    "divide = 0\n",
    "\n",
    "power = 0\n",
    "\n",
    "for i in range(1, n+1, 1):\n",
    "    power = x**i\n",
    "    divide = power/i\n",
    "    Sum = Sum + divide\n",
    "\n",
    "print('Sum of the series of number {} till {}th term is: {}'.format(x, n, Sum))\n",
    "    "
   ]
  },
  {
   "cell_type": "code",
   "execution_count": null,
   "id": "e49ab9be",
   "metadata": {},
   "outputs": [],
   "source": []
  },
  {
   "cell_type": "raw",
   "id": "e2c9b558",
   "metadata": {},
   "source": [
    "Problem 7: The natural logarithm can be approximated by the following series.\n",
    "\n",
    "x-1/x + 1/2 (x-1/x)^2  + 1/2 (x-1/x)^3 + 1/2 (x-1/x)^4 +......\n",
    "\n",
    "If x is input through the keyboard, write a program to calculate the sum of the first seven terms of this series."
   ]
  },
  {
   "cell_type": "code",
   "execution_count": 3,
   "id": "64ac160a",
   "metadata": {},
   "outputs": [
    {
     "name": "stdout",
     "output_type": "stream",
     "text": [
      "Enter the number: 4\n",
      "Enter the term no: 7\n",
      "Sum of the first 7 terms of this series is: 1.674774169921875\n"
     ]
    }
   ],
   "source": [
    "x = int(input(\"Enter the number: \"))\n",
    "n = int(input(\"Enter the term no: \"))\n",
    "\n",
    "\n",
    "temp = 0\n",
    "\n",
    "power = 0\n",
    "\n",
    "Sum = (x-1)/x\n",
    "for i in range(2, n+1, 1):\n",
    "    power = ((x-1)/x)**i\n",
    "    temp = (1/2)*(power)\n",
    "    Sum = Sum + temp\n",
    "    \n",
    "print('Sum of the first {} terms of this series is: {}'.format(n, Sum))\n"
   ]
  },
  {
   "cell_type": "raw",
   "id": "136ae707",
   "metadata": {},
   "source": [
    "Problem 9: Write a program that will take a decimal number as input and prints out the binary equivalent of the number"
   ]
  },
  {
   "cell_type": "code",
   "execution_count": 37,
   "id": "34a06b14",
   "metadata": {},
   "outputs": [
    {
     "name": "stdout",
     "output_type": "stream",
     "text": [
      "Enter a decimal number: 160\n",
      "Binary conversion of above number is: 00000101\n"
     ]
    }
   ],
   "source": [
    "num = int(input(\"Enter a decimal number: \"))\n",
    "\n",
    "L = []\n",
    "while num != 0:\n",
    "    temp = num % 2\n",
    "    L.append(temp)\n",
    "    num = num // 2\n",
    "    \n",
    "l_to_f = ''.join(map(str, L))\n",
    "    \n",
    "print('Binary conversion of above number is: {}'.format(l_to_f))"
   ]
  },
  {
   "cell_type": "code",
   "execution_count": 31,
   "id": "dd00aa40",
   "metadata": {},
   "outputs": [
    {
     "name": "stdout",
     "output_type": "stream",
     "text": [
      "Enter 1st number: 56\n",
      "Enter 2nd number: 23\n",
      "HCF of the above two numbers is: 1\n",
      "Enter 1st number: 56\n",
      "Enter 2nd number: 23\n",
      "LCM of the above two numbers is: 1288\n"
     ]
    }
   ],
   "source": [
    "# Problem 10: Write a program that will take 2 numbers as input and prints the LCM and HCF of those 2 numbers\n",
    "\n",
    "# find HCF:\n",
    "\n",
    "num1 = int(input(\"Enter 1st number: \"))\n",
    "num2 = int(input(\"Enter 2nd number: \"))\n",
    "\n",
    "HCF = 0\n",
    "rem = 0\n",
    "\n",
    "while num2 != 0:\n",
    "    rem = num1 % num2\n",
    "    num1 = num2\n",
    "    num2 = rem\n",
    "HCF = num1\n",
    "print('HCF of the above two numbers is: {}'.format(HCF))\n",
    "\n",
    "\n",
    "# LCM:\n",
    "\n",
    "num1 = int(input(\"Enter 1st number: \"))\n",
    "num2 = int(input(\"Enter 2nd number: \"))\n",
    "\n",
    "LCM = (num1 * num2) // HCF\n",
    "\n",
    "print('LCM of the above two numbers is: {}'.format(LCM))\n"
   ]
  },
  {
   "cell_type": "raw",
   "id": "e7dbd7d7",
   "metadata": {},
   "source": [
    "Problem 11: Create Short Form from initial character\n",
    "Given a string create short form of the string from Initial character. Short form should be capitalised.\n",
    "\n",
    "Example:\n",
    "\n",
    "Input:\n",
    "Data science Learning\n",
    "\n",
    "Output:\n",
    "DSL"
   ]
  },
  {
   "cell_type": "code",
   "execution_count": 33,
   "id": "28d59652",
   "metadata": {},
   "outputs": [
    {
     "name": "stdout",
     "output_type": "stream",
     "text": [
      "enter the stringData Science Learning\n",
      "DSL\n"
     ]
    }
   ],
   "source": [
    "s = input('enter the string')\n",
    "\n",
    "L = []\n",
    "for i in s.split():\n",
    "    L.append(i[0].upper())\n",
    "\n",
    "print(\"\".join(L))"
   ]
  },
  {
   "cell_type": "raw",
   "id": "ceb7b5fc",
   "metadata": {},
   "source": [
    "Problem 12: Append second string in the middle of first string\n",
    "    \n",
    "Input:\n",
    "DataScience\n",
    "Learner\n",
    "\n",
    "Output:\n",
    "DataSLearnercience"
   ]
  },
  {
   "cell_type": "code",
   "execution_count": 48,
   "id": "19b55154",
   "metadata": {},
   "outputs": [
    {
     "name": "stdout",
     "output_type": "stream",
     "text": [
      "Enter first string: DataScience\n",
      "Enter second string: Learner\n",
      "DataSLearnercience\n"
     ]
    }
   ],
   "source": [
    "f_string = input(\"Enter first string: \")\n",
    "s_string = input(\"Enter second string: \")\n",
    "\n",
    "result = 0\n",
    "\n",
    "mid_index = len(f_string) // 2\n",
    "result = f_string[:mid_index] + s_string + f_string[mid_index: ]\n",
    "\n",
    "print(result)"
   ]
  },
  {
   "cell_type": "raw",
   "id": "8f2437fa",
   "metadata": {},
   "source": [
    "Problem 13:Given string contains a combination of the lower and upper case letters. Write a program to arrange the characters of a string so that all lowercase letters should come first.\n",
    "Given:\n",
    "\n",
    "str_1 = DatASciEnCe\n",
    "\n",
    "Expected Output:\n",
    "\n",
    "atcineDASEC"
   ]
  },
  {
   "cell_type": "code",
   "execution_count": 50,
   "id": "8bf955ce",
   "metadata": {},
   "outputs": [
    {
     "name": "stdout",
     "output_type": "stream",
     "text": [
      "Enter string: DatASciEnCe\n",
      "atcineDASEC\n"
     ]
    }
   ],
   "source": [
    "str_1 = input(\"Enter string: \")\n",
    "L = ''\n",
    "U = ''\n",
    "for i in str_1:\n",
    "    if i.islower():\n",
    "        L = L + i\n",
    "    else:\n",
    "        U = U + i\n",
    "        \n",
    "print(L+U)\n",
    "        "
   ]
  },
  {
   "cell_type": "raw",
   "id": "8361ff01",
   "metadata": {},
   "source": [
    "Problem 14:Take a alphanumeric string input and print the sum and average of the digits that appear in the string, ignoring all other characters.\n",
    "\n",
    "Input:\n",
    "hel123O4every093\n",
    "\n",
    "Output:\n",
    "Sum: 22\n",
    "Avg: 2.75"
   ]
  },
  {
   "cell_type": "code",
   "execution_count": 53,
   "id": "3d824ee5",
   "metadata": {},
   "outputs": [
    {
     "name": "stdout",
     "output_type": "stream",
     "text": [
      "Enter alphanumeric string: vJD7sd7635\n",
      "Sum: 28\n",
      "Average: 5.6\n"
     ]
    }
   ],
   "source": [
    "alnu_str = input(\"Enter alphanumeric string: \")\n",
    "\n",
    "Sum = 0\n",
    "Avg = 0\n",
    "counter = 0\n",
    "for i in alnu_str:\n",
    "    if i.isnumeric():\n",
    "        Sum += int(i)\n",
    "        counter += 1\n",
    "\n",
    "Avg = Sum / counter       \n",
    "print('Sum: {}'.format(Sum))\n",
    "print('Average: {}'.format(Avg))      "
   ]
  },
  {
   "cell_type": "raw",
   "id": "a54cfb1d",
   "metadata": {},
   "source": [
    "Problem 15: Removal of all characters from a string except integers\n",
    "\n",
    "Given:\n",
    "str_1 = 'I am 22 years and 10 months old'\n",
    "\n",
    "Output:\n",
    "2510"
   ]
  },
  {
   "cell_type": "code",
   "execution_count": 1,
   "id": "72131ca3",
   "metadata": {},
   "outputs": [
    {
     "name": "stdout",
     "output_type": "stream",
     "text": [
      "Enter string: I'm 23 years lady, and have been working in Data Science for last 1 year and 2 months.\n",
      "All the integers in above string are: 2312\n"
     ]
    }
   ],
   "source": [
    "str_1 = input(\"Enter string: \")\n",
    "integer = ''\n",
    "for i in str_1:\n",
    "    if i.isdigit():\n",
    "        integer += i\n",
    "        \n",
    "print('All the integers in above string are: {}'.format(integer))"
   ]
  },
  {
   "cell_type": "raw",
   "id": "9d9ccd55",
   "metadata": {},
   "source": [
    "Problem 16: Check whether the string is Symmetrical.\n",
    "Statement: Given a string. the task is to check if the string is symmetrical or not. A string is said to be symmetrical if both the halves of the string are the same.\n",
    "\n",
    "Example 1:\n",
    "\n",
    "Input:\n",
    "khokho\n",
    "\n",
    "Output: \n",
    "\n",
    "The entered string is symmetrical"
   ]
  },
  {
   "cell_type": "code",
   "execution_count": 4,
   "id": "c3042c49",
   "metadata": {},
   "outputs": [
    {
     "name": "stdout",
     "output_type": "stream",
     "text": [
      "Enter string: hahahaha\n",
      "The entered string is symmetrical.\n"
     ]
    }
   ],
   "source": [
    "s = input(\"Enter string: \")\n",
    "\n",
    "mid_index = len(s) // 2\n",
    "\n",
    "if s[ :mid_index] == s[mid_index: ]:\n",
    "    print('The entered string is symmetrical.')\n",
    "else:\n",
    "    print('The entered string is not symmetrical.')"
   ]
  },
  {
   "cell_type": "raw",
   "id": "c7759d5d",
   "metadata": {},
   "source": [
    "Problem 17: Reverse words in a given String\n",
    "Statement: We are given a string and we need to reverse words of a given string.\n",
    "\n",
    "Example 1:\n",
    "\n",
    "Input:\n",
    "my name is ayesha\n",
    "\n",
    "Output:\n",
    "ayesha is name my"
   ]
  },
  {
   "cell_type": "code",
   "execution_count": 44,
   "id": "bc408d5a",
   "metadata": {},
   "outputs": [
    {
     "name": "stdout",
     "output_type": "stream",
     "text": [
      "Enter string: my name is ayesha\n",
      "ayesha is name my\n"
     ]
    }
   ],
   "source": [
    "s = input(\"Enter string: \")\n",
    "L = []\n",
    "rev_L = []\n",
    "for i in s.split():\n",
    "    L.append(i)\n",
    "L.reverse()\n",
    "print(' '.join(L))\n"
   ]
  },
  {
   "cell_type": "code",
   "execution_count": null,
   "id": "e1a95555",
   "metadata": {},
   "outputs": [],
   "source": []
  }
 ],
 "metadata": {
  "kernelspec": {
   "display_name": "Python 3 (ipykernel)",
   "language": "python",
   "name": "python3"
  },
  "language_info": {
   "codemirror_mode": {
    "name": "ipython",
    "version": 3
   },
   "file_extension": ".py",
   "mimetype": "text/x-python",
   "name": "python",
   "nbconvert_exporter": "python",
   "pygments_lexer": "ipython3",
   "version": "3.9.16"
  }
 },
 "nbformat": 4,
 "nbformat_minor": 5
}
