{
 "cells": [
  {
   "cell_type": "markdown",
   "id": "c8f16307",
   "metadata": {},
   "source": [
    "# Lists\n",
    "    What are Lists?\n",
    "    Lists Vs Arrays\n",
    "    Characterstics of a List\n",
    "    How to create a list\n",
    "    Access items from a List\n",
    "    Editing items in a List\n",
    "    Deleting items from a List\n",
    "    Operations on Lists\n",
    "    Functions on Lists"
   ]
  },
  {
   "cell_type": "markdown",
   "id": "ad5aa447",
   "metadata": {},
   "source": [
    "Lists:\n",
    "    List is a data type where you can store multiple items under 1 name. More technically, lists act like dynamic arrays which means you can add more items on the fly.\n",
    "\n",
    "\n",
    "Why Lists are required in programming?\n",
    "    lists are very useful while dealing with similar sort of data, so that's why they are required in programming"
   ]
  },
  {
   "cell_type": "markdown",
   "id": "803e9ad8",
   "metadata": {},
   "source": [
    "# Array Vs Lists\n",
    "\n",
    "    Fixed Vs Dynamic Size\n",
    "    Arrays have fixed size, when we create array we have to tell that how many number of items will be in array.\n",
    "    For Example:\n",
    "        int array[50]   # means this array will contain 50 items, fixed size\n",
    "    On the other hand list is of dynamic size, we don't tell its size when we are creating it. we can insert as many items     as required in a particular program\n",
    "    For Example: \n",
    "        list = []     # limit is not specified we can store many items, dynamic size\n",
    "    \n",
    "    Convenience -> Hetrogeneous\n",
    "    In arrays, a single array can deal with only one type of data, means we can store only either int data type or string       or any other.\n",
    "    For Example:\n",
    "        array = [1, 2, 3, 4]\n",
    "    In Lists, a single list can deal with multiple data types, like we can store numbers, boolen, string, list etc.\n",
    "    For Example:\n",
    "        array = [1, 2, 'data science', True, 33.38]\n",
    "    \n",
    "    Speed of Execution\n",
    "    Array's execution speed is much faster in other programming languages\n",
    "    List's execution speed is slower than arrays.\n",
    "    \n",
    "    Memory\n",
    "    Arrays: array's items are stored in a continues memory cells.\n",
    "    Lists: in list item's address is stored in continues memory cells. rather than actuall list items"
   ]
  },
  {
   "cell_type": "code",
   "execution_count": 3,
   "id": "73711a81",
   "metadata": {},
   "outputs": [
    {
     "name": "stdout",
     "output_type": "stream",
     "text": [
      "2059803471552\n",
      "2059714980144\n",
      "2059714980176\n",
      "2059714980208\n",
      "2059714980272\n",
      "2059714980144\n",
      "2059714980176\n",
      "2059714980208\n",
      "2059714980272\n"
     ]
    }
   ],
   "source": [
    "L = [1, 2, 3, 5]\n",
    "\n",
    "# id keyword is used to print memory location of something\n",
    "\n",
    "print(id(L))\n",
    "\n",
    "\n",
    "# printing the memory location of index 0, 1, 2 and so on\n",
    "print(id(L[0]))\n",
    "print(id(L[1]))\n",
    "print(id(L[2]))\n",
    "print(id(L[3]))\n",
    "\n",
    "# printing memory location of values in the list\n",
    "\n",
    "print(id(1))\n",
    "print(id(2))\n",
    "print(id(3))\n",
    "print(id(5))"
   ]
  },
  {
   "cell_type": "markdown",
   "id": "abf4a0c7",
   "metadata": {},
   "source": [
    "# Characterstics of a List\n",
    "    Ordered\n",
    "    Changeble/Mutable\n",
    "    Hetrogeneous\n",
    "    Can have duplicates\n",
    "    are dynamic\n",
    "    can be nested\n",
    "    items can be accessed\n",
    "    can contain any kind of objects in python"
   ]
  },
  {
   "cell_type": "code",
   "execution_count": 6,
   "id": "64e2af0f",
   "metadata": {},
   "outputs": [
    {
     "name": "stdout",
     "output_type": "stream",
     "text": [
      "False\n"
     ]
    }
   ],
   "source": [
    "# ordered\n",
    "\n",
    "L1 = [1, 2, 3]\n",
    "# L2 = [1, 2, 3]\n",
    "# print(L1 == L2) # output: True\n",
    "\n",
    "\n",
    "# if i only change the order of L2 both of the list will not be equal\n",
    "L2 = [3, 2, 1]\n",
    "print(L1 == L2)"
   ]
  },
  {
   "cell_type": "code",
   "execution_count": 7,
   "id": "5092d75f",
   "metadata": {},
   "outputs": [
    {
     "name": "stdout",
     "output_type": "stream",
     "text": [
      "[1, 2, 3, 2, 3]\n"
     ]
    }
   ],
   "source": [
    "# Can have duplicates\n",
    "L = [1, 2, 3, 2, 3]\n",
    "print(L)"
   ]
  },
  {
   "cell_type": "markdown",
   "id": "30606e25",
   "metadata": {},
   "source": [
    "# Creating a List"
   ]
  },
  {
   "cell_type": "code",
   "execution_count": 15,
   "id": "8ea6edbb",
   "metadata": {},
   "outputs": [
    {
     "name": "stdout",
     "output_type": "stream",
     "text": [
      "[]\n",
      "[]\n",
      "[1, 2, 3, 4]\n",
      "[1, 2, 3, 4, [5, 6]]\n",
      "[[1, 2, [5, 6]], [3, 4, [7, 8]]]\n",
      "[1, 2, 3, 'Data Science', True, 33.33, (3+4j)]\n",
      "['d', 'a', 't', 'a', 's', 'c', 'i', 'e', 'n', 'c', 'e']\n"
     ]
    }
   ],
   "source": [
    "# empty list\n",
    "\n",
    "print([])\n",
    "\n",
    "L= []\n",
    "print(L)\n",
    "\n",
    "# 1D & homogenous\n",
    "L = [1, 2, 3, 4]\n",
    "print(L)\n",
    "\n",
    "# 2D list or nested list\n",
    "# below list is hetrogenous beacuse it contains integer and list data type\n",
    "L = [1, 2, 3, 4, [5, 6]]\n",
    "print(L)\n",
    "\n",
    "# 3D list\n",
    "L = [[1,2, [5, 6]], [3, 4, [7, 8]]]\n",
    "print(L)\n",
    "\n",
    "# hetrogenous list\n",
    "L = [1, 2, 3, 'Data Science', True, 33.33, 3+4j]\n",
    "print(L)\n",
    "\n",
    "# creating list through type conversion\n",
    "l = 'datascience'\n",
    "print(list(l))   # 'list' keyword is converting a string into list"
   ]
  },
  {
   "cell_type": "markdown",
   "id": "bb93ddb7",
   "metadata": {},
   "source": [
    "# Accessing Items from a List"
   ]
  },
  {
   "cell_type": "code",
   "execution_count": 10,
   "id": "5e6bcd6d",
   "metadata": {},
   "outputs": [
    {
     "name": "stdout",
     "output_type": "stream",
     "text": [
      "4\n",
      "1\n",
      "6\n",
      "4\n",
      "2\n",
      "6\n",
      "[1, 2, 3]\n",
      "[4, 5, 6]\n",
      "[6, 5, 4]\n",
      "[1, 2, 3]\n"
     ]
    }
   ],
   "source": [
    "# indexing\n",
    "\n",
    "\n",
    "# positive indexing\n",
    "L = [1, 2, 3, 4, 5, 6]\n",
    "print(L[3])\n",
    "print(L[0])\n",
    "print(L[5])\n",
    "\n",
    "# negative ndexing\n",
    "L = [1, 2, 3, 4, 5, 6]\n",
    "print(L[-3])\n",
    "print(L[-5])\n",
    "print(L[-1])\n",
    "\n",
    "\n",
    "\n",
    "# sliicing\n",
    "\n",
    "\n",
    "# positive slicing\n",
    "L = [1, 2, 3, 4, 5, 6]\n",
    "print(L[0: 3])\n",
    "print(L[3: ])\n",
    "\n",
    "\n",
    "# negative slicing\n",
    "L = [1, 2, 3, 4, 5, 6]\n",
    "print(L[-1: -4: -1])\n",
    "print(L[-6: -3])\n",
    "\n"
   ]
  },
  {
   "cell_type": "markdown",
   "id": "b544a595",
   "metadata": {},
   "source": [
    "# Adding Items to a List"
   ]
  },
  {
   "cell_type": "code",
   "execution_count": null,
   "id": "536077c5",
   "metadata": {},
   "outputs": [],
   "source": []
  }
 ],
 "metadata": {
  "kernelspec": {
   "display_name": "Python 3 (ipykernel)",
   "language": "python",
   "name": "python3"
  },
  "language_info": {
   "codemirror_mode": {
    "name": "ipython",
    "version": 3
   },
   "file_extension": ".py",
   "mimetype": "text/x-python",
   "name": "python",
   "nbconvert_exporter": "python",
   "pygments_lexer": "ipython3",
   "version": "3.9.16"
  }
 },
 "nbformat": 4,
 "nbformat_minor": 5
}
