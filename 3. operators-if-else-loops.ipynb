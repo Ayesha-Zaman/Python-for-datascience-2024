{
 "cells": [
  {
   "cell_type": "markdown",
   "id": "dd77968e",
   "metadata": {},
   "source": [
    "# Operators in python"
   ]
  },
  {
   "cell_type": "raw",
   "id": "2764f9bb",
   "metadata": {},
   "source": [
    "In simple words operator is something that is applied on operands to perform certain modifications in them or to perform operations. Following are the operators types:\n",
    "    Arithmatic Operators\n",
    "    Relational Operators\n",
    "    Logical Operators\n",
    "    Bitwise Operators\n",
    "    Assignment Operators\n",
    "    Membership operators"
   ]
  },
  {
   "cell_type": "code",
   "execution_count": 2,
   "id": "ebec552b",
   "metadata": {},
   "outputs": [
    {
     "name": "stdout",
     "output_type": "stream",
     "text": [
      "8\n",
      "2\n",
      "15\n",
      "1.6666666666666667\n",
      "1\n",
      "125\n"
     ]
    }
   ],
   "source": [
    "# Arithmatic Operators\n",
    "print(5 + 3)     #addition\n",
    "\n",
    "print(5 - 3)     #subtraction\n",
    "\n",
    "print(5 * 3)     #Multiplication\n",
    "\n",
    "print(5 / 3)     #division\n",
    "\n",
    "print(5 // 3)    #integer division, it returns answer in only integer instead of floating values\n",
    "\n",
    "print(5 ** 3)    #power off"
   ]
  },
  {
   "cell_type": "code",
   "execution_count": 3,
   "id": "813fe998",
   "metadata": {},
   "outputs": [
    {
     "name": "stdout",
     "output_type": "stream",
     "text": [
      "True\n",
      "False\n",
      "True\n",
      "True\n",
      "True\n",
      "False\n"
     ]
    }
   ],
   "source": [
    "# Relational Operators\n",
    "\n",
    "#these operators perform the comparison between operands or check relation between them.\n",
    "\n",
    "print(8 > 5)     # 8 is greater than 5?\n",
    "\n",
    "print(8 < 5)     #8 is less than 5?\n",
    "\n",
    "print(8 >= 5)    #greater than or equal to\n",
    "\n",
    "print(5 <= 8)    #less than or equal to\n",
    "\n",
    "print(5 == 5)    #is equal to\n",
    "\n",
    "print(5 != 5)    #not equal to\n"
   ]
  },
  {
   "cell_type": "code",
   "execution_count": 2,
   "id": "135bf6db",
   "metadata": {},
   "outputs": [
    {
     "name": "stdout",
     "output_type": "stream",
     "text": [
      "0\n",
      "1\n",
      "False\n"
     ]
    }
   ],
   "source": [
    "#Logical operators\n",
    "\n",
    "#these operators are used for logic building\n",
    "# and these operators are: and, or, not\n",
    "\n",
    "print(1 and 0)\n",
    "\n",
    "print(1 or 0)\n",
    "\n",
    "print(not 1)    #not reverse the value in output\n"
   ]
  },
  {
   "cell_type": "code",
   "execution_count": 8,
   "id": "367940d9",
   "metadata": {},
   "outputs": [
    {
     "name": "stdout",
     "output_type": "stream",
     "text": [
      "2\n",
      "5\n",
      "-8\n",
      "1\n",
      "40\n",
      "1\n"
     ]
    }
   ],
   "source": [
    "# Bitwise Operators\n",
    "\n",
    "# we use these operators when we work with binary data.like in computer vision or in robotics\n",
    "# bitwise and\n",
    "print(2 & 3)    #it will convert decimal to binary numbers and then perform and operation on them\n",
    "\n",
    "# bitwise or \n",
    "print(4 | 5)\n",
    "\n",
    "# bitwise not, it will flip '0' to '1' and '1' to '0'\n",
    "print(~ 7)   \n",
    "\n",
    "# bitwise xor, it's combination of 'not' and 'or'\n",
    "print(8 ^ 9)\n",
    "\n",
    "# left shift binary operator\n",
    "print(5 << 3)\n",
    "\n",
    "# right shift binary operator\n",
    "print(4 >> 2)"
   ]
  },
  {
   "cell_type": "code",
   "execution_count": null,
   "id": "8542bc66",
   "metadata": {},
   "outputs": [],
   "source": []
  }
 ],
 "metadata": {
  "kernelspec": {
   "display_name": "Python 3 (ipykernel)",
   "language": "python",
   "name": "python3"
  },
  "language_info": {
   "codemirror_mode": {
    "name": "ipython",
    "version": 3
   },
   "file_extension": ".py",
   "mimetype": "text/x-python",
   "name": "python",
   "nbconvert_exporter": "python",
   "pygments_lexer": "ipython3",
   "version": "3.9.16"
  }
 },
 "nbformat": 4,
 "nbformat_minor": 5
}
