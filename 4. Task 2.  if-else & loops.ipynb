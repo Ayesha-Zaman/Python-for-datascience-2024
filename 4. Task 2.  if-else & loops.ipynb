{
 "cells": [
  {
   "cell_type": "code",
   "execution_count": 1,
   "id": "2c234e34",
   "metadata": {},
   "outputs": [
    {
     "name": "stdout",
     "output_type": "stream",
     "text": [
      "Enter 1st angle: 6\n",
      "Enter 2nd angle: 9\n",
      "Enter 3rd angle: 4\n",
      "Valid input.\n",
      "Yes! it can form a triangle.\n"
     ]
    }
   ],
   "source": [
    "# Problem 1: Write a program that take a user input of three angles and will find out whether it can form a triangle or not.\n",
    "# steps:\n",
    "\n",
    "# taking input from user of three angles\n",
    "a = int(input(\"Enter 1st angle: \"))\n",
    "b = int(input(\"Enter 2nd angle: \"))\n",
    "c = int(input(\"Enter 3rd angle: \"))\n",
    "\n",
    "# validating input: a <= 0 or b <= 0 or c <=0 0r a + b + c <= 180\n",
    "if a <= 0 or b <= 0 or c <= 0 or a + b + c >= 180:\n",
    "    print(\"Invalid input.\")\n",
    "else: \n",
    "    print(\"Valid input.\")\n",
    "# applying equation\n",
    "# triangle = a + b > c and a + c > b and b + c > a \n",
    "\n",
    "# checking if the conditions are true for a triangle, and displaying result.\n",
    "if a + b > c and a + c > b and b + c > a:\n",
    "    print(\"Yes! it can form a triangle.\")\n",
    "else:\n",
    "    print(\"Nope! it cannot form a triangle.\")"
   ]
  },
  {
   "cell_type": "code",
   "execution_count": 2,
   "id": "9a1ded26",
   "metadata": {},
   "outputs": [
    {
     "name": "stdout",
     "output_type": "stream",
     "text": [
      "Enter cost price: 56\n",
      "Enter selling price: 7\n",
      "Its a loss\n"
     ]
    }
   ],
   "source": [
    "# program 2: Program that will take user input of cost price and selling price and determines whether its a loss or a profit.\n",
    "\n",
    "# take input from user\n",
    "# cost price\n",
    "CP = int(input(\"Enter cost price: \"))\n",
    "SP = int(input(\"Enter selling price: \"))\n",
    "\n",
    "# apply condition to check wether its loss or profit\n",
    "if SP - CP > 0:\n",
    "    print(\"Its a profit\")\n",
    "else:\n",
    "    print(\"Its a loss\")"
   ]
  },
  {
   "cell_type": "code",
   "execution_count": 7,
   "id": "67eec067",
   "metadata": {},
   "outputs": [
    {
     "name": "stdout",
     "output_type": "stream",
     "text": [
      "Enter value for conversion: 6\n",
      "Press 1 to convert cm to ft\n",
      "Press 2 to convert km to miles\n",
      "Press 3 to convert USD to PKR\n",
      "Press 4 to Exit\n",
      "Select option from menue: 2\n",
      "\n",
      "Value after conversion from Km to miles is: 3.7282271534240037\n"
     ]
    }
   ],
   "source": [
    "# program 3: Write a menu-driven program -\n",
    "# 1 cm to ft\n",
    "# 2 km to miles\n",
    "# 3 USD to PKR\n",
    "# 4 exit\n",
    "\n",
    "# taking user inputfor conversion\n",
    "num = int(input(\"Enter value for conversion: \"))\n",
    "\n",
    "print(\"Press 1 to convert cm to ft\")\n",
    "print(\"Press 2 to convert km to miles\")\n",
    "print(\"Press 3 to convert USD to PKR\")\n",
    "print(\"Press 4 to Exit\")\n",
    "\n",
    "# taking options for conversion\n",
    "op = int(input(\"Select option from menue: \"))\n",
    "print()\n",
    "if op == 1:\n",
    "    feet = num * 0.0328\n",
    "    print(f'Value after conversion from cm to ft is: {feet}')\n",
    "elif op == 2:\n",
    "    mile = num / 1.609344\n",
    "    print(f'Value after conversion from Km to miles is: {mile}')\n",
    "elif op == 3:\n",
    "    PKR = num * 278\n",
    "    print(f'Value after conversion from USD to PKR is: {PKR}')\n",
    "elif op == 4:\n",
    "    4 == -1\n",
    "else:\n",
    "    print(\"Please enter the correct option.\")"
   ]
  },
  {
   "cell_type": "code",
   "execution_count": null,
   "id": "9a788650",
   "metadata": {},
   "outputs": [],
   "source": []
  },
  {
   "cell_type": "code",
   "execution_count": null,
   "id": "0e45639e",
   "metadata": {},
   "outputs": [],
   "source": []
  }
 ],
 "metadata": {
  "kernelspec": {
   "display_name": "Python 3 (ipykernel)",
   "language": "python",
   "name": "python3"
  },
  "language_info": {
   "codemirror_mode": {
    "name": "ipython",
    "version": 3
   },
   "file_extension": ".py",
   "mimetype": "text/x-python",
   "name": "python",
   "nbconvert_exporter": "python",
   "pygments_lexer": "ipython3",
   "version": "3.9.16"
  }
 },
 "nbformat": 4,
 "nbformat_minor": 5
}
