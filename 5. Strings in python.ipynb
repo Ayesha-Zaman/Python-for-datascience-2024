{
 "cells": [
  {
   "cell_type": "raw",
   "id": "429a1bdd",
   "metadata": {},
   "source": [
    "Strings are basically sequence of characters\n",
    "\n",
    "In specifically python, strings are the sequence of unicode characters"
   ]
  },
  {
   "cell_type": "markdown",
   "id": "41c7f370",
   "metadata": {},
   "source": [
    "# Creating Strings"
   ]
  },
  {
   "cell_type": "code",
   "execution_count": 14,
   "id": "0bb4ccf7",
   "metadata": {},
   "outputs": [
    {
     "name": "stdout",
     "output_type": "stream",
     "text": [
      "Data Science\n",
      "Data Science\n",
      "Ayesha's favourite subject is Computer Science.\n",
      "someone says: \"One machine can do the work of fifty ordinary men. No machine can do the work of one extraordinary man.\"\n",
      "Stewart Brand says: Once a new technology rolls over you, if you’re not part of the steamroller, \n",
      "                    you’re part of the road.\n",
      "someone says: 'One machine can do the work of fifty ordinary men. No machine can do the work of one extraordinary man.'\n"
     ]
    }
   ],
   "source": [
    "# creating a string\n",
    "\n",
    "# there are multiple ways to create string\n",
    "\n",
    "# using single quote\n",
    "field = 'Data Science'\n",
    "print(field)\n",
    "\n",
    "# using double quote\n",
    "field = \"Data Science\"\n",
    "print(field)\n",
    "\n",
    "# we use both of the above methods to remove the ambiguity, for example if we have to use single quote in the string too. let me show you.\n",
    "# below line of string will through an error because python will consider string upto (Ayesha) and don't know whats next\n",
    "\n",
    "# fav_sub = 'Ayesha's favourite subject is Computer Science.'\n",
    "# print(fav_sub)\n",
    "\n",
    "# we can remove this by using double quote and vice versa\n",
    "fav_sub = \"Ayesha's favourite subject is Computer Science.\"\n",
    "print(fav_sub)\n",
    "\n",
    "str = 'someone says: \"One machine can do the work of fifty ordinary men. No machine can do the work of one extraordinary man.\"'\n",
    "print(str)\n",
    "\n",
    "# multiline strings\n",
    "\n",
    "# we use triple single quotes or triple double quotes to print multiline string.\n",
    "tech_quote = '''Stewart Brand says: Once a new technology rolls over you, if you’re not part of the steamroller, \n",
    "                    you’re part of the road.'''\n",
    "print(tech_quote)\n",
    "\n",
    "\n",
    "\n",
    "str = \"\"\"someone says: 'One machine can do the work of fifty ordinary men. No machine can do the work of one extraordinary man.'\"\"\"\n",
    "print(str)"
   ]
  },
  {
   "cell_type": "markdown",
   "id": "a980878a",
   "metadata": {},
   "source": [
    "# Accessing Strings"
   ]
  },
  {
   "cell_type": "code",
   "execution_count": 18,
   "id": "cf8c30a2",
   "metadata": {},
   "outputs": [
    {
     "name": "stdout",
     "output_type": "stream",
     "text": [
      "Z\n",
      "e\n"
     ]
    },
    {
     "ename": "IndexError",
     "evalue": "string index out of range",
     "output_type": "error",
     "traceback": [
      "\u001b[1;31m---------------------------------------------------------------------------\u001b[0m",
      "\u001b[1;31mIndexError\u001b[0m                                Traceback (most recent call last)",
      "Cell \u001b[1;32mIn[18], line 17\u001b[0m\n\u001b[0;32m     14\u001b[0m \u001b[38;5;28mprint\u001b[39m(name[\u001b[38;5;241m2\u001b[39m])\n\u001b[0;32m     16\u001b[0m \u001b[38;5;66;03m# and if we pass index number out of string length it will through an error, let's see\u001b[39;00m\n\u001b[1;32m---> 17\u001b[0m \u001b[38;5;28mprint\u001b[39m(\u001b[43mname\u001b[49m\u001b[43m[\u001b[49m\u001b[38;5;241;43m22\u001b[39;49m\u001b[43m]\u001b[49m)\n",
      "\u001b[1;31mIndexError\u001b[0m: string index out of range"
     ]
    }
   ],
   "source": [
    "# we access substring of a string using indexing\n",
    "\n",
    "# 1. positive indexing\n",
    "# positive indexing starts from left to right\n",
    "\n",
    "name = 'Ayesha Zaman'\n",
    "\n",
    "# if i want to access 'Z' substring from above string than i will pass it's index number in square braces, \n",
    "# beacuse when we store string in memory, each character in the string get index number which starts from 0.\n",
    "\n",
    "print(name[7])\n",
    "\n",
    "# for e\n",
    "\n",
    "print(name[2])\n",
    "\n",
    "# and if we pass index number more than the string's length it will through an error, let's see\n",
    "print(name[22])"
   ]
  },
  {
   "cell_type": "code",
   "execution_count": 21,
   "id": "e4e71b6f",
   "metadata": {},
   "outputs": [
    {
     "name": "stdout",
     "output_type": "stream",
     "text": [
      "n\n",
      "a\n",
      "s\n"
     ]
    }
   ],
   "source": [
    "# 2. negative indexing\n",
    "# negative indexing starts from right to left, and starting index number is '-1'\n",
    "\n",
    "name = 'Ayesha Zaman'\n",
    "print(name[-1])\n",
    "\n",
    "print(name[-2])\n",
    "\n",
    "print(name[-9])"
   ]
  },
  {
   "cell_type": "code",
   "execution_count": 41,
   "id": "b81a9087",
   "metadata": {},
   "outputs": [
    {
     "name": "stdout",
     "output_type": "stream",
     "text": [
      "Ayesha\n",
      "Science\n",
      "Data Sc\n",
      "Dt cec\n",
      "Data \n",
      "Scienc\n",
      "ecneicS ataD\n",
      "ecneicS ataD\n",
      "ecneicS\n",
      "eniSaa\n"
     ]
    }
   ],
   "source": [
    "# 3. Slicing\n",
    "# we use slicing when we want to access substring in a range, like from this character to that character\n",
    "\n",
    "# positive slicing\n",
    "\n",
    "name = 'Ayesha Zaman'\n",
    "print(name[0 : 6])\n",
    "# in the above range '0' is starting index and'6' is the ending index, and the last index is always exclusive\n",
    "\n",
    "field = 'Data Science'\n",
    "print(field[5: ])     # it's printing from 5 to last index\n",
    "\n",
    "print(field[: 7])     # it's printing from start to 7 index\n",
    "\n",
    "# printing whole string with the jump of two, mean every second character is going to skip\n",
    "print(field[0: : 2])\n",
    "\n",
    "# negative slicing\n",
    "\n",
    "field = 'Data Science'\n",
    "print(field[-12: -7])\n",
    "\n",
    "print(field[-7: -1])\n",
    "\n",
    "# printing the reverse string\n",
    "\n",
    "print(field[-1 : : -1])\n",
    "\n",
    "# another way\n",
    "print(field[ : : -1])\n",
    "\n",
    "# printing reverse 'Science'\n",
    "print(field[-1: -8: -1])\n",
    "\n",
    "# printing reverse string with the jump of two\n",
    "field = 'Data Science'\n",
    "print(field[-1: : -2])"
   ]
  },
  {
   "cell_type": "markdown",
   "id": "0f3cebe4",
   "metadata": {},
   "source": [
    "# Editing and Deleting in strings"
   ]
  },
  {
   "cell_type": "code",
   "execution_count": 47,
   "id": "9ead0ad9",
   "metadata": {},
   "outputs": [
    {
     "ename": "TypeError",
     "evalue": "'str' object does not support item assignment",
     "output_type": "error",
     "traceback": [
      "\u001b[1;31m---------------------------------------------------------------------------\u001b[0m",
      "\u001b[1;31mTypeError\u001b[0m                                 Traceback (most recent call last)",
      "Cell \u001b[1;32mIn[47], line 6\u001b[0m\n\u001b[0;32m      1\u001b[0m \u001b[38;5;66;03m# editing in strings\u001b[39;00m\n\u001b[0;32m      2\u001b[0m \n\u001b[0;32m      3\u001b[0m \u001b[38;5;66;03m# i'm going to replace 'y' which is at index 1 with 'i', let's see how it works\u001b[39;00m\n\u001b[0;32m      5\u001b[0m name \u001b[38;5;241m=\u001b[39m \u001b[38;5;124m'\u001b[39m\u001b[38;5;124mAyesha Zaman\u001b[39m\u001b[38;5;124m'\u001b[39m\n\u001b[1;32m----> 6\u001b[0m name[\u001b[38;5;241m1\u001b[39m] \u001b[38;5;241m=\u001b[39m \u001b[38;5;124m'\u001b[39m\u001b[38;5;124mi\u001b[39m\u001b[38;5;124m'\u001b[39m\n",
      "\u001b[1;31mTypeError\u001b[0m: 'str' object does not support item assignment"
     ]
    }
   ],
   "source": [
    "# editing in strings\n",
    "\n",
    "# i'm going to replace 'y' which is at index 1 with 'i', let's see how it works\n",
    "\n",
    "name = 'Ayesha Zaman'\n",
    "name[1] = 'i'\n",
    "\n",
    "# it runs an error. why?\n",
    "# beacuse strings are imutable which means we can not do any sort of changing in the string, \n",
    "# we cann't add or replace anything\n"
   ]
  },
  {
   "cell_type": "code",
   "execution_count": 51,
   "id": "c127def7",
   "metadata": {},
   "outputs": [
    {
     "ename": "NameError",
     "evalue": "name 'name' is not defined",
     "output_type": "error",
     "traceback": [
      "\u001b[1;31m---------------------------------------------------------------------------\u001b[0m",
      "\u001b[1;31mNameError\u001b[0m                                 Traceback (most recent call last)",
      "Cell \u001b[1;32mIn[51], line 4\u001b[0m\n\u001b[0;32m      2\u001b[0m name \u001b[38;5;241m=\u001b[39m \u001b[38;5;124m'\u001b[39m\u001b[38;5;124mAyesha Zaman\u001b[39m\u001b[38;5;124m'\u001b[39m\n\u001b[0;32m      3\u001b[0m \u001b[38;5;28;01mdel\u001b[39;00m name\n\u001b[1;32m----> 4\u001b[0m \u001b[38;5;28mprint\u001b[39m(\u001b[43mname\u001b[49m)\n",
      "\u001b[1;31mNameError\u001b[0m: name 'name' is not defined"
     ]
    }
   ],
   "source": [
    "# deleting in strings\n",
    "\n",
    "\n",
    "name = 'Ayesha Zaman'\n",
    "del name\n",
    "\n",
    "# when we delete entire string, it got deleted, not from the memory but it says that string does not exist or not defined\n",
    "# after deletion\n",
    "print(name)"
   ]
  },
  {
   "cell_type": "code",
   "execution_count": 52,
   "id": "c25ef9d4",
   "metadata": {},
   "outputs": [
    {
     "ename": "TypeError",
     "evalue": "'str' object doesn't support item deletion",
     "output_type": "error",
     "traceback": [
      "\u001b[1;31m---------------------------------------------------------------------------\u001b[0m",
      "\u001b[1;31mTypeError\u001b[0m                                 Traceback (most recent call last)",
      "Cell \u001b[1;32mIn[52], line 4\u001b[0m\n\u001b[0;32m      1\u001b[0m \u001b[38;5;66;03m# let's see whats gonna happen if we delete particular character from string\u001b[39;00m\n\u001b[0;32m      3\u001b[0m name \u001b[38;5;241m=\u001b[39m \u001b[38;5;124m'\u001b[39m\u001b[38;5;124mAyesha Zaman\u001b[39m\u001b[38;5;124m'\u001b[39m\n\u001b[1;32m----> 4\u001b[0m \u001b[38;5;28;01mdel\u001b[39;00m name[\u001b[38;5;241m3\u001b[39m]\n\u001b[0;32m      5\u001b[0m \u001b[38;5;28mprint\u001b[39m(name)\n",
      "\u001b[1;31mTypeError\u001b[0m: 'str' object doesn't support item deletion"
     ]
    }
   ],
   "source": [
    "# let's see whats gonna happen if we delete particular character from string\n",
    "\n",
    "name = 'Ayesha Zaman'\n",
    "del name[3]\n",
    "print(name)\n",
    "\n",
    "# it throughs an error that deletion is not supported in string"
   ]
  },
  {
   "cell_type": "markdown",
   "id": "948164e3",
   "metadata": {},
   "source": [
    "# Operations on Strings\n",
    "    Arithmatic Operations\n",
    "    Relational Operations\n",
    "    Logical Operations\n",
    "    Loops on strings\n",
    "    Memborship Operations"
   ]
  },
  {
   "cell_type": "code",
   "execution_count": 60,
   "id": "be63e2e0",
   "metadata": {},
   "outputs": [
    {
     "name": "stdout",
     "output_type": "stream",
     "text": [
      "Ayesha Noreen\n",
      "Data_Science Data_Science Data_Science Data_Science Data_Science \n",
      "*****Data Science*****\n"
     ]
    }
   ],
   "source": [
    "# Arithmatic Operations\n",
    "# in all the arithmatic operators only '+' and '*' works for strings\n",
    "\n",
    "\n",
    "# addition '+' is used to concatinate the strings\n",
    "\n",
    "f_nam = 'Ayesha'\n",
    "l_nam = 'Noreen'\n",
    "\n",
    "print(f_nam + ' ' + l_nam)   # here we are concatinating first name then space and then last name\n",
    "\n",
    "\n",
    "# multiplication '*' is used to print a string multiple times\n",
    "\n",
    "# i want to print 'Data_Science' 5 times\n",
    "f = 'Data_Science '\n",
    "print(f * 5)\n",
    "\n",
    "# adding '*' 5 times before and after a string\n",
    "print('*' * 5 + 'Data Science' + '*' * 5)"
   ]
  },
  {
   "cell_type": "code",
   "execution_count": 70,
   "id": "3e67b2f8",
   "metadata": {},
   "outputs": [
    {
     "name": "stdout",
     "output_type": "stream",
     "text": [
      "True\n",
      "False\n",
      "False\n",
      "True\n",
      "False\n",
      "True\n",
      "False\n",
      "True\n"
     ]
    }
   ],
   "source": [
    "# Relational operations\n",
    "\n",
    "\n",
    "# '==', check wether two strings are equal\n",
    "print('Lahore' == 'Lahore')\n",
    "\n",
    "print('Lahore' == 'lahore')  #pyhton is case sensitive language, so it's going to be false\n",
    "\n",
    "print('Lahore' == 'Karachi')\n",
    "\n",
    "\n",
    "# '!='\n",
    "print('Lahore' != 'Karachi')\n",
    "\n",
    "print('Lahore' != 'Lahore')\n",
    "\n",
    "print('Karachi' != 'karaCHi')\n",
    "\n",
    "\n",
    "# '>' check wether one string is greater than another\n",
    "print('Abbottabad' > 'Lahore')\n",
    "\n",
    "# the above statement is false beacuse it's not comparing on the basis of no. of characters\n",
    "\n",
    "# '<' check if string is smaller than other\n",
    "print('Lahore' > 'Karachi')\n",
    "\n",
    "\n",
    "# it's actually comparing on the basis of Lexicographic order \n",
    "\n",
    "\n"
   ]
  },
  {
   "cell_type": "code",
   "execution_count": 81,
   "id": "41d6c44d",
   "metadata": {},
   "outputs": [
    {
     "name": "stdout",
     "output_type": "stream",
     "text": [
      "lahore\n",
      "\n",
      "karachi\n",
      "lahore\n",
      "True\n",
      "False\n"
     ]
    }
   ],
   "source": [
    "# Logical operations\n",
    "#     and\n",
    "#     or\n",
    "#     not\n",
    "\n",
    "\n",
    "# it's bit tricky to understand these operators, but keep in mind that\n",
    "# pyhton treats empty string as false and non_empty as true\n",
    "\n",
    "# or\n",
    "print('' or 'lahore')   # false('') or true('lahore') is equal to true('lahore')\n",
    "\n",
    "\n",
    "# and\n",
    "print('' and 'lahore')  # false('') and true('lahore') is equal to false('')\n",
    "\n",
    "\n",
    "# or\n",
    "# true('karachi') or true('lahore') is equal to true('karachi'), \n",
    "# in 'or' operator if it finds first value as true then is not going to look at the second value\n",
    "print('karachi' or 'lahore')  \n",
    "\n",
    "\n",
    "# and\n",
    "# true('karachi') and true('lahore') is equal to true('lahore'), \n",
    "# in 'and' operator if it finds first value as true then it will check the second value and is going to print that\n",
    "print('karachi' and 'lahore') \n",
    "\n",
    "\n",
    "# not\n",
    "# it will negate the condition\n",
    "\n",
    "print(not '')  #empty string denote false so it will print 'true'\n",
    "print(not 'karachi')   # not true"
   ]
  },
  {
   "cell_type": "code",
   "execution_count": 84,
   "id": "40471c6d",
   "metadata": {},
   "outputs": [
    {
     "name": "stdout",
     "output_type": "stream",
     "text": [
      "A\n",
      "y\n",
      "e\n",
      "s\n",
      "h\n",
      "a\n",
      "Ayesha\n",
      "Ayesha\n",
      "Ayesha\n",
      "Ayesha\n"
     ]
    }
   ],
   "source": [
    "# Loops on Strings\n",
    "# in pyhton we can loop through the string\n",
    "\n",
    "# example: \n",
    "\n",
    "for i in 'Ayesha':\n",
    "    print(i)\n",
    "    \n",
    "    \n",
    "    \n",
    "# example 2: \n",
    "\n",
    "for i in 'name':\n",
    "    print('Ayesha')"
   ]
  },
  {
   "cell_type": "code",
   "execution_count": 91,
   "id": "be2eea9f",
   "metadata": {},
   "outputs": [
    {
     "name": "stdout",
     "output_type": "stream",
     "text": [
      "True\n",
      "True\n",
      "False\n",
      "False\n",
      "False\n",
      "True\n",
      "True\n"
     ]
    }
   ],
   "source": [
    "# Memborship operations \n",
    "#     -> in\n",
    "#     -> not in\n",
    "\n",
    "# we will check wether a substring is present in a given string\n",
    "\n",
    "# in\n",
    "field = 'Data Science'\n",
    "print('D' in field)\n",
    "\n",
    "print('c' in field)\n",
    "\n",
    "print('Z' in field)\n",
    "\n",
    "print('d' in field)\n",
    "\n",
    "\n",
    "# not in\n",
    "print('n' not in 'Data Science')\n",
    "\n",
    "print('z' not in 'data science')\n",
    "\n",
    "print('f' not in 'Data Science')"
   ]
  },
  {
   "cell_type": "markdown",
   "id": "35cb02ba",
   "metadata": {},
   "source": [
    "# Common Functions\n",
    "    Functions that are applicable on string and on other data types like list, tuple and dictionary.\n",
    "    Following are the functions:\n",
    "        len\n",
    "        max\n",
    "        min\n",
    "        sorted"
   ]
  },
  {
   "cell_type": "code",
   "execution_count": 93,
   "id": "9790159b",
   "metadata": {},
   "outputs": [
    {
     "name": "stdout",
     "output_type": "stream",
     "text": [
      "12\n",
      "24\n"
     ]
    }
   ],
   "source": [
    "# len() measures the length of the string\n",
    "\n",
    "print(len('Data science'))\n",
    "\n",
    "print(len('My name is Ayesha Zaman.'))"
   ]
  },
  {
   "cell_type": "code",
   "execution_count": 94,
   "id": "335d0ead",
   "metadata": {},
   "outputs": [
    {
     "name": "stdout",
     "output_type": "stream",
     "text": [
      "t\n"
     ]
    }
   ],
   "source": [
    "# max function returns the maximum value in the string based on their ascii vaue\n",
    "\n",
    "print(max('Data science'))"
   ]
  },
  {
   "cell_type": "code",
   "execution_count": 96,
   "id": "0712a1f3",
   "metadata": {},
   "outputs": [
    {
     "name": "stdout",
     "output_type": "stream",
     "text": [
      " \n",
      "S\n"
     ]
    }
   ],
   "source": [
    "# min function returns the minimum value in the string based on ascii value\n",
    "\n",
    "print(min('Data Science')) # returns space beacuse it has the minimum value in the string\n",
    "\n",
    "print(min('Science'))"
   ]
  },
  {
   "cell_type": "code",
   "execution_count": 102,
   "id": "bdb342fd",
   "metadata": {},
   "outputs": [
    {
     "name": "stdout",
     "output_type": "stream",
     "text": [
      "['c', 'e', 'g', 'h', 'l', 'n', 'o', 'o', 't', 'y']\n",
      "[' ', 'D', 'a', 'a', 'c', 'c', 'e', 'e', 'i', 'n', 's', 't']\n"
     ]
    }
   ],
   "source": [
    "# sorted\n",
    "# sorted the string's characters alphabatically from lower to higher values characters, and return them in a list\n",
    "\n",
    "print(sorted('technology'))\n",
    "\n",
    "print(sorted('Data science'))"
   ]
  },
  {
   "cell_type": "code",
   "execution_count": 104,
   "id": "a7be44a3",
   "metadata": {},
   "outputs": [
    {
     "name": "stdout",
     "output_type": "stream",
     "text": [
      "['y', 't', 'o', 'o', 'n', 'l', 'h', 'g', 'e', 'c']\n"
     ]
    }
   ],
   "source": [
    "# we can reverse the order of sorted string by writing a keyword\n",
    "\n",
    "# higher to lower order\n",
    "print(sorted('technology', reverse = True))"
   ]
  },
  {
   "cell_type": "markdown",
   "id": "f4b42a47",
   "metadata": {},
   "source": [
    "--> keep in mind one thing that string are immutable/ unchangeable. So, all the methods applied on the string will not change the original string instead it will create a new string in the memory with changes."
   ]
  },
  {
   "cell_type": "markdown",
   "id": "deb3b650",
   "metadata": {},
   "source": [
    "# Capitalize/ Title/ Upper/ Lower/ Swapcase\n",
    "The above methods are only applicable on strings"
   ]
  },
  {
   "cell_type": "code",
   "execution_count": 2,
   "id": "9352f3c4",
   "metadata": {},
   "outputs": [
    {
     "name": "stdout",
     "output_type": "stream",
     "text": [
      "Data science\n",
      "Hello world!\n"
     ]
    }
   ],
   "source": [
    "# 'capitalize' convert first letter of the string into upper case\n",
    "\n",
    "print('data science'.capitalize())\n",
    "\n",
    "greeting = 'hello world!'\n",
    "print(greeting.capitalize() )"
   ]
  },
  {
   "cell_type": "code",
   "execution_count": 4,
   "id": "5de40e2d",
   "metadata": {},
   "outputs": [
    {
     "name": "stdout",
     "output_type": "stream",
     "text": [
      "Data Science\n",
      "Strings In Python\n"
     ]
    }
   ],
   "source": [
    "# 'title' converts the first character of each word in the string into upper case\n",
    "# like headings of the blogs are in title case\n",
    "\n",
    "print('data science'.title())\n",
    "\n",
    "h = 'strings in python'\n",
    "print(h.title())"
   ]
  },
  {
   "cell_type": "code",
   "execution_count": 6,
   "id": "99f71208",
   "metadata": {},
   "outputs": [
    {
     "name": "stdout",
     "output_type": "stream",
     "text": [
      "DATA SCIENCE\n",
      "HELLO WORLD!\n"
     ]
    }
   ],
   "source": [
    "# 'upper' case converts all the characters in the string into capital letters\n",
    "\n",
    "print('data science'.upper())\n",
    "\n",
    "greeting = 'hello world!'\n",
    "print(greeting.upper() )"
   ]
  },
  {
   "cell_type": "code",
   "execution_count": 9,
   "id": "b1d6ade1",
   "metadata": {},
   "outputs": [
    {
     "name": "stdout",
     "output_type": "stream",
     "text": [
      "data science\n",
      "strings in python\n"
     ]
    }
   ],
   "source": [
    "# 'lower' case converts all the characters into small letters\n",
    "\n",
    "print('Data SCIENCE'.lower())\n",
    "\n",
    "st = 'STRINGS IN PYTHON'\n",
    "print(h.lower())"
   ]
  },
  {
   "cell_type": "code",
   "execution_count": 12,
   "id": "4343c316",
   "metadata": {},
   "outputs": [
    {
     "name": "stdout",
     "output_type": "stream",
     "text": [
      "DATA science\n",
      "AyESHa nOReEN\n"
     ]
    }
   ],
   "source": [
    "# swapcase converts capital letters into small and small letters into capital letters\n",
    "\n",
    "print('data SCIENCE'.swapcase())\n",
    "\n",
    "print('aYeshA NorEen'.swapcase())"
   ]
  },
  {
   "cell_type": "markdown",
   "id": "e8fa4686",
   "metadata": {},
   "source": [
    "# count / find / index\n",
    "these methods perform similar functionality"
   ]
  },
  {
   "cell_type": "code",
   "execution_count": 17,
   "id": "4b3898cf",
   "metadata": {},
   "outputs": [
    {
     "name": "stdout",
     "output_type": "stream",
     "text": [
      "2\n",
      "3\n",
      "0\n",
      "0\n"
     ]
    }
   ],
   "source": [
    "# count\n",
    "# it counts/tells the occurance of a substring from a string\n",
    "\n",
    "print('Data science'.count('a'))\n",
    "\n",
    "print('Ayesha Noreen'.count('e'))\n",
    "\n",
    "print('ayesha noreen'.count('A'))\n",
    "\n",
    "print('ayesha noreen'.count('z'))"
   ]
  },
  {
   "cell_type": "code",
   "execution_count": 26,
   "id": "5bcd3b8a",
   "metadata": {},
   "outputs": [
    {
     "name": "stdout",
     "output_type": "stream",
     "text": [
      "1\n",
      "8\n",
      "5\n",
      "-1\n"
     ]
    }
   ],
   "source": [
    "# find\n",
    "# it tells the first occurance of substring from the given string\n",
    "\n",
    "print('data science'.find('a'))\n",
    "\n",
    "print('data science'.find('e'))\n",
    "\n",
    "print('data science'.find('science'))\n",
    "\n",
    "\n",
    "# find method return -1 if a substring does not exist in a given string\n",
    "\n",
    "print('data science'.find('y'))\n",
    "\n"
   ]
  },
  {
   "cell_type": "code",
   "execution_count": 29,
   "id": "4fd3453d",
   "metadata": {},
   "outputs": [
    {
     "name": "stdout",
     "output_type": "stream",
     "text": [
      "6\n",
      "2\n"
     ]
    },
    {
     "ename": "ValueError",
     "evalue": "substring not found",
     "output_type": "error",
     "traceback": [
      "\u001b[1;31m---------------------------------------------------------------------------\u001b[0m",
      "\u001b[1;31mValueError\u001b[0m                                Traceback (most recent call last)",
      "Cell \u001b[1;32mIn[29], line 11\u001b[0m\n\u001b[0;32m      6\u001b[0m \u001b[38;5;28mprint\u001b[39m(\u001b[38;5;124m'\u001b[39m\u001b[38;5;124mdata science\u001b[39m\u001b[38;5;124m'\u001b[39m\u001b[38;5;241m.\u001b[39mindex(\u001b[38;5;124m'\u001b[39m\u001b[38;5;124mta\u001b[39m\u001b[38;5;124m'\u001b[39m))\n\u001b[0;32m      9\u001b[0m \u001b[38;5;66;03m# index method returns an error, if a substring does not exist in a given stringr\u001b[39;00m\n\u001b[1;32m---> 11\u001b[0m \u001b[38;5;28mprint\u001b[39m(\u001b[38;5;124;43m'\u001b[39;49m\u001b[38;5;124;43mdata science\u001b[39;49m\u001b[38;5;124;43m'\u001b[39;49m\u001b[38;5;241;43m.\u001b[39;49m\u001b[43mindex\u001b[49m\u001b[43m(\u001b[49m\u001b[38;5;124;43m'\u001b[39;49m\u001b[38;5;124;43mh\u001b[39;49m\u001b[38;5;124;43m'\u001b[39;49m\u001b[43m)\u001b[49m)\n",
      "\u001b[1;31mValueError\u001b[0m: substring not found"
     ]
    }
   ],
   "source": [
    "# index\n",
    "# it tells the position or index number of substring in a given string\n",
    "\n",
    "print('data science'.index('c'))\n",
    "\n",
    "print('data science'.index('ta'))\n",
    "\n",
    "\n",
    "# index method gives an error, if a substring does not exist in a given stringr\n",
    "\n",
    "print('data science'.index('h'))\n"
   ]
  },
  {
   "cell_type": "markdown",
   "id": "613b3f61",
   "metadata": {},
   "source": [
    "The only diffrence between find() and index() is that, find returns -1 value if string does not exist.\n",
    "On the other hand index gives error instead of returning any value"
   ]
  },
  {
   "cell_type": "markdown",
   "id": "df9aa35f",
   "metadata": {},
   "source": [
    "# startswith/endswith"
   ]
  },
  {
   "cell_type": "code",
   "execution_count": 32,
   "id": "67ae1bcf",
   "metadata": {},
   "outputs": [
    {
     "name": "stdout",
     "output_type": "stream",
     "text": [
      "True\n",
      "False\n"
     ]
    }
   ],
   "source": [
    "# startswith, tells wether the given string starts with a particular substring or not\n",
    "\n",
    "print('data science'.startswith('da'))\n",
    "\n",
    "print('data science'.startswith('a'))"
   ]
  },
  {
   "cell_type": "code",
   "execution_count": 35,
   "id": "662951a7",
   "metadata": {},
   "outputs": [
    {
     "name": "stdout",
     "output_type": "stream",
     "text": [
      "True\n",
      "True\n",
      "False\n"
     ]
    }
   ],
   "source": [
    "# startswith, tells wether the given string ends with a particular substring or not\n",
    "\n",
    "print('data science'.endswith('e'))\n",
    "\n",
    "print('data science'.endswith('ce'))\n",
    "print('data science'.endswith('cea.'))"
   ]
  },
  {
   "cell_type": "markdown",
   "id": "8c43b1d9",
   "metadata": {},
   "source": [
    "# format"
   ]
  },
  {
   "cell_type": "code",
   "execution_count": 37,
   "id": "e5e0e03e",
   "metadata": {},
   "outputs": [
    {
     "name": "stdout",
     "output_type": "stream",
     "text": [
      "Enter your name: ayesha\n",
      "Enter your field of interest: data science\n",
      "Hello! my name is ayesha, and my filed of interest is data science\n"
     ]
    }
   ],
   "source": [
    "# format method formates the given string\n",
    "\n",
    "name = input(\"Enter your name: \")\n",
    "field = input(\"Enter your field of interest: \")\n",
    "\n",
    "print('Hello! my name is {}, and my filed of interest is {}.'.format(name, field))"
   ]
  },
  {
   "cell_type": "markdown",
   "id": "99ee68b9",
   "metadata": {},
   "source": [
    "# isalnum/ isalpha/ isdigit/ isidentifier"
   ]
  },
  {
   "cell_type": "code",
   "execution_count": 39,
   "id": "c4084a34",
   "metadata": {},
   "outputs": [
    {
     "name": "stdout",
     "output_type": "stream",
     "text": [
      "True\n",
      "True\n",
      "True\n",
      "False\n"
     ]
    }
   ],
   "source": [
    "# 'isalnum' checks wether given string contains only alphabets or numeric values or not\n",
    "\n",
    "print('ayesha123'.isalnum())\n",
    "\n",
    "print('ayesha'.isalnum())\n",
    "\n",
    "print('123'.isalnum())\n",
    "\n",
    "print('ayesha123@'.isalnum())"
   ]
  },
  {
   "cell_type": "code",
   "execution_count": 42,
   "id": "c99d15e6",
   "metadata": {},
   "outputs": [
    {
     "name": "stdout",
     "output_type": "stream",
     "text": [
      "True\n",
      "False\n",
      "False\n"
     ]
    }
   ],
   "source": [
    "# 'isalpha' checks the given string contains all alphabets\n",
    "\n",
    "print('datascience'.isalpha())\n",
    "\n",
    "print('data science'.isalpha())  #this string also contain space\n",
    "\n",
    "print('onetwo12'.isalpha())"
   ]
  },
  {
   "cell_type": "code",
   "execution_count": 47,
   "id": "b8418df5",
   "metadata": {},
   "outputs": [
    {
     "name": "stdout",
     "output_type": "stream",
     "text": [
      "True\n",
      "False\n",
      "False\n",
      "False\n"
     ]
    }
   ],
   "source": [
    "# 'isdigit' checks string contains all digits or not\n",
    "\n",
    "print('123456'.isdigit())\n",
    "\n",
    "print('1.2323'.isdigit())\n",
    "\n",
    "print('ayesha123'.isdigit())\n",
    "\n",
    "print('56$%'.isdigit())"
   ]
  },
  {
   "cell_type": "code",
   "execution_count": 50,
   "id": "5c0fc8fc",
   "metadata": {},
   "outputs": [
    {
     "name": "stdout",
     "output_type": "stream",
     "text": [
      "False\n",
      "True\n",
      "True\n",
      "False\n",
      "False\n",
      "True\n"
     ]
    }
   ],
   "source": [
    "# 'isidentifier' checks wether given string is correct identifier or not\n",
    "\n",
    "print('1stname'.isidentifier())\n",
    "\n",
    "print('name1st\n",
    "      '.isidentifier())\n",
    "\n",
    "print('Firstname'.isidentifier())\n",
    "\n",
    "print('first_name'.isidentifier())\n",
    "\n",
    "print('first-name'.isidentifier())\n",
    "\n",
    "print('1name'.isidentifier())\n",
    "\n",
    "print('name1'.isidentifier())"
   ]
  },
  {
   "cell_type": "markdown",
   "id": "2a645a1b",
   "metadata": {},
   "source": [
    "# split/join"
   ]
  },
  {
   "cell_type": "code",
   "execution_count": 53,
   "id": "79526ec0",
   "metadata": {},
   "outputs": [
    {
     "name": "stdout",
     "output_type": "stream",
     "text": [
      "['My', 'name', 'is', 'ayesha', 'and', \"I'm\", 'interested', 'in', 'the', 'field', 'of', 'data', 'science.']\n",
      "['My name is ayesha ', \" I'm interested in the field of data science.\"]\n"
     ]
    }
   ],
   "source": [
    "# split, it separates the string from spaces by default and store it in the list\n",
    "\n",
    "print(\"My name is ayesha and I'm interested in the field of data science.\".split())\n",
    "\n",
    "\n",
    "# if i pass any value in the split function, string is going to be separated from that function\n",
    "print(\"My name is ayesha and I'm interested in the field of data science.\".split('and'))"
   ]
  },
  {
   "cell_type": "code",
   "execution_count": 56,
   "id": "b67799a2",
   "metadata": {},
   "outputs": [
    {
     "name": "stdout",
     "output_type": "stream",
     "text": [
      "I am interested in the field of data science.\n"
     ]
    }
   ],
   "source": [
    "# 'join' function peforms vice verca of 'split' function\n",
    "# join function joins the comma separated list into string\n",
    "\n",
    "print(' '.join(['I', 'am', 'interested', 'in', 'the', 'field', 'of', 'data', 'science.']))"
   ]
  },
  {
   "cell_type": "markdown",
   "id": "ff793a12",
   "metadata": {},
   "source": [
    "# Replace"
   ]
  },
  {
   "cell_type": "code",
   "execution_count": 58,
   "id": "4a5d16b2",
   "metadata": {},
   "outputs": [
    {
     "name": "stdout",
     "output_type": "stream",
     "text": [
      "My name is Ayesha Zaman\n",
      "My name is Ayesha Noreen\n"
     ]
    }
   ],
   "source": [
    "# 'replace' method changes substring in a string\n",
    "name = 'My name is Ayesha Noreen'\n",
    "print(name.replace('Noreen', 'Zaman'))\n",
    "\n",
    "# keep in mind one thing that string are immutable/ unchangeable.\n",
    "# so, all the methods applied on the string will not change the original string\n",
    "# instead it will create a new string in the memory with changes.\n",
    "\n",
    "# if we print the name again, there will be no changes\n",
    "print(name)"
   ]
  },
  {
   "cell_type": "markdown",
   "id": "64d3b62c",
   "metadata": {},
   "source": [
    "# Strip"
   ]
  },
  {
   "cell_type": "code",
   "execution_count": 63,
   "id": "4aa59916",
   "metadata": {},
   "outputs": [
    {
     "name": "stdout",
     "output_type": "stream",
     "text": [
      "Data Science\n",
      "Data Science\n"
     ]
    }
   ],
   "source": [
    "# 'strip' removes extra blank spaces from the start and end of the string\n",
    "\n",
    "print('           Data Science'.strip())\n",
    "\n",
    "print('Data Science         '.strip())\n"
   ]
  },
  {
   "cell_type": "code",
   "execution_count": null,
   "id": "88f78717",
   "metadata": {},
   "outputs": [],
   "source": []
  }
 ],
 "metadata": {
  "kernelspec": {
   "display_name": "Python 3 (ipykernel)",
   "language": "python",
   "name": "python3"
  },
  "language_info": {
   "codemirror_mode": {
    "name": "ipython",
    "version": 3
   },
   "file_extension": ".py",
   "mimetype": "text/x-python",
   "name": "python",
   "nbconvert_exporter": "python",
   "pygments_lexer": "ipython3",
   "version": "3.9.16"
  }
 },
 "nbformat": 4,
 "nbformat_minor": 5
}
