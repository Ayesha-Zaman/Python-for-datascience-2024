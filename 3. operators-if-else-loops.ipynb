{
 "cells": [
  {
   "cell_type": "markdown",
   "id": "dd77968e",
   "metadata": {},
   "source": [
    "# Operators in python"
   ]
  },
  {
   "cell_type": "raw",
   "id": "2764f9bb",
   "metadata": {},
   "source": [
    "In simple words operator is something that is applied on operands to perform certain modifications in them or to perform operations. Following are the operators types:\n",
    "    Arithmatic Operators\n",
    "    Relational Operators\n",
    "    Logical Operators\n",
    "    Bitwise Operators\n",
    "    Assignment Operator\n",
    "    Membership operators"
   ]
  },
  {
   "cell_type": "code",
   "execution_count": 2,
   "id": "ebec552b",
   "metadata": {},
   "outputs": [
    {
     "name": "stdout",
     "output_type": "stream",
     "text": [
      "8\n",
      "2\n",
      "15\n",
      "1.6666666666666667\n",
      "1\n",
      "125\n"
     ]
    }
   ],
   "source": [
    "# Arithmatic Operators\n",
    "print(5 + 3)     #addition\n",
    "\n",
    "print(5 - 3)     #subtraction\n",
    "\n",
    "print(5 * 3)     #Multiplication\n",
    "\n",
    "print(5 / 3)     #division\n",
    "\n",
    "print(5 // 3)    #integer division, it returns answer in only integer instead of floating values\n",
    "\n",
    "print(5 ** 3)    #power off"
   ]
  },
  {
   "cell_type": "code",
   "execution_count": 3,
   "id": "813fe998",
   "metadata": {},
   "outputs": [
    {
     "name": "stdout",
     "output_type": "stream",
     "text": [
      "True\n",
      "False\n",
      "True\n",
      "True\n",
      "True\n",
      "False\n"
     ]
    }
   ],
   "source": [
    "# Relational Operators\n",
    "\n",
    "#these operators perform the comparison between operands or check relation between them.\n",
    "\n",
    "print(8 > 5)     # 8 is greater than 5?\n",
    "\n",
    "print(8 < 5)     #8 is less than 5?\n",
    "\n",
    "print(8 >= 5)    #greater than or equal to\n",
    "\n",
    "print(5 <= 8)    #less than or equal to\n",
    "\n",
    "print(5 == 5)    #is equal to\n",
    "\n",
    "print(5 != 5)    #not equal to\n"
   ]
  },
  {
   "cell_type": "code",
   "execution_count": 2,
   "id": "135bf6db",
   "metadata": {},
   "outputs": [
    {
     "name": "stdout",
     "output_type": "stream",
     "text": [
      "0\n",
      "1\n",
      "False\n"
     ]
    }
   ],
   "source": [
    "#Logical operators\n",
    "\n",
    "#these operators are used for logic building\n",
    "# and these operators are: and, or, not\n",
    "\n",
    "print(1 and 0)\n",
    "\n",
    "print(1 or 0)\n",
    "\n",
    "print(not 1)    #not reverse the value in output\n"
   ]
  },
  {
   "cell_type": "code",
   "execution_count": 8,
   "id": "367940d9",
   "metadata": {},
   "outputs": [
    {
     "name": "stdout",
     "output_type": "stream",
     "text": [
      "2\n",
      "5\n",
      "-8\n",
      "1\n",
      "40\n",
      "1\n"
     ]
    }
   ],
   "source": [
    "# Bitwise Operators\n",
    "\n",
    "# we use these operators when we work with binary data.like in computer vision or in robotics\n",
    "# bitwise and\n",
    "print(2 & 3)    #it will convert decimal to binary numbers and then perform and operation on them\n",
    "\n",
    "# bitwise or \n",
    "print(4 | 5)\n",
    "\n",
    "# bitwise not, it will flip '0' to '1' and '1' to '0'\n",
    "print(~ 7)   \n",
    "\n",
    "# bitwise xor, it's combination of 'not' and 'or'\n",
    "print(8 ^ 9)\n",
    "\n",
    "# left shift binary operator\n",
    "print(5 << 3)\n",
    "\n",
    "# right shift binary operator\n",
    "print(4 >> 2)"
   ]
  },
  {
   "cell_type": "code",
   "execution_count": 3,
   "id": "8542bc66",
   "metadata": {},
   "outputs": [
    {
     "name": "stdout",
     "output_type": "stream",
     "text": [
      "5\n",
      "1\n",
      "3\n"
     ]
    }
   ],
   "source": [
    "# Assignment operator\n",
    "# we use assignment operator to assign values / literals to variables\n",
    "\n",
    "a = 5\n",
    "print(a)\n",
    "\n",
    "# we also use this operator in conjuction with other operators\n",
    "\n",
    "a %= 2        #using assignment operator with modulus to assign remainder to a variable\n",
    "print(a)\n",
    "\n",
    "a += 2        #incrimenting value of a by '2'.\n",
    "print(a)"
   ]
  },
  {
   "cell_type": "code",
   "execution_count": 10,
   "id": "1b6086fe",
   "metadata": {},
   "outputs": [
    {
     "name": "stdout",
     "output_type": "stream",
     "text": [
      "True\n",
      "False\n",
      "True\n",
      "False\n"
     ]
    }
   ],
   "source": [
    "# Membership operators\n",
    "# in / not in\n",
    "# the above two membership operators offer very cool functionality\n",
    "# using them we find out weather a particular value is present or not\n",
    "\n",
    "# city = 'Mandibahauddin'\n",
    "print('M' in 'Mandibahauddin')\n",
    "print('o' in 'Mandibahauddin')\n",
    "\n",
    "# we can use this operator on multiple datatypes\n",
    "\n",
    "print(7 not in [1, 2, 3, 4, 5])\n",
    "print(4 not in {2, 3, 5, 4, 1})"
   ]
  },
  {
   "cell_type": "code",
   "execution_count": 18,
   "id": "0fdccd17",
   "metadata": {},
   "outputs": [
    {
     "name": "stdout",
     "output_type": "stream",
     "text": [
      "Enter a number: 789\n",
      "Sum of all the digits in a 3-digit number is: 24\n"
     ]
    }
   ],
   "source": [
    "# example - Find the sum of a 3 digit number entered by the user\n",
    "# steps\n",
    "# take input number from the user\n",
    "number = int(input(\"Enter a number: \"))\n",
    "\n",
    "# 498 % 10, to get the last digit, like '8', and store it in a variable\n",
    "# a = 8\n",
    "a = number%10\n",
    "# print(a)\n",
    "\n",
    "# dividing number by 10 to get first two digits.\n",
    "# number = 49\n",
    "number = number // 10\n",
    "# print(number)\n",
    "\n",
    "# 49 % 10, to get the last digit in the number.\n",
    "# output: b = 9\n",
    "b = number%10\n",
    "# print(b)\n",
    "\n",
    "# 49 / 10,  c = 4\n",
    "c = number // 10\n",
    "# print(c)\n",
    "\n",
    "# display the sum\n",
    "print(f'Sum of all the digits in a 3-digit number is: {a + b + c}')"
   ]
  },
  {
   "cell_type": "markdown",
   "id": "9ca5296e",
   "metadata": {},
   "source": [
    "# if-else in Python"
   ]
  },
  {
   "cell_type": "code",
   "execution_count": 23,
   "id": "450a67d3",
   "metadata": {},
   "outputs": [
    {
     "name": "stdout",
     "output_type": "stream",
     "text": [
      "Enter your email: ayeshanoreen.doc@gmail.com\n",
      "Enter your password: 1234\n",
      "Welcome! on the site.\n"
     ]
    }
   ],
   "source": [
    "# we use if-else if we want to create branching in our program or when we have multiple conditions in our program\n",
    "# let's understand this through an example\n",
    "# program: login system\n",
    "# email: ayeshanoreen.doc@gmail.com\n",
    "# password: 1234\n",
    "\n",
    "email = input(\"Enter your email: \")\n",
    "password = input(\"Enter your password: \")\n",
    "\n",
    "if email == 'ayeshanoreen.doc@gmail.com' and password == '1234':\n",
    "    print(\"Welcome! on the site.\")\n",
    "else:\n",
    "    print(\"Incorrect credentials\")\n"
   ]
  },
  {
   "cell_type": "code",
   "execution_count": 22,
   "id": "ef2d6dbd",
   "metadata": {},
   "outputs": [
    {
     "name": "stdout",
     "output_type": "stream",
     "text": [
      "Enter your email: ayeshanoreen.doc@gmail.com\n",
      "Enter your password: 345\n",
      "Incorrect password! try again\n",
      "Enter your password: 1234\n",
      "Finally! You did it, Welcome on the site\n"
     ]
    }
   ],
   "source": [
    "#nested if-else\n",
    "email = input(\"Enter your email: \")\n",
    "password = input(\"Enter your password: \")\n",
    "\n",
    "if email == 'ayeshanoreen.doc@gmail.com' and password == '1234':\n",
    "    print(\"Welcome! on the site.\")\n",
    "elif email == 'ayeshanoreen.doc@gmail.com' and password != '1234':\n",
    "    print(\"Incorrect password! try again\")\n",
    "    password = input(\"Enter your password: \")\n",
    "    if password == '1234':\n",
    "        print(\"Finally! You did it, Welcome on the site\")\n",
    "    else:\n",
    "        print(\"Attempts over...\")\n",
    "else:\n",
    "    print(\"Incorrect credentials\")"
   ]
  },
  {
   "cell_type": "code",
   "execution_count": 25,
   "id": "be2239e3",
   "metadata": {},
   "outputs": [
    {
     "name": "stdout",
     "output_type": "stream",
     "text": [
      "Enter num1: 5\n",
      "Enter num2: 3\n",
      "Enter num3: 1\n",
      "Minimum number is: 1\n"
     ]
    }
   ],
   "source": [
    "# program 2: find the minimum of 3 numbers.\n",
    "\n",
    "# take input from the user\n",
    "num1 = int(input(\"Enter num1: \"))\n",
    "num2 = int(input(\"Enter num2: \"))\n",
    "num3 = int(input(\"Enter num3: \"))\n",
    "\n",
    "# checking 1st number is minimum or not\n",
    "if num1 < num2 and num1 < num3:\n",
    "    print(f'Minimum number is: {num1}')\n",
    "elif num2 < num3:\n",
    "    print(f'Minimum number is: {num2}')\n",
    "else:\n",
    "    print(f'Minimum number is: {num3}')\n"
   ]
  },
  {
   "cell_type": "code",
   "execution_count": 27,
   "id": "95323aae",
   "metadata": {},
   "outputs": [
    {
     "name": "stdout",
     "output_type": "stream",
     "text": [
      "Enter 1st number: 45\n",
      "Enter 2nd number: 7\n",
      "press '*' to perform multiplication.\n",
      "press '+' to perform Addition.\n",
      "press '-' to perform Subtraction.\n",
      "press '/' to perform Division.\n",
      "press '%' to perform Remainder.\n",
      "press '//' to perform Integer Division.\n",
      "press '**' to perform power off.\n",
      "Enter operator: %\n",
      "The result is: 3\n"
     ]
    }
   ],
   "source": [
    "# program 3: menue driven calculator\n",
    "a = int(input(\"Enter 1st number: \"))\n",
    "b = int(input(\"Enter 2nd number: \"))\n",
    "\n",
    "print(\"press '*' to perform multiplication.\")\n",
    "print(\"press '+' to perform Addition.\")\n",
    "print(\"press '-' to perform Subtraction.\")\n",
    "print(\"press '/' to perform Division.\")\n",
    "print(\"press '%' to perform Remainder.\")\n",
    "print(\"press '//' to perform Integer Division.\")\n",
    "print(\"press '**' to perform power off.\")\n",
    "\n",
    "op = input(\"Enter operator: \")\n",
    "\n",
    "if op == '+':\n",
    "    print(f'The result is: {a+b}')\n",
    "elif op == '-':\n",
    "    print(f'The result is: {a-b}')\n",
    "elif op == '*':\n",
    "    print(f'The result is: {a*b}')\n",
    "elif op == '/':\n",
    "    print(f'The result is: {a/b}')\n",
    "elif op == '%':\n",
    "    print(f'The result is: {a%b}')\n",
    "elif op == '//':\n",
    "    print(f'The result is: {a//b}')\n",
    "elif op == '**':\n",
    "    print(f'The result is: {a**b}')\n",
    "else:\n",
    "    print(f'Please! Enter the correct operator.')"
   ]
  },
  {
   "cell_type": "markdown",
   "id": "99ed7c47",
   "metadata": {},
   "source": [
    "# Loops in pyhton\n",
    "while loop\n",
    "\n",
    "for loop\n",
    "\n",
    "nested for loop"
   ]
  },
  {
   "cell_type": "code",
   "execution_count": 32,
   "id": "e0858fae",
   "metadata": {},
   "outputs": [
    {
     "name": "stdout",
     "output_type": "stream",
     "text": [
      "Enter a number: 24\n",
      "24 * 1 = 24\n",
      "24 * 2 = 48\n",
      "24 * 3 = 72\n",
      "24 * 4 = 96\n",
      "24 * 5 = 120\n",
      "24 * 6 = 144\n",
      "24 * 7 = 168\n",
      "24 * 8 = 192\n",
      "24 * 9 = 216\n",
      "24 * 10 = 240\n"
     ]
    }
   ],
   "source": [
    "# while loop\n",
    "\n",
    "# let's understand it through an example\n",
    "\n",
    "# Example: printing table of a number upto 10 iterations\n",
    "\n",
    "# taking number for the table we want print\n",
    "num = int(input(\"Enter a number: \"))\n",
    "\n",
    "# initial value of range\n",
    "i = 1\n",
    "\n",
    "while i <= 10:\n",
    "    print(f'{num} * {i} = {num * i}')\n",
    "    i += 1"
   ]
  },
  {
   "cell_type": "code",
   "execution_count": 40,
   "id": "868abbbe",
   "metadata": {},
   "outputs": [
    {
     "name": "stdout",
     "output_type": "stream",
     "text": [
      "Enter a number: 498\n",
      "21\n"
     ]
    }
   ],
   "source": [
    "# Program: Sum of all digits of a given number\n",
    "\n",
    "num = int(input(\"Enter a number: \"))\n",
    "sum = 0\n",
    "while num != 0:\n",
    "    temp = num % 10\n",
    "    sum += temp\n",
    "    num = num // 10\n",
    "\n",
    "print(sum)\n"
   ]
  },
  {
   "cell_type": "code",
   "execution_count": 5,
   "id": "bc7d12ea",
   "metadata": {},
   "outputs": [
    {
     "name": "stdout",
     "output_type": "stream",
     "text": [
      "Enter a number: 7\n",
      "Enter a number: 3\n",
      "Enter a number: 9\n",
      "Enter a number: 2\n",
      "Enter a number: 0\n",
      "the average of all the number is: 4.2\n"
     ]
    }
   ],
   "source": [
    "# Program: keep accepting numbers from users till he/she enters a 0 and then find the average\n",
    " \n",
    "num = int(input(\"Enter a number: \"))\n",
    "sum = 0\n",
    "counter = 1\n",
    "while num != 0:\n",
    "    sum += num\n",
    "    num = int(input(\"Enter a number: \"))\n",
    "    counter += 1\n",
    "print(f'the average of all the number is: {sum / counter}')\n",
    "    "
   ]
  },
  {
   "cell_type": "code",
   "execution_count": 6,
   "id": "1b71613f",
   "metadata": {},
   "outputs": [
    {
     "name": "stdout",
     "output_type": "stream",
     "text": [
      "1\n",
      "2\n",
      "3\n",
      "4\n",
      "Limit exceeded.\n"
     ]
    }
   ],
   "source": [
    "# while loop with else\n",
    "i = 1\n",
    "\n",
    "while i < 5:\n",
    "    print(i)\n",
    "    i += 1\n",
    "else:\n",
    "    print(\"Limit exceeded.\")"
   ]
  },
  {
   "cell_type": "code",
   "execution_count": 8,
   "id": "cbfb860a",
   "metadata": {},
   "outputs": [
    {
     "name": "stdout",
     "output_type": "stream",
     "text": [
      "Enter guessing number: 80\n",
      "Wrong guess!, guess lower number.\n",
      "Enter guessing number: 70\n",
      "Wring guess!, guess higher number.\n",
      "Enter guessing number: 75\n",
      "Wrong guess!, guess lower number.\n",
      "Enter guessing number: 73\n",
      "Wrong guess!, guess lower number.\n",
      "Enter guessing number: 71\n",
      "Wring guess!, guess higher number.\n",
      "Enter guessing number: 72\n",
      "Hurray! you guessed the correct number\n",
      "You guess the correct number in 6 attempts.\n"
     ]
    }
   ],
   "source": [
    "# program: Guessing game\n",
    "\n",
    "# generate a random integer between 1 and 100, and then guess that number\n",
    "# importing random module to generate random num\n",
    "import random\n",
    "\n",
    "# generating random number and storing it into 'jackpot' variable \n",
    "jackpot = random.randint(1, 100)\n",
    "\n",
    "# enter guessing number\n",
    "guess_num = int(input(\"Enter guessing number: \"))\n",
    "counter = 1\n",
    "\n",
    "while guess_num != jackpot:\n",
    "    if guess_num < jackpot:\n",
    "        print(\"Wring guess!, guess higher number.\")\n",
    "    elif guess_num > jackpot:\n",
    "        print(\"Wrong guess!, guess lower number.\")\n",
    "    guess_num = int(input(\"Enter guessing number: \"))\n",
    "    counter += 1\n",
    "else:\n",
    "    print(\"Hurray! you guessed the correct number\")\n",
    "    print(f'You guess the correct number in {counter} attempts.')\n",
    "    "
   ]
  },
  {
   "cell_type": "code",
   "execution_count": 9,
   "id": "9534daeb",
   "metadata": {},
   "outputs": [
    {
     "name": "stdout",
     "output_type": "stream",
     "text": [
      "1\n",
      "2\n",
      "3\n",
      "4\n",
      "5\n"
     ]
    }
   ],
   "source": [
    "# for loop\n",
    "for i in [1, 2, 3, 4, 5]:\n",
    "    print(i)"
   ]
  },
  {
   "cell_type": "code",
   "execution_count": 17,
   "id": "2b7ec44d",
   "metadata": {},
   "outputs": [
    {
     "name": "stdout",
     "output_type": "stream",
     "text": [
      "10 = 10000\n",
      "9 = 9000.0\n",
      "8 = 8100.0\n",
      "7 = 7290.0\n",
      "6 = 6561.0\n",
      "5 = 5904.9\n",
      "4 = 5314.41\n",
      "3 = 4782.969\n",
      "2 = 4304.6721\n",
      "1 = 3874.20489\n"
     ]
    }
   ],
   "source": [
    "# let's do an example for further understanding of for loop\n",
    "# Program:  The current population of a town is 10000. The population of the town is increasing at the rate of 10% per year, \n",
    "# You have to write a program to find out the population at the end of each of the last 10 years.\n",
    "current_population = 10000\n",
    "\n",
    "for i in range(10, 0, -1):\n",
    "    print(f'{i} = {current_population}')\n",
    "    current_population = current_population - 0.1 * current_population"
   ]
  },
  {
   "cell_type": "code",
   "execution_count": null,
   "id": "e4546371",
   "metadata": {},
   "outputs": [],
   "source": []
  }
 ],
 "metadata": {
  "kernelspec": {
   "display_name": "Python 3 (ipykernel)",
   "language": "python",
   "name": "python3"
  },
  "language_info": {
   "codemirror_mode": {
    "name": "ipython",
    "version": 3
   },
   "file_extension": ".py",
   "mimetype": "text/x-python",
   "name": "python",
   "nbconvert_exporter": "python",
   "pygments_lexer": "ipython3",
   "version": "3.9.16"
  }
 },
 "nbformat": 4,
 "nbformat_minor": 5
}
