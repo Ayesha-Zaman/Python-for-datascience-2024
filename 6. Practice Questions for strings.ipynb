{
 "cells": [
  {
   "cell_type": "code",
   "execution_count": 2,
   "id": "43a696d1",
   "metadata": {},
   "outputs": [
    {
     "name": "stdout",
     "output_type": "stream",
     "text": [
      "Enter any string: data science\n",
      "length of the string is: 12\n"
     ]
    }
   ],
   "source": [
    "# Example 1: Find the length of a given string without using the len() function\n",
    "\n",
    "\n",
    "s = input(\"Enter any string: \")\n",
    "\n",
    "counter = 0\n",
    "\n",
    "for i in s:\n",
    "    counter = counter + 1\n",
    "    \n",
    "print('length of the string is: {}'.format(counter))"
   ]
  },
  {
   "cell_type": "code",
   "execution_count": 6,
   "id": "a1d1b0ff",
   "metadata": {},
   "outputs": [
    {
     "name": "stdout",
     "output_type": "stream",
     "text": [
      "Enter your email: ayeshanoreen@gmail.com\n",
      "username is: ayeshanoreen\n"
     ]
    }
   ],
   "source": [
    "# Example 2: Extract username from a given email. Eg if the email is ayeshanoreen@gmail.com \n",
    "# then the username should be ayeshanoreen\n",
    "\n",
    "email = input(\"Enter your email: \")\n",
    "\n",
    "pos = email.index('@')\n",
    "user = email[0: pos]\n",
    "\n",
    "print('username is: {}'.format(user))"
   ]
  },
  {
   "cell_type": "code",
   "execution_count": 10,
   "id": "6c8911c4",
   "metadata": {},
   "outputs": [
    {
     "name": "stdout",
     "output_type": "stream",
     "text": [
      "Enter string: data science\n",
      "Enter character you would like to search for: a\n",
      "Frequency of a in the string is: 2\n"
     ]
    }
   ],
   "source": [
    "# Example 3: Count the frequency of a particular character in a provided string. \n",
    "# Eg 'hello how are you' is the string, the frequency of h in this string is 2.\n",
    "\n",
    "s = input(\"Enter string: \")\n",
    "ch = input(\"Enter character you would like to search for: \")\n",
    "\n",
    "frequency = 0\n",
    "\n",
    "for i in s:\n",
    "    if ch == i:\n",
    "        frequency += 1\n",
    "print('Frequency of {} in the string is: {}'.format(ch, frequency))"
   ]
  },
  {
   "cell_type": "code",
   "execution_count": 14,
   "id": "b7ba72cd",
   "metadata": {},
   "outputs": [
    {
     "name": "stdout",
     "output_type": "stream",
     "text": [
      "Enter string: data science\n",
      "Enter a character you would like to remove: i\n",
      "string after removel of character is: 'data scence'\n"
     ]
    }
   ],
   "source": [
    "# Example 4: Write a program which can remove a particular character from a string.\n",
    "\n",
    "s = input(\"Enter string: \")\n",
    "ch = input(\"Enter a character you would like to remove: \")\n",
    "\n",
    "n_s = ''\n",
    "\n",
    "for i in s:\n",
    "    if i == ch:\n",
    "        continue\n",
    "    else:\n",
    "        n_s = n_s + i\n",
    "\n",
    "print(\"string after removel of character is: '{}'\".format(n_s))"
   ]
  },
  {
   "cell_type": "code",
   "execution_count": 18,
   "id": "71871a49",
   "metadata": {},
   "outputs": [
    {
     "name": "stdout",
     "output_type": "stream",
     "text": [
      "Enter a string: racecar\n",
      "Given string is a palindrome.\n"
     ]
    }
   ],
   "source": [
    "# Example 5: Write a program that can check whether a given string is palindrome or not.\n",
    "# noon\n",
    "# wow\n",
    "# racecar\n",
    "\n",
    "s = input(\"Enter a string: \")\n",
    "\n",
    "for i in range(0, len(s) // 2):\n",
    "    if s[i] != s[(len(s) -i -1)]:\n",
    "        print('Given string is not a palindrome.')\n",
    "        break\n",
    "else:\n",
    "    print('Given string is a palindrome.')"
   ]
  },
  {
   "cell_type": "code",
   "execution_count": 23,
   "id": "e4398f0f",
   "metadata": {},
   "outputs": [
    {
     "name": "stdout",
     "output_type": "stream",
     "text": [
      "Enter a string: I'm student of data science.\n",
      "string contains 5 words\n"
     ]
    }
   ],
   "source": [
    "# Example 5: Write a program to count the number of words in a string without split()\n",
    "\n",
    "s = input(\"Enter a string: \")\n",
    "\n",
    "counter = 1\n",
    "\n",
    "for i in s:\n",
    "    if i == ' ':\n",
    "        counter = counter + 1\n",
    "\n",
    "print('string contains {} words'.format(counter))"
   ]
  },
  {
   "cell_type": "code",
   "execution_count": 31,
   "id": "c6d602b4",
   "metadata": {},
   "outputs": [
    {
     "name": "stdout",
     "output_type": "stream",
     "text": [
      "Enter a string: I'm student of data science\n",
      "[\"I'm\", 'student', 'of', 'data', 'science']\n"
     ]
    }
   ],
   "source": [
    "# Example 6: Write a program to separate the number of words in a string without split()\n",
    "\n",
    "s = input(\"Enter a string: \")\n",
    "\n",
    "L = []\n",
    "\n",
    "word = ''\n",
    "\n",
    "for i in s:\n",
    "    if i != ' ':\n",
    "        word = word + i\n",
    "    \n",
    "    else:\n",
    "        L.append(word)\n",
    "        word = ''\n",
    "L.append(word)\n",
    "print(L)\n",
    "    "
   ]
  },
  {
   "cell_type": "code",
   "execution_count": 36,
   "id": "d35aca73",
   "metadata": {},
   "outputs": [
    {
     "name": "stdout",
     "output_type": "stream",
     "text": [
      "Enter a string: data science\n",
      "Data Science\n"
     ]
    }
   ],
   "source": [
    "# Example 7: Write a python program to convert a string to title case without using the title()\n",
    "\n",
    "s = input(\"Enter a string: \")\n",
    "\n",
    "L = []\n",
    "\n",
    "word = ''\n",
    "\n",
    "for i in s:\n",
    "    if i != ' ':\n",
    "        word = word + i\n",
    "    \n",
    "    else:\n",
    "        L.append(word.capitalize())\n",
    "        word = ''\n",
    "L.append(word.capitalize())\n",
    "print(' '.join(L))"
   ]
  },
  {
   "cell_type": "code",
   "execution_count": 39,
   "id": "61da84db",
   "metadata": {},
   "outputs": [
    {
     "name": "stdout",
     "output_type": "stream",
     "text": [
      "enter the number546321098\n",
      "546321098\n",
      "<class 'str'>\n"
     ]
    }
   ],
   "source": [
    "# Example 8: Write a program that can convert an integer to string.\n",
    "\n",
    "num = int(input('enter the number'))\n",
    "\n",
    "digits = '0123456789'\n",
    "result = ''\n",
    "while num != 0:\n",
    "    result = digits[num % 10] + result\n",
    "    num = num//10\n",
    "\n",
    "print(result)\n",
    "print(type(result))"
   ]
  },
  {
   "cell_type": "code",
   "execution_count": null,
   "id": "f844d35c",
   "metadata": {},
   "outputs": [],
   "source": []
  }
 ],
 "metadata": {
  "kernelspec": {
   "display_name": "Python 3 (ipykernel)",
   "language": "python",
   "name": "python3"
  },
  "language_info": {
   "codemirror_mode": {
    "name": "ipython",
    "version": 3
   },
   "file_extension": ".py",
   "mimetype": "text/x-python",
   "name": "python",
   "nbconvert_exporter": "python",
   "pygments_lexer": "ipython3",
   "version": "3.9.16"
  }
 },
 "nbformat": 4,
 "nbformat_minor": 5
}
